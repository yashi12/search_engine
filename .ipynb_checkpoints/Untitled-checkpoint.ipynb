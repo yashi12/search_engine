{
 "cells": [
  {
   "cell_type": "code",
   "execution_count": null,
   "id": "23b0af33-494b-4080-ab94-54c0b5572ce8",
   "metadata": {},
   "outputs": [],
   "source": [
    "import nlu \n",
    "nlu.load('sentiment').predict('I love NLU! <3') "
   ]
  },
  {
   "cell_type": "code",
   "execution_count": null,
   "id": "46b532ee-0c4e-429f-8ddb-10e344b722be",
   "metadata": {},
   "outputs": [],
   "source": []
  }
 ],
 "metadata": {
  "kernelspec": {
   "display_name": "Python 3 (ipykernel)",
   "language": "python",
   "name": "python3"
  },
  "language_info": {
   "codemirror_mode": {
    "name": "ipython",
    "version": 3
   },
   "file_extension": ".py",
   "mimetype": "text/x-python",
   "name": "python",
   "nbconvert_exporter": "python",
   "pygments_lexer": "ipython3",
   "version": "3.7.0"
  }
 },
 "nbformat": 4,
 "nbformat_minor": 5
}
