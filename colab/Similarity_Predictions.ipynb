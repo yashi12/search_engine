{
  "nbformat": 4,
  "nbformat_minor": 0,
  "metadata": {
    "colab": {
      "name": "Similarity Predictions.ipynb",
      "provenance": [],
      "collapsed_sections": []
    },
    "kernelspec": {
      "name": "python3",
      "display_name": "Python 3"
    },
    "language_info": {
      "name": "python"
    }
  },
  "cells": [
    {
      "cell_type": "code",
      "metadata": {
        "colab": {
          "base_uri": "https://localhost:8080/"
        },
        "id": "8LZGKE6vyIHz",
        "outputId": "08b19a18-d88d-47d2-91bc-2010b6820982"
      },
      "source": [
        "import os\n",
        "! apt-get update -qq > /dev/null   \n",
        "! apt-get install -y openjdk-8-jdk-headless -qq > /dev/null\n",
        "os.environ[\"JAVA_HOME\"] = \"/usr/lib/jvm/java-8-openjdk-amd64\"\n",
        "os.environ[\"PATH\"] = os.environ[\"JAVA_HOME\"] + \"/bin:\" + os.environ[\"PATH\"]\n",
        "!pip install nlu  pyspark==2.4.7 > /dev/null   \n",
        "!pip install flask_ngrok\n",
        "import nlu"
      ],
      "execution_count": null,
      "outputs": [
        {
          "output_type": "stream",
          "name": "stdout",
          "text": [
            "Requirement already satisfied: flask_ngrok in /usr/local/lib/python3.7/dist-packages (0.0.25)\n",
            "Requirement already satisfied: requests in /usr/local/lib/python3.7/dist-packages (from flask_ngrok) (2.23.0)\n",
            "Requirement already satisfied: Flask>=0.8 in /usr/local/lib/python3.7/dist-packages (from flask_ngrok) (1.1.4)\n",
            "Requirement already satisfied: itsdangerous<2.0,>=0.24 in /usr/local/lib/python3.7/dist-packages (from Flask>=0.8->flask_ngrok) (1.1.0)\n",
            "Requirement already satisfied: Werkzeug<2.0,>=0.15 in /usr/local/lib/python3.7/dist-packages (from Flask>=0.8->flask_ngrok) (1.0.1)\n",
            "Requirement already satisfied: click<8.0,>=5.1 in /usr/local/lib/python3.7/dist-packages (from Flask>=0.8->flask_ngrok) (7.1.2)\n",
            "Requirement already satisfied: Jinja2<3.0,>=2.10.1 in /usr/local/lib/python3.7/dist-packages (from Flask>=0.8->flask_ngrok) (2.11.3)\n",
            "Requirement already satisfied: MarkupSafe>=0.23 in /usr/local/lib/python3.7/dist-packages (from Jinja2<3.0,>=2.10.1->Flask>=0.8->flask_ngrok) (2.0.1)\n",
            "Requirement already satisfied: chardet<4,>=3.0.2 in /usr/local/lib/python3.7/dist-packages (from requests->flask_ngrok) (3.0.4)\n",
            "Requirement already satisfied: idna<3,>=2.5 in /usr/local/lib/python3.7/dist-packages (from requests->flask_ngrok) (2.10)\n",
            "Requirement already satisfied: urllib3!=1.25.0,!=1.25.1,<1.26,>=1.21.1 in /usr/local/lib/python3.7/dist-packages (from requests->flask_ngrok) (1.24.3)\n",
            "Requirement already satisfied: certifi>=2017.4.17 in /usr/local/lib/python3.7/dist-packages (from requests->flask_ngrok) (2021.10.8)\n"
          ]
        }
      ]
    },
    {
      "cell_type": "code",
      "metadata": {
        "id": "9dN1cZ6KDHKl"
      },
      "source": [
        "API = \"http://ec2-65-2-29-164.ap-south-1.compute.amazonaws.com:5000/api/\""
      ],
      "execution_count": null,
      "outputs": []
    },
    {
      "cell_type": "code",
      "metadata": {
        "colab": {
          "base_uri": "https://localhost:8080/"
        },
        "id": "JgL1q1tUyOJk",
        "outputId": "cb2d484c-8428-48f9-e837-56eeeae1cce2"
      },
      "source": [
        "from flask import Flask,request,jsonify\n",
        "from flask_ngrok import run_with_ngrok\n",
        "from sklearn.metrics.pairwise import cosine_similarity\n",
        "\n",
        "import requests\n",
        "\n",
        "app = Flask(__name__)\n",
        "run_with_ngrok(app)\n",
        "\n",
        "multi_pipe = None\n",
        "col_names = ['sentence_embedding_bert','sentence_embedding_electra', 'sentence_embedding_use']\n",
        "\n",
        "@app.route(\"/load-api\")\n",
        "def loadAPI():\n",
        "    try:\n",
        "        global multi_pipe\n",
        "        multi_pipe = nlu.load('use en.embed_sentence.electra embed_sentence.bert')\n",
        "        return {\"status\" : 200},200\n",
        "    except:\n",
        "        return {\"status\" : 500},500\n",
        "\n",
        "@app.route(\"/generate-predictions\",methods = ['GET', 'POST'])\n",
        "def genearatePredictions():\n",
        "\n",
        "    title = request.form['title']\n",
        "    \n",
        "    if title and multi_pipe:\n",
        "        predictions = multi_pipe.predict(title,get_embeddings=True).iloc[0]\n",
        "        \n",
        "        response = {}\n",
        "\n",
        "        for col_name in col_names:\n",
        "            response[col_name] = list(predictions[col_name][0])\n",
        "        \n",
        "        return { \"predictions\" : response ,\"status\" : 201},201\n",
        "    else:\n",
        "        return { \"error\" :\"ERROR\" ,\"status\" : 500}, 500\n",
        "\n",
        "@app.route(\"/get-similar-questions\",methods=['GET','POST'])\n",
        "def getSimilarQuestions():\n",
        "    data = requests.get(API+\"discussion/predictions\").json()\n",
        "    embeddings = request.form['predictions']\n",
        "\n",
        "    if data['status'] == 200 and embeddings:\n",
        "        predictions = data['predictions']\n",
        "        for i in range(len(predictions)):\n",
        "            similarity = 0\n",
        "            for e_col in col_names:\n",
        "                if e_col in predictions[i] and e_col in embeddings:\n",
        "                    similarity += cosine_similarity(predictions[i][e_col],embeddings[e_col]) \n",
        "\n",
        "            predictions[i]['similarity_score'] = similarity/len(col_names)\n",
        "        \n",
        "        return {\"similarQuestions\" : sorted(predictions,key = lambda x : x['similarity_score'],reverse=True)[:3] , \"status\" : 201} , 201\n",
        "    else:\n",
        "        return { \"status\" : 500,\"error\" :\"ERROR\"}, 500\n",
        "\n",
        "app.run()"
      ],
      "execution_count": null,
      "outputs": [
        {
          "output_type": "stream",
          "name": "stdout",
          "text": [
            " * Serving Flask app \"__main__\" (lazy loading)\n",
            " * Environment: production\n",
            "\u001b[31m   WARNING: This is a development server. Do not use it in a production deployment.\u001b[0m\n",
            "\u001b[2m   Use a production WSGI server instead.\u001b[0m\n",
            " * Debug mode: off\n"
          ]
        },
        {
          "output_type": "stream",
          "name": "stderr",
          "text": [
            " * Running on http://127.0.0.1:5000/ (Press CTRL+C to quit)\n"
          ]
        },
        {
          "output_type": "stream",
          "name": "stdout",
          "text": [
            " * Running on http://7d28-34-86-229-159.ngrok.io\n",
            " * Traffic stats available on http://127.0.0.1:4040\n"
          ]
        },
        {
          "output_type": "stream",
          "name": "stderr",
          "text": [
            "127.0.0.1 - - [26/Nov/2021 16:51:23] \"\u001b[35m\u001b[1mPOST /generate-predictions HTTP/1.1\u001b[0m\" 500 -\n",
            "127.0.0.1 - - [26/Nov/2021 16:51:24] \"\u001b[37mPOST /get-similar-questions HTTP/1.1\u001b[0m\" 201 -\n"
          ]
        },
        {
          "output_type": "stream",
          "name": "stdout",
          "text": [
            "[{'predictions': {'sentence_embedding_bert': [], 'sentence_embedding_electra': [], 'sentence_embedding_use': []}, '_id': '61a1089796b029268c26db06'}]\n"
          ]
        },
        {
          "output_type": "stream",
          "name": "stderr",
          "text": [
            "127.0.0.1 - - [26/Nov/2021 16:53:30] \"\u001b[35m\u001b[1mPOST /generate-predictions HTTP/1.1\u001b[0m\" 500 -\n",
            "127.0.0.1 - - [26/Nov/2021 16:53:32] \"\u001b[37mPOST /get-similar-questions HTTP/1.1\u001b[0m\" 201 -\n"
          ]
        },
        {
          "output_type": "stream",
          "name": "stdout",
          "text": [
            "[{'predictions': {'sentence_embedding_bert': [], 'sentence_embedding_electra': [], 'sentence_embedding_use': []}, '_id': '61a1089796b029268c26db06'}, {'predictions': {'sentence_embedding_bert': [], 'sentence_embedding_electra': [], 'sentence_embedding_use': []}, '_id': '61a1108caa807637d4cc7450'}]\n"
          ]
        },
        {
          "output_type": "stream",
          "name": "stderr",
          "text": [
            "127.0.0.1 - - [26/Nov/2021 16:54:30] \"\u001b[35m\u001b[1mPOST /generate-predictions HTTP/1.1\u001b[0m\" 500 -\n",
            "127.0.0.1 - - [26/Nov/2021 16:54:31] \"\u001b[37mPOST /get-similar-questions HTTP/1.1\u001b[0m\" 201 -\n"
          ]
        },
        {
          "output_type": "stream",
          "name": "stdout",
          "text": [
            "[{'predictions': {'sentence_embedding_bert': [], 'sentence_embedding_electra': [], 'sentence_embedding_use': []}, '_id': '61a1089796b029268c26db06'}, {'predictions': {'sentence_embedding_bert': [], 'sentence_embedding_electra': [], 'sentence_embedding_use': []}, '_id': '61a1108caa807637d4cc7450'}, {'predictions': {'sentence_embedding_bert': [], 'sentence_embedding_electra': [], 'sentence_embedding_use': []}, '_id': '61a1110ce421e512b8a29c9f'}]\n"
          ]
        },
        {
          "output_type": "stream",
          "name": "stderr",
          "text": [
            "127.0.0.1 - - [26/Nov/2021 16:55:28] \"\u001b[35m\u001b[1mPOST /generate-predictions HTTP/1.1\u001b[0m\" 500 -\n",
            "127.0.0.1 - - [26/Nov/2021 16:55:29] \"\u001b[37mPOST /get-similar-questions HTTP/1.1\u001b[0m\" 201 -\n"
          ]
        },
        {
          "output_type": "stream",
          "name": "stdout",
          "text": [
            "[{'predictions': {'sentence_embedding_bert': [], 'sentence_embedding_electra': [], 'sentence_embedding_use': []}, '_id': '61a1089796b029268c26db06'}, {'predictions': {'sentence_embedding_bert': [], 'sentence_embedding_electra': [], 'sentence_embedding_use': []}, '_id': '61a1108caa807637d4cc7450'}, {'predictions': {'sentence_embedding_bert': [], 'sentence_embedding_electra': [], 'sentence_embedding_use': []}, '_id': '61a1110ce421e512b8a29c9f'}, {'predictions': {'sentence_embedding_bert': [], 'sentence_embedding_electra': [], 'sentence_embedding_use': []}, '_id': '61a11147444f8d311c033a60'}]\n"
          ]
        },
        {
          "output_type": "stream",
          "name": "stderr",
          "text": [
            "127.0.0.1 - - [26/Nov/2021 16:55:46] \"\u001b[35m\u001b[1mPOST /generate-predictions HTTP/1.1\u001b[0m\" 500 -\n",
            "127.0.0.1 - - [26/Nov/2021 16:55:47] \"\u001b[37mPOST /get-similar-questions HTTP/1.1\u001b[0m\" 201 -\n"
          ]
        },
        {
          "output_type": "stream",
          "name": "stdout",
          "text": [
            "[{'predictions': {'sentence_embedding_bert': [], 'sentence_embedding_electra': [], 'sentence_embedding_use': []}, '_id': '61a1089796b029268c26db06'}, {'predictions': {'sentence_embedding_bert': [], 'sentence_embedding_electra': [], 'sentence_embedding_use': []}, '_id': '61a1108caa807637d4cc7450'}, {'predictions': {'sentence_embedding_bert': [], 'sentence_embedding_electra': [], 'sentence_embedding_use': []}, '_id': '61a1110ce421e512b8a29c9f'}, {'predictions': {'sentence_embedding_bert': [], 'sentence_embedding_electra': [], 'sentence_embedding_use': []}, '_id': '61a11147444f8d311c033a60'}, {'predictions': {'sentence_embedding_bert': [], 'sentence_embedding_electra': [], 'sentence_embedding_use': []}, '_id': '61a1118296b24f160015b1a8'}]\n",
            "tfhub_use download started this may take some time.\n",
            "Approximate size to download 923.7 MB\n",
            "[OK!]\n",
            "sent_electra_small_uncased download started this may take some time.\n",
            "Approximate size to download 48.7 MB\n",
            "[OK!]\n",
            "sent_small_bert_L2_128 download started this may take some time.\n",
            "Approximate size to download 16.1 MB\n",
            "[OK!]\n",
            "sentence_detector_dl download started this may take some time.\n",
            "Approximate size to download 354.6 KB\n",
            "[OK!]"
          ]
        },
        {
          "output_type": "stream",
          "name": "stderr",
          "text": [
            "127.0.0.1 - - [26/Nov/2021 16:56:34] \"\u001b[37mGET /load-api HTTP/1.1\u001b[0m\" 200 -\n"
          ]
        },
        {
          "output_type": "stream",
          "name": "stdout",
          "text": [
            "\n",
            "tfhub_use download started this may take some time.\n",
            "Approximate size to download 923.7 MB\n",
            "[OK!]\n",
            "sent_electra_small_uncased download started this may take some time.\n",
            "Approximate size to download 48.7 MB\n",
            "[OK!]\n",
            "sent_small_bert_L2_128 download started this may take some time.\n",
            "Approximate size to download 16.1 MB\n",
            "[OK!]\n",
            "sentence_detector_dl download started this may take some time.\n",
            "Approximate size to download 354.6 KB\n",
            "[OK!]"
          ]
        },
        {
          "output_type": "stream",
          "name": "stderr",
          "text": [
            "127.0.0.1 - - [26/Nov/2021 16:56:52] \"\u001b[37mGET /load-api HTTP/1.1\u001b[0m\" 200 -\n"
          ]
        },
        {
          "output_type": "stream",
          "name": "stdout",
          "text": [
            "\n"
          ]
        },
        {
          "output_type": "stream",
          "name": "stderr",
          "text": [
            "127.0.0.1 - - [26/Nov/2021 16:56:59] \"\u001b[37mPOST /generate-predictions HTTP/1.1\u001b[0m\" 201 -\n",
            "127.0.0.1 - - [26/Nov/2021 16:57:01] \"\u001b[37mPOST /get-similar-questions HTTP/1.1\u001b[0m\" 201 -\n"
          ]
        },
        {
          "output_type": "stream",
          "name": "stdout",
          "text": [
            "[{'predictions': {'sentence_embedding_bert': [], 'sentence_embedding_electra': [], 'sentence_embedding_use': []}, '_id': '61a1089796b029268c26db06'}, {'predictions': {'sentence_embedding_bert': [], 'sentence_embedding_electra': [], 'sentence_embedding_use': []}, '_id': '61a1108caa807637d4cc7450'}, {'predictions': {'sentence_embedding_bert': [], 'sentence_embedding_electra': [], 'sentence_embedding_use': []}, '_id': '61a1110ce421e512b8a29c9f'}, {'predictions': {'sentence_embedding_bert': [], 'sentence_embedding_electra': [], 'sentence_embedding_use': []}, '_id': '61a11147444f8d311c033a60'}, {'predictions': {'sentence_embedding_bert': [], 'sentence_embedding_electra': [], 'sentence_embedding_use': []}, '_id': '61a1118296b24f160015b1a8'}, {'predictions': {'sentence_embedding_bert': [], 'sentence_embedding_electra': [], 'sentence_embedding_use': []}, '_id': '61a11194af276e39ec6cc194'}]\n"
          ]
        }
      ]
    },
    {
      "cell_type": "code",
      "metadata": {
        "id": "u7WbCAFgEmCX"
      },
      "source": [
        ""
      ],
      "execution_count": null,
      "outputs": []
    }
  ]
}