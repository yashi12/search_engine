{
 "cells": [
  {
   "cell_type": "code",
   "execution_count": 36,
   "metadata": {},
   "outputs": [],
   "source": [
    "import re\n",
    "import pandas as pd\n",
    "import numpy as np"
   ]
  },
  {
   "cell_type": "code",
   "execution_count": 48,
   "metadata": {},
   "outputs": [],
   "source": [
    "# Word And Sentence Tokenmization & Stop Removal \n",
    "def SentenceTokenization(text):\n",
    "    sentences = re.compile('[.!?] ').split(text)\n",
    "    return sentences\n",
    "\n",
    "def WordTokenization(sentence):\n",
    "    tokens = re.findall(\"[\\w']+\", sentence)\n",
    "    return tokens\n",
    "\n",
    "def StopWordRemoval(allwords):\n",
    "    stopwords = []\n",
    "    with open(\"stopwords.txt\", 'r') as f:\n",
    "        stopwords = f.read()\n",
    "    stopwords = stopwords.split(\"\\n\")\n",
    "    \n",
    "    usefull_words = [word for word in allwords if word not in stopwords]\n",
    "    return usefull_words\n",
    "\n",
    "# Stemming And Lemmatizing\n",
    "def StemmingAndLemmatizing(usefull_words):\n",
    "    l=[]\n",
    "    with open('All_Languages.txt' ,'r+',encoding='utf-8') as f:\n",
    "        l = f.readlines()\n",
    "\n",
    "    new_l  =[]\n",
    "    for i in l:\n",
    "        new_l.append(i[:-1])\n",
    "    languages = new_l\n",
    "\n",
    "    one_keyword_extract = []\n",
    "    for i in range(len(usefull_words)):\n",
    "        for j in range(len(usefull_words[i])):\n",
    "            if usefull_words[i][j].lower() in languages:\n",
    "                one_keyword_extract.append(usefull_words[i][j])\n",
    "    \n",
    "    two_extract_keyword = []\n",
    "    \n",
    "    for i in range(len(usefull_words[0])-1):\n",
    "        if usefull_words[0][i]+\" \"+usefull_words[0][i+1] in languages:\n",
    "            two_extract_keyword.append(usefull_words[0][i]+\" \"+usefull_words[0][i+1])\n",
    "        \n",
    "    return one_keyword_extract,two_extract_keyword\n",
    "\n",
    "def nlp(text):\n",
    "    sentences = SentenceTokenization(text.lower())\n",
    "\n",
    "    words = [] \n",
    "    for sentence in sentences:\n",
    "        words_in_a_sent = WordTokenization(sentence)\n",
    "        words.append(words_in_a_sent)\n",
    "\n",
    "    usefull_words = []\n",
    "    for words_in_a_sentence in words:\n",
    "        usefull_words_in_sent = StopWordRemoval(words_in_a_sentence)\n",
    "        usefull_words.append(usefull_words_in_sent)\n",
    "\n",
    "    one_word_keyword,two_word_keyword = StemmingAndLemmatizing(usefull_words)\n",
    "    return one_word_keyword,two_word_keyword"
   ]
  },
  {
   "cell_type": "code",
   "execution_count": 49,
   "metadata": {},
   "outputs": [
    {
     "data": {
      "text/plain": [
       "(['node', 'js', 'not', 'react'], ['node js'])"
      ]
     },
     "execution_count": 49,
     "metadata": {},
     "output_type": "execute_result"
    }
   ],
   "source": [
    "sent = \"Courses on node js not react\"\n",
    "nlp(sent)"
   ]
  },
  {
   "cell_type": "code",
   "execution_count": 50,
   "metadata": {},
   "outputs": [
    {
     "data": {
      "text/plain": [
       "([], ['data science'])"
      ]
     },
     "execution_count": 50,
     "metadata": {},
     "output_type": "execute_result"
    }
   ],
   "source": [
    "sent = \"How to learn Data Science\"\n",
    "nlp(sent)"
   ]
  },
  {
   "cell_type": "code",
   "execution_count": null,
   "metadata": {},
   "outputs": [],
   "source": []
  }
 ],
 "metadata": {
  "kernelspec": {
   "display_name": "Python 3",
   "language": "python",
   "name": "python3"
  },
  "language_info": {
   "codemirror_mode": {
    "name": "ipython",
    "version": 3
   },
   "file_extension": ".py",
   "mimetype": "text/x-python",
   "name": "python",
   "nbconvert_exporter": "python",
   "pygments_lexer": "ipython3",
   "version": "3.8.5"
  }
 },
 "nbformat": 4,
 "nbformat_minor": 4
}
