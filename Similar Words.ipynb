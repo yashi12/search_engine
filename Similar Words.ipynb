{
 "cells": [
  {
   "cell_type": "code",
   "execution_count": 8,
   "metadata": {},
   "outputs": [],
   "source": [
    "import pyperclip"
   ]
  },
  {
   "cell_type": "code",
   "execution_count": 9,
   "metadata": {},
   "outputs": [],
   "source": [
    "l = []\n",
    "with open(\"All_Languages.txt\",'r+') as f:\n",
    "    l = f.readlines()"
   ]
  },
  {
   "cell_type": "code",
   "execution_count": 10,
   "metadata": {},
   "outputs": [],
   "source": [
    "d = {}\n",
    "for i in l:\n",
    "    d[i[:-1]] = []"
   ]
  },
  {
   "cell_type": "code",
   "execution_count": 11,
   "metadata": {},
   "outputs": [
    {
     "name": "stdout",
     "output_type": "stream",
     "text": [
      "****05ab1e****\n"
     ]
    },
    {
     "name": "stdin",
     "output_type": "stream",
     "text": [
      " Esolang\n",
      " $\n"
     ]
    },
    {
     "name": "stdout",
     "output_type": "stream",
     "text": [
      "****0815****\n"
     ]
    },
    {
     "name": "stdin",
     "output_type": "stream",
     "text": [
      " Esolang\n",
      " $\n"
     ]
    },
    {
     "name": "stdout",
     "output_type": "stream",
     "text": [
      "****1c enterprise****\n"
     ]
    },
    {
     "name": "stdin",
     "output_type": "stream",
     "text": [
      " Windows 7\n",
      " SQL\n",
      " C++\n"
     ]
    },
    {
     "name": "stdout",
     "output_type": "stream",
     "text": [
      "****256****\n"
     ]
    },
    {
     "name": "stdin",
     "output_type": "stream",
     "text": [
      " BASIC\n",
      " BASIC-256\n",
      " $\n"
     ]
    },
    {
     "name": "stdout",
     "output_type": "stream",
     "text": [
      "****2b****\n"
     ]
    },
    {
     "name": "stdin",
     "output_type": "stream",
     "text": [
      " Esolang\n",
      " $\n"
     ]
    },
    {
     "name": "stdout",
     "output_type": "stream",
     "text": [
      "****420****\n"
     ]
    },
    {
     "name": "stdin",
     "output_type": "stream",
     "text": [
      " Esolang\n",
      " $\n"
     ]
    },
    {
     "name": "stdout",
     "output_type": "stream",
     "text": [
      "****4gl****\n"
     ]
    },
    {
     "name": "stdin",
     "output_type": "stream",
     "text": [
      " IBM Informix-4GL\n",
      " MATLAB\n",
      " $\n"
     ]
    },
    {
     "name": "stdout",
     "output_type": "stream",
     "text": [
      "****4test****\n"
     ]
    },
    {
     "name": "stdin",
     "output_type": "stream",
     "text": [
      " $\n"
     ]
    },
    {
     "name": "stdout",
     "output_type": "stream",
     "text": [
      "****4thdimension****\n"
     ]
    },
    {
     "name": "stdin",
     "output_type": "stream",
     "text": [
      " C++\n",
      " C\n",
      " $\n"
     ]
    },
    {
     "name": "stdout",
     "output_type": "stream",
     "text": [
      "****8th****\n"
     ]
    },
    {
     "name": "stdin",
     "output_type": "stream",
     "text": [
      " $\n"
     ]
    },
    {
     "name": "stdout",
     "output_type": "stream",
     "text": [
      "****a++****\n"
     ]
    },
    {
     "name": "stdin",
     "output_type": "stream",
     "text": [
      " ABAP\n",
      " A+\n",
      " Agda\n"
     ]
    },
    {
     "name": "stdout",
     "output_type": "stream",
     "text": [
      "****abap****\n"
     ]
    },
    {
     "name": "stdin",
     "output_type": "stream",
     "text": [
      " COBOL\n",
      " Python\n",
      " Java\n"
     ]
    },
    {
     "name": "stdout",
     "output_type": "stream",
     "text": [
      "****abc****\n"
     ]
    },
    {
     "name": "stdin",
     "output_type": "stream",
     "text": [
      " oberon\n",
      " Java\n",
      " Pascal\n"
     ]
    },
    {
     "name": "stdout",
     "output_type": "stream",
     "text": [
      "****acidic****\n"
     ]
    },
    {
     "name": "stdin",
     "output_type": "stream",
     "text": [
      " Esolang\n",
      " $\n"
     ]
    },
    {
     "name": "stdout",
     "output_type": "stream",
     "text": [
      "****acpi****\n"
     ]
    },
    {
     "name": "stdin",
     "output_type": "stream",
     "text": [
      " OS\n",
      " ASL\n",
      " $\n"
     ]
    },
    {
     "name": "stdout",
     "output_type": "stream",
     "text": [
      "****acronym****\n"
     ]
    },
    {
     "name": "stdin",
     "output_type": "stream",
     "text": [
      " APL\n",
      " CPL\n",
      " DHTML\n"
     ]
    },
    {
     "name": "stdout",
     "output_type": "stream",
     "text": [
      "****acs****\n"
     ]
    },
    {
     "name": "stdin",
     "output_type": "stream",
     "text": [
      " $\n"
     ]
    },
    {
     "name": "stdout",
     "output_type": "stream",
     "text": [
      "****actionscript****\n"
     ]
    },
    {
     "name": "stdin",
     "output_type": "stream",
     "text": [
      " Visual Basic\n",
      " JavaScript\n",
      " C++\n"
     ]
    },
    {
     "name": "stdout",
     "output_type": "stream",
     "text": [
      "****actionscript flashmx****\n"
     ]
    },
    {
     "name": "stdin",
     "output_type": "stream",
     "text": [
      " Visual Basic\n",
      " JavaScript\n",
      " C++\n"
     ]
    },
    {
     "name": "stdout",
     "output_type": "stream",
     "text": [
      "****actionscript2****\n"
     ]
    },
    {
     "name": "stdin",
     "output_type": "stream",
     "text": [
      " ActionScript\n",
      " Visual Basic\n",
      " JavaScript\n"
     ]
    },
    {
     "name": "stdout",
     "output_type": "stream",
     "text": [
      "****actionscript3****\n"
     ]
    },
    {
     "name": "stdin",
     "output_type": "stream",
     "text": [
      " ActionScript\n",
      " Visual Basic\n",
      " JavaScript\n"
     ]
    },
    {
     "name": "stdout",
     "output_type": "stream",
     "text": [
      "****ada****\n"
     ]
    },
    {
     "name": "stdin",
     "output_type": "stream",
     "text": [
      " C++\n",
      " C\n",
      " Pascal\n"
     ]
    },
    {
     "name": "stdout",
     "output_type": "stream",
     "text": [
      "****advpl****\n"
     ]
    },
    {
     "name": "stdin",
     "output_type": "stream",
     "text": [
      " ERP Protheus\n",
      " xBase\n",
      " $\n"
     ]
    },
    {
     "name": "stdout",
     "output_type": "stream",
     "text": [
      "****aeolbonn****\n"
     ]
    },
    {
     "name": "stdin",
     "output_type": "stream",
     "text": [
      " Esolang\n",
      " $\n"
     ]
    },
    {
     "name": "stdout",
     "output_type": "stream",
     "text": [
      "****agda****\n"
     ]
    },
    {
     "name": "stdin",
     "output_type": "stream",
     "text": [
      " Coq\n",
      " Haskell\n",
      " Ada\n"
     ]
    },
    {
     "name": "stdout",
     "output_type": "stream",
     "text": [
      "****aheui****\n"
     ]
    },
    {
     "name": "stdin",
     "output_type": "stream",
     "text": [
      " Esolang\n",
      " $\n"
     ]
    },
    {
     "name": "stdout",
     "output_type": "stream",
     "text": [
      "****aime****\n"
     ]
    },
    {
     "name": "stdin",
     "output_type": "stream",
     "text": [
      " C\n",
      " Aime on the HOPL\n",
      " $\n"
     ]
    },
    {
     "name": "stdout",
     "output_type": "stream",
     "text": [
      "****aiml****\n"
     ]
    },
    {
     "name": "stdin",
     "output_type": "stream",
     "text": [
      " python\n",
      " C++\n",
      " Lisp\n"
     ]
    },
    {
     "name": "stdout",
     "output_type": "stream",
     "text": [
      "****alaguf****\n"
     ]
    },
    {
     "name": "stdin",
     "output_type": "stream",
     "text": [
      " Esolang\n",
      " $\n"
     ]
    },
    {
     "name": "stdout",
     "output_type": "stream",
     "text": [
      "****alda****\n"
     ]
    },
    {
     "name": "stdin",
     "output_type": "stream",
     "text": [
      " $\n"
     ]
    },
    {
     "name": "stdout",
     "output_type": "stream",
     "text": [
      "****algae****\n"
     ]
    },
    {
     "name": "stdin",
     "output_type": "stream",
     "text": [
      " $\n"
     ]
    },
    {
     "name": "stdout",
     "output_type": "stream",
     "text": [
      "****algol w****\n"
     ]
    },
    {
     "name": "stdin",
     "output_type": "stream",
     "text": [
      " C\n",
      " ALGOL 68\n",
      " Ada\n"
     ]
    },
    {
     "name": "stdout",
     "output_type": "stream",
     "text": [
      "****algol60****\n"
     ]
    },
    {
     "name": "stdin",
     "output_type": "stream",
     "text": [
      " Fortran\n",
      " COBOL\n",
      " LISP\n"
     ]
    },
    {
     "name": "stdout",
     "output_type": "stream",
     "text": [
      "****algol68****\n"
     ]
    },
    {
     "name": "stdin",
     "output_type": "stream",
     "text": [
      " Pascal\n",
      " C\n",
      " Perl\n"
     ]
    },
    {
     "name": "stdout",
     "output_type": "stream",
     "text": [
      "****alore****\n"
     ]
    },
    {
     "name": "stdin",
     "output_type": "stream",
     "text": [
      " $\n"
     ]
    },
    {
     "name": "stdout",
     "output_type": "stream",
     "text": [
      "****amazon web service****\n"
     ]
    },
    {
     "name": "stdin",
     "output_type": "stream",
     "text": [
      " Microsoft Azure\n",
      " IBM\n",
      " Google\n"
     ]
    },
    {
     "name": "stdout",
     "output_type": "stream",
     "text": [
      "****amazon web services****\n"
     ]
    },
    {
     "name": "stdin",
     "output_type": "stream",
     "text": [
      " Microsoft Azure\n",
      " IBM\n",
      " Google\n"
     ]
    },
    {
     "name": "stdout",
     "output_type": "stream",
     "text": [
      "****amiga e****\n"
     ]
    },
    {
     "name": "stdin",
     "output_type": "stream",
     "text": [
      " E\n",
      " $\n"
     ]
    },
    {
     "name": "stdout",
     "output_type": "stream",
     "text": [
      "****amos****\n"
     ]
    },
    {
     "name": "stdin",
     "output_type": "stream",
     "text": [
      " QBasic\n",
      " Ada\n",
      " ALGOL68\n"
     ]
    },
    {
     "name": "stdout",
     "output_type": "stream",
     "text": [
      "****android****\n"
     ]
    },
    {
     "name": "stdin",
     "output_type": "stream",
     "text": [
      " flutter\n",
      " React Native\n",
      " App Development\n"
     ]
    },
    {
     "name": "stdout",
     "output_type": "stream",
     "text": [
      "****angelscript****\n"
     ]
    },
    {
     "name": "stdin",
     "output_type": "stream",
     "text": [
      " Squirrel\n",
      " Lua\n",
      " Python\n"
     ]
    },
    {
     "name": "stdout",
     "output_type": "stream",
     "text": [
      "****angular****\n"
     ]
    },
    {
     "name": "stdin",
     "output_type": "stream",
     "text": [
      " angularjs\n",
      " angular\n",
      " MEAN Stack\n"
     ]
    },
    {
     "name": "stdout",
     "output_type": "stream",
     "text": [
      "****angular js****\n"
     ]
    },
    {
     "name": "stdin",
     "output_type": "stream",
     "text": [
      " angular\n",
      " angular js\n",
      " MEAN Stack\n"
     ]
    },
    {
     "name": "stdout",
     "output_type": "stream",
     "text": [
      "****angularjs****\n"
     ]
    },
    {
     "name": "stdin",
     "output_type": "stream",
     "text": [
      " angular\n",
      " angular js\n",
      " MEAN Stack\n"
     ]
    },
    {
     "name": "stdout",
     "output_type": "stream",
     "text": [
      "****ante****\n"
     ]
    },
    {
     "name": "stdin",
     "output_type": "stream",
     "text": [
      " Esolang\n",
      " $\n"
     ]
    },
    {
     "name": "stdout",
     "output_type": "stream",
     "text": [
      "****antlang****\n"
     ]
    },
    {
     "name": "stdin",
     "output_type": "stream",
     "text": [
      " $\n"
     ]
    },
    {
     "name": "stdout",
     "output_type": "stream",
     "text": [
      "****apc****\n"
     ]
    },
    {
     "name": "stdin",
     "output_type": "stream",
     "text": [
      " $\n"
     ]
    },
    {
     "name": "stdout",
     "output_type": "stream",
     "text": [
      "****apex****\n"
     ]
    },
    {
     "name": "stdin",
     "output_type": "stream",
     "text": [
      " $\n"
     ]
    },
    {
     "name": "stdout",
     "output_type": "stream",
     "text": [
      "****apl****\n"
     ]
    },
    {
     "name": "stdin",
     "output_type": "stream",
     "text": [
      " BASIC\n",
      " COBOL\n",
      " Pascal\n"
     ]
    },
    {
     "name": "stdout",
     "output_type": "stream",
     "text": [
      "****applescript****\n"
     ]
    },
    {
     "name": "stdin",
     "output_type": "stream",
     "text": [
      " APL\n",
      " JavaScript\n",
      " Python\n"
     ]
    },
    {
     "name": "stdout",
     "output_type": "stream",
     "text": [
      "****arc****\n"
     ]
    },
    {
     "name": "stdin",
     "output_type": "stream",
     "text": [
      " Lisp\n",
      " Clojure\n",
      " Scheme\n"
     ]
    },
    {
     "name": "stdout",
     "output_type": "stream",
     "text": [
      "****arduino****\n"
     ]
    },
    {
     "name": "stdin",
     "output_type": "stream",
     "text": [
      " C++\n",
      " $\n"
     ]
    },
    {
     "name": "stdout",
     "output_type": "stream",
     "text": [
      "****arena****\n"
     ]
    },
    {
     "name": "stdin",
     "output_type": "stream",
     "text": [
      " C\n",
      " C++\n",
      " Java\n"
     ]
    },
    {
     "name": "stdout",
     "output_type": "stream",
     "text": [
      "****argh****\n"
     ]
    },
    {
     "name": "stdin",
     "output_type": "stream",
     "text": [
      " Esolang\n",
      " $\n"
     ]
    },
    {
     "name": "stdout",
     "output_type": "stream",
     "text": [
      "****arnoldc****\n"
     ]
    },
    {
     "name": "stdin",
     "output_type": "stream",
     "text": [
      " ASM\n",
      " parboiled \n",
      " $\n"
     ]
    },
    {
     "name": "stdout",
     "output_type": "stream",
     "text": [
      "****artificial intelligence****\n"
     ]
    },
    {
     "name": "stdin",
     "output_type": "stream",
     "text": [
      " Machine Learning\n",
      " Data Science\n",
      " IOT\n"
     ]
    },
    {
     "name": "stdout",
     "output_type": "stream",
     "text": [
      "****asciidots****\n"
     ]
    },
    {
     "name": "stdin",
     "output_type": "stream",
     "text": [
      " Esolang\n",
      " $\n"
     ]
    },
    {
     "name": "stdout",
     "output_type": "stream",
     "text": [
      "****ash****\n"
     ]
    },
    {
     "name": "stdin",
     "output_type": "stream",
     "text": [
      " a shell\n",
      " sh\n",
      " Almquist shell\n"
     ]
    },
    {
     "name": "stdout",
     "output_type": "stream",
     "text": [
      "****asm2bf****\n"
     ]
    },
    {
     "name": "stdin",
     "output_type": "stream",
     "text": [
      " Esolnag\n",
      " $\n"
     ]
    },
    {
     "name": "stdout",
     "output_type": "stream",
     "text": [
      "****asp****\n"
     ]
    },
    {
     "name": "stdin",
     "output_type": "stream",
     "text": [
      " VBScript\n",
      " $\n"
     ]
    },
    {
     "name": "stdout",
     "output_type": "stream",
     "text": [
      "****aspectj****\n"
     ]
    },
    {
     "name": "stdin",
     "output_type": "stream",
     "text": [
      " Eclipse\n",
      " $\n"
     ]
    },
    {
     "name": "stdout",
     "output_type": "stream",
     "text": [
      "****assember hp 85****\n"
     ]
    },
    {
     "name": "stdin",
     "output_type": "stream",
     "text": [
      " $\n"
     ]
    },
    {
     "name": "stdout",
     "output_type": "stream",
     "text": [
      "****assembler 6502****\n"
     ]
    },
    {
     "name": "stdin",
     "output_type": "stream",
     "text": [
      " $\n"
     ]
    },
    {
     "name": "stdout",
     "output_type": "stream",
     "text": [
      "****assembler 6502appleii****\n"
     ]
    },
    {
     "name": "stdin",
     "output_type": "stream",
     "text": [
      " $\n"
     ]
    },
    {
     "name": "stdout",
     "output_type": "stream",
     "text": [
      "****assembler 6502c64****\n"
     ]
    },
    {
     "name": "stdin",
     "output_type": "stream",
     "text": [
      " $\n"
     ]
    },
    {
     "name": "stdout",
     "output_type": "stream",
     "text": [
      "****assembler 6809vectrex****\n"
     ]
    },
    {
     "name": "stdin",
     "output_type": "stream",
     "text": [
      " $\n"
     ]
    },
    {
     "name": "stdout",
     "output_type": "stream",
     "text": [
      "****assembler 8048 videopac****\n"
     ]
    },
    {
     "name": "stdin",
     "output_type": "stream",
     "text": [
      " $\n"
     ]
    },
    {
     "name": "stdout",
     "output_type": "stream",
     "text": [
      "****assembler arm****\n"
     ]
    },
    {
     "name": "stdin",
     "output_type": "stream",
     "text": [
      " $\n"
     ]
    },
    {
     "name": "stdout",
     "output_type": "stream",
     "text": [
      "****assembler atari2600****\n"
     ]
    },
    {
     "name": "stdin",
     "output_type": "stream",
     "text": [
      " $\n"
     ]
    },
    {
     "name": "stdout",
     "output_type": "stream",
     "text": [
      "****assembler bootsect****\n"
     ]
    },
    {
     "name": "stdin",
     "output_type": "stream",
     "text": [
      " $\n"
     ]
    },
    {
     "name": "stdout",
     "output_type": "stream",
     "text": [
      "****assembler dcpu16****\n"
     ]
    },
    {
     "name": "stdin",
     "output_type": "stream",
     "text": [
      " $\n"
     ]
    },
    {
     "name": "stdout",
     "output_type": "stream",
     "text": [
      "****assembler fasm dos****\n"
     ]
    },
    {
     "name": "stdin",
     "output_type": "stream",
     "text": [
      " $\n"
     ]
    },
    {
     "name": "stdout",
     "output_type": "stream",
     "text": [
      "****assembler hla****\n"
     ]
    },
    {
     "name": "stdin",
     "output_type": "stream",
     "text": [
      " $\n"
     ]
    },
    {
     "name": "stdout",
     "output_type": "stream",
     "text": [
      "****assembler ibm360****\n"
     ]
    },
    {
     "name": "stdin",
     "output_type": "stream",
     "text": [
      " $\n"
     ]
    },
    {
     "name": "stdout",
     "output_type": "stream",
     "text": [
      "****assembler intel****\n"
     ]
    },
    {
     "name": "stdin",
     "output_type": "stream",
     "text": [
      " $\n"
     ]
    },
    {
     "name": "stdout",
     "output_type": "stream",
     "text": [
      "****assembler lc 3****\n"
     ]
    },
    {
     "name": "stdin",
     "output_type": "stream",
     "text": [
      " $\n"
     ]
    },
    {
     "name": "stdout",
     "output_type": "stream",
     "text": [
      "****assembler m68000 amigaos****\n"
     ]
    },
    {
     "name": "stdin",
     "output_type": "stream",
     "text": [
      " $\n"
     ]
    },
    {
     "name": "stdout",
     "output_type": "stream",
     "text": [
      "****assembler masm dos****\n"
     ]
    },
    {
     "name": "stdin",
     "output_type": "stream",
     "text": [
      " $\n"
     ]
    },
    {
     "name": "stdout",
     "output_type": "stream",
     "text": [
      "****assembler masm win32****\n"
     ]
    },
    {
     "name": "stdin",
     "output_type": "stream",
     "text": [
      " $\n"
     ]
    },
    {
     "name": "stdout",
     "output_type": "stream",
     "text": [
      "****assembler masm win64****\n"
     ]
    },
    {
     "name": "stdin",
     "output_type": "stream",
     "text": [
      " $\n"
     ]
    },
    {
     "name": "stdout",
     "output_type": "stream",
     "text": [
      "****assembler mips****\n"
     ]
    },
    {
     "name": "stdin",
     "output_type": "stream",
     "text": [
      " $\n"
     ]
    },
    {
     "name": "stdout",
     "output_type": "stream",
     "text": [
      "****assembler mmix****\n"
     ]
    },
    {
     "name": "stdin",
     "output_type": "stream",
     "text": [
      " $\n"
     ]
    },
    {
     "name": "stdout",
     "output_type": "stream",
     "text": [
      "****assembler nasm freebsd****\n"
     ]
    },
    {
     "name": "stdin",
     "output_type": "stream",
     "text": [
      " $\n"
     ]
    },
    {
     "name": "stdout",
     "output_type": "stream",
     "text": [
      "****assembler nasm linux****\n"
     ]
    },
    {
     "name": "stdin",
     "output_type": "stream",
     "text": [
      " linux\n",
      " $\n"
     ]
    },
    {
     "name": "stdout",
     "output_type": "stream",
     "text": [
      "****assembler nasm linux64****\n"
     ]
    },
    {
     "name": "stdin",
     "output_type": "stream",
     "text": [
      " linux\n",
      " linux64\n",
      " $\n"
     ]
    },
    {
     "name": "stdout",
     "output_type": "stream",
     "text": [
      "****assembler nasm macho64****\n"
     ]
    },
    {
     "name": "stdin",
     "output_type": "stream",
     "text": [
      " macho64\n",
      " $\n"
     ]
    },
    {
     "name": "stdout",
     "output_type": "stream",
     "text": [
      "****assembler nasm win32****\n"
     ]
    },
    {
     "name": "stdin",
     "output_type": "stream",
     "text": [
      " $\n"
     ]
    },
    {
     "name": "stdout",
     "output_type": "stream",
     "text": [
      "****assembler pdp10 midas****\n"
     ]
    },
    {
     "name": "stdin",
     "output_type": "stream",
     "text": [
      " $\n"
     ]
    },
    {
     "name": "stdout",
     "output_type": "stream",
     "text": [
      "****assembler pdp11 palx****\n"
     ]
    },
    {
     "name": "stdin",
     "output_type": "stream",
     "text": [
      " $\n"
     ]
    },
    {
     "name": "stdout",
     "output_type": "stream",
     "text": [
      "****assembler tasm dos****\n"
     ]
    },
    {
     "name": "stdin",
     "output_type": "stream",
     "text": [
      " $\n"
     ]
    },
    {
     "name": "stdout",
     "output_type": "stream",
     "text": [
      "****assembler tms9900 ti99 4a****\n"
     ]
    },
    {
     "name": "stdin",
     "output_type": "stream",
     "text": [
      " $\n"
     ]
    },
    {
     "name": "stdout",
     "output_type": "stream",
     "text": [
      "****assembler vax ultrix****\n"
     ]
    },
    {
     "name": "stdin",
     "output_type": "stream",
     "text": [
      " ultrix\n",
      " $\n"
     ]
    },
    {
     "name": "stdout",
     "output_type": "stream",
     "text": [
      "****assembler z80 knightos****\n"
     ]
    },
    {
     "name": "stdin",
     "output_type": "stream",
     "text": [
      " $\n"
     ]
    },
    {
     "name": "stdout",
     "output_type": "stream",
     "text": [
      "****assembler z80 ti83calculator****\n"
     ]
    },
    {
     "name": "stdin",
     "output_type": "stream",
     "text": [
      " BASIC ASm\n",
      " TI-83\n",
      " $\n"
     ]
    },
    {
     "name": "stdout",
     "output_type": "stream",
     "text": [
      "****assembler z80 zxspectrum****\n"
     ]
    },
    {
     "name": "stdin",
     "output_type": "stream",
     "text": [
      " Z-80\n",
      " zxspectrum\n",
      " $\n"
     ]
    },
    {
     "name": "stdout",
     "output_type": "stream",
     "text": [
      "****ats2****\n"
     ]
    },
    {
     "name": "stdin",
     "output_type": "stream",
     "text": [
      " Rust\n",
      " Go\n",
      " Nim\n"
     ]
    },
    {
     "name": "stdout",
     "output_type": "stream",
     "text": [
      "****attache****\n"
     ]
    },
    {
     "name": "stdin",
     "output_type": "stream",
     "text": [
      " R\n",
      " Apache\n",
      " Python\n"
     ]
    },
    {
     "name": "stdout",
     "output_type": "stream",
     "text": [
      "****autohotkey****\n"
     ]
    },
    {
     "name": "stdin",
     "output_type": "stream",
     "text": [
      " Scripting Language\n",
      " $\n"
     ]
    },
    {
     "name": "stdout",
     "output_type": "stream",
     "text": [
      "****autoit****\n"
     ]
    },
    {
     "name": "stdin",
     "output_type": "stream",
     "text": [
      " Scripting Language\n",
      " Python\n",
      " Perl\n"
     ]
    },
    {
     "name": "stdout",
     "output_type": "stream",
     "text": [
      "****avisynth****\n"
     ]
    },
    {
     "name": "stdin",
     "output_type": "stream",
     "text": [
      " C++\n",
      " $\n"
     ]
    },
    {
     "name": "stdout",
     "output_type": "stream",
     "text": [
      "****awful****\n"
     ]
    },
    {
     "name": "stdin",
     "output_type": "stream",
     "text": [
      " $\n"
     ]
    },
    {
     "name": "stdout",
     "output_type": "stream",
     "text": [
      "****awk****\n"
     ]
    },
    {
     "name": "stdin",
     "output_type": "stream",
     "text": [
      " sed\n",
      " perl\n",
      " jq\n"
     ]
    },
    {
     "name": "stdout",
     "output_type": "stream",
     "text": [
      "****aws****\n"
     ]
    },
    {
     "name": "stdin",
     "output_type": "stream",
     "text": [
      " Microsoft Azure\n",
      " IBM\n",
      " Google\n"
     ]
    },
    {
     "name": "stdout",
     "output_type": "stream",
     "text": [
      "****b****\n"
     ]
    },
    {
     "name": "stdin",
     "output_type": "stream",
     "text": [
      " BCPL\n",
      " C\n",
      " D\n"
     ]
    },
    {
     "name": "stdout",
     "output_type": "stream",
     "text": [
      "****baik****\n"
     ]
    },
    {
     "name": "stdin",
     "output_type": "stream",
     "text": [
      " scripting language\n",
      " $\n"
     ]
    },
    {
     "name": "stdout",
     "output_type": "stream",
     "text": [
      "****ballerina****\n"
     ]
    },
    {
     "name": "stdin",
     "output_type": "stream",
     "text": [
      " ColdFusion Markup Language\n",
      " BeanShell\n",
      " Ceylon\n"
     ]
    },
    {
     "name": "stdout",
     "output_type": "stream",
     "text": [
      "****bash****\n"
     ]
    },
    {
     "name": "stdin",
     "output_type": "stream",
     "text": [
      " Unix\n",
      " Linux\n",
      " CMD\n"
     ]
    },
    {
     "name": "stdout",
     "output_type": "stream",
     "text": [
      "****basic****\n"
     ]
    },
    {
     "name": "stdin",
     "output_type": "stream",
     "text": [
      " Fortran\n",
      " COBOL\n",
      " C++\n"
     ]
    },
    {
     "name": "stdout",
     "output_type": "stream",
     "text": [
      "****basic 256****\n"
     ]
    },
    {
     "name": "stdin",
     "output_type": "stream",
     "text": [
      " GIMP\n",
      " CMD\n",
      " basic\n"
     ]
    },
    {
     "name": "stdout",
     "output_type": "stream",
     "text": [
      "****batch****\n"
     ]
    },
    {
     "name": "stdin",
     "output_type": "stream",
     "text": [
      " Scripting \n",
      " $\n"
     ]
    },
    {
     "name": "stdout",
     "output_type": "stream",
     "text": [
      "****batsh****\n"
     ]
    },
    {
     "name": "stdin",
     "output_type": "stream",
     "text": [
      " $\n"
     ]
    },
    {
     "name": "stdout",
     "output_type": "stream",
     "text": [
      "****battlestar****\n"
     ]
    },
    {
     "name": "stdin",
     "output_type": "stream",
     "text": [
      " C\n",
      " COBOL\n",
      " $\n"
     ]
    },
    {
     "name": "stdout",
     "output_type": "stream",
     "text": [
      "****bcpl****\n"
     ]
    },
    {
     "name": "stdin",
     "output_type": "stream",
     "text": [
      " B\n",
      " ALGOL\n",
      " BASIC\n"
     ]
    },
    {
     "name": "stdout",
     "output_type": "stream",
     "text": [
      "****beatnik****\n"
     ]
    },
    {
     "name": "stdin",
     "output_type": "stream",
     "text": [
      " Esolang\n",
      " $\n"
     ]
    },
    {
     "name": "stdout",
     "output_type": "stream",
     "text": [
      "****beef****\n"
     ]
    },
    {
     "name": "stdin",
     "output_type": "stream",
     "text": [
      " $\n"
     ]
    },
    {
     "name": "stdout",
     "output_type": "stream",
     "text": [
      "****befunge****\n"
     ]
    },
    {
     "name": "stdin",
     "output_type": "stream",
     "text": [
      " Malbolge\n",
      " INTERCAL\n",
      " BrainFuck\n"
     ]
    },
    {
     "name": "stdout",
     "output_type": "stream",
     "text": [
      "****bennugd****\n"
     ]
    },
    {
     "name": "stdin",
     "output_type": "stream",
     "text": [
      " C\n",
      " $\n"
     ]
    },
    {
     "name": "stdout",
     "output_type": "stream",
     "text": [
      "****beta****\n"
     ]
    },
    {
     "name": "stdin",
     "output_type": "stream",
     "text": [
      " Ada\n",
      " C#\n",
      " C++\n"
     ]
    },
    {
     "name": "stdout",
     "output_type": "stream",
     "text": [
      "****binaryfuck****\n"
     ]
    },
    {
     "name": "stdin",
     "output_type": "stream",
     "text": [
      " BrainFuck\n",
      " $\n"
     ]
    },
    {
     "name": "stdout",
     "output_type": "stream",
     "text": [
      "****birl****\n"
     ]
    },
    {
     "name": "stdin",
     "output_type": "stream",
     "text": [
      " Esolang\n",
      " $\n"
     ]
    },
    {
     "name": "stdout",
     "output_type": "stream",
     "text": [
      "****bit****\n"
     ]
    },
    {
     "name": "stdin",
     "output_type": "stream",
     "text": [
      " $\n"
     ]
    },
    {
     "name": "stdout",
     "output_type": "stream",
     "text": [
      "****bitbitjump****\n"
     ]
    },
    {
     "name": "stdin",
     "output_type": "stream",
     "text": [
      " OISC\n",
      " $\n"
     ]
    },
    {
     "name": "stdout",
     "output_type": "stream",
     "text": [
      "****bitsbox****\n"
     ]
    },
    {
     "name": "stdin",
     "output_type": "stream",
     "text": [
      " JavaScript\n",
      " $\n"
     ]
    },
    {
     "name": "stdout",
     "output_type": "stream",
     "text": [
      "****blackrum****\n"
     ]
    },
    {
     "name": "stdin",
     "output_type": "stream",
     "text": [
      " $\n"
     ]
    },
    {
     "name": "stdout",
     "output_type": "stream",
     "text": [
      "****blc****\n"
     ]
    },
    {
     "name": "stdin",
     "output_type": "stream",
     "text": [
      " COMS 340\n",
      " $\n"
     ]
    },
    {
     "name": "stdout",
     "output_type": "stream",
     "text": [
      "****blitz3d****\n"
     ]
    },
    {
     "name": "stdin",
     "output_type": "stream",
     "text": [
      " Visual Basic\n",
      " Java\n",
      " C\n"
     ]
    },
    {
     "name": "stdout",
     "output_type": "stream",
     "text": [
      "****bloop****\n"
     ]
    },
    {
     "name": "stdin",
     "output_type": "stream",
     "text": [
      " $\n"
     ]
    },
    {
     "name": "stdout",
     "output_type": "stream",
     "text": [
      "****blub****\n"
     ]
    },
    {
     "name": "stdin",
     "output_type": "stream",
     "text": [
      " Esolang\n",
      " $\n"
     ]
    },
    {
     "name": "stdout",
     "output_type": "stream",
     "text": [
      "****bolgefuck****\n"
     ]
    },
    {
     "name": "stdin",
     "output_type": "stream",
     "text": [
      " BrainFuck\n",
      " C\n",
      " C++\n"
     ]
    },
    {
     "name": "stdout",
     "output_type": "stream",
     "text": [
      "****boo****\n"
     ]
    },
    {
     "name": "stdin",
     "output_type": "stream",
     "text": [
      " #\n",
      " JavaScript\n",
      " C++\n"
     ]
    },
    {
     "name": "stdout",
     "output_type": "stream",
     "text": [
      "****boolfuck****\n"
     ]
    },
    {
     "name": "stdin",
     "output_type": "stream",
     "text": [
      " Esolang\n",
      " $\n"
     ]
    },
    {
     "name": "stdout",
     "output_type": "stream",
     "text": [
      "****bosque****\n"
     ]
    },
    {
     "name": "stdin",
     "output_type": "stream",
     "text": [
      " TypeScript\n",
      " IronPython\n",
      " GW-Basic\n"
     ]
    },
    {
     "name": "stdout",
     "output_type": "stream",
     "text": [
      "****brainfuck****\n"
     ]
    },
    {
     "name": "stdin",
     "output_type": "stream",
     "text": [
      " LOLCODE\n",
      " Whitespace\n",
      " Malbolge\n"
     ]
    },
    {
     "name": "stdout",
     "output_type": "stream",
     "text": [
      "****brainfuck 2d****\n"
     ]
    },
    {
     "name": "stdin",
     "output_type": "stream",
     "text": [
      " Esolang\n",
      " $\n"
     ]
    },
    {
     "name": "stdout",
     "output_type": "stream",
     "text": [
      "****brainloller****\n"
     ]
    },
    {
     "name": "stdin",
     "output_type": "stream",
     "text": [
      " Marcos\n",
      " Esolang\n",
      " $\n"
     ]
    },
    {
     "name": "stdout",
     "output_type": "stream",
     "text": [
      "****broccoli****\n"
     ]
    },
    {
     "name": "stdin",
     "output_type": "stream",
     "text": [
      " broccoli js\n",
      " javascript\n",
      " $\n"
     ]
    },
    {
     "name": "stdout",
     "output_type": "stream",
     "text": [
      "****brzrk****\n"
     ]
    },
    {
     "name": "stdin",
     "output_type": "stream",
     "text": [
      " $\n"
     ]
    },
    {
     "name": "stdout",
     "output_type": "stream",
     "text": [
      "****burlesque****\n"
     ]
    },
    {
     "name": "stdin",
     "output_type": "stream",
     "text": [
      " Esolang\n",
      " $\n"
     ]
    },
    {
     "name": "stdout",
     "output_type": "stream",
     "text": [
      "****byter****\n"
     ]
    },
    {
     "name": "stdin",
     "output_type": "stream",
     "text": [
      " Esolang\n",
      " p-code\n",
      " portable code\n"
     ]
    },
    {
     "name": "stdout",
     "output_type": "stream",
     "text": [
      "****c****\n"
     ]
    },
    {
     "name": "stdin",
     "output_type": "stream",
     "text": [
      " C++\n",
      " Java\n",
      " C#\n"
     ]
    },
    {
     "name": "stdout",
     "output_type": "stream",
     "text": [
      "****c++****\n"
     ]
    },
    {
     "name": "stdin",
     "output_type": "stream",
     "text": [
      " C\n",
      " Python\n",
      " C#\n"
     ]
    },
    {
     "name": "stdout",
     "output_type": "stream",
     "text": [
      "****caml****\n"
     ]
    },
    {
     "name": "stdin",
     "output_type": "stream",
     "text": [
      " OCaml\n",
      " ML\n",
      " Lisp\n"
     ]
    },
    {
     "name": "stdout",
     "output_type": "stream",
     "text": [
      "****cardinal****\n"
     ]
    },
    {
     "name": "stdin",
     "output_type": "stream",
     "text": [
      " Esolang\n",
      " $\n"
     ]
    },
    {
     "name": "stdout",
     "output_type": "stream",
     "text": [
      "****casio basic****\n"
     ]
    },
    {
     "name": "stdin",
     "output_type": "stream",
     "text": [
      " BASIC\n",
      " $\n"
     ]
    },
    {
     "name": "stdout",
     "output_type": "stream",
     "text": [
      "****cat****\n"
     ]
    },
    {
     "name": "stdin",
     "output_type": "stream",
     "text": [
      " LOLCODE\n",
      " $\n"
     ]
    },
    {
     "name": "stdout",
     "output_type": "stream",
     "text": [
      "****cbot****\n"
     ]
    },
    {
     "name": "stdin",
     "output_type": "stream",
     "text": [
      " CeeBot\n",
      " cAlgo\n",
      " $\n"
     ]
    },
    {
     "name": "stdout",
     "output_type": "stream",
     "text": [
      "****cduce****\n"
     ]
    },
    {
     "name": "stdin",
     "output_type": "stream",
     "text": [
      " Haxe\n",
      " C\n",
      " C++\n"
     ]
    },
    {
     "name": "stdout",
     "output_type": "stream",
     "text": [
      "****centura****\n"
     ]
    },
    {
     "name": "stdin",
     "output_type": "stream",
     "text": [
      " SQL\n",
      " $\n"
     ]
    },
    {
     "name": "stdout",
     "output_type": "stream",
     "text": [
      "****ceylon****\n"
     ]
    },
    {
     "name": "stdin",
     "output_type": "stream",
     "text": [
      " Kotlin\n",
      " Scala\n",
      " Clojure\n"
     ]
    },
    {
     "name": "stdout",
     "output_type": "stream",
     "text": [
      "****cgi****\n"
     ]
    },
    {
     "name": "stdin",
     "output_type": "stream",
     "text": [
      " scripting language\n",
      " $\n"
     ]
    },
    {
     "name": "stdout",
     "output_type": "stream",
     "text": [
      "****chapel****\n"
     ]
    },
    {
     "name": "stdin",
     "output_type": "stream",
     "text": [
      " Go\n",
      " Ceylon\n",
      " Dart\n"
     ]
    },
    {
     "name": "stdout",
     "output_type": "stream",
     "text": [
      "****cheddar****\n"
     ]
    },
    {
     "name": "stdin",
     "output_type": "stream",
     "text": [
      " Esolang\n",
      " $\n"
     ]
    },
    {
     "name": "stdout",
     "output_type": "stream",
     "text": [
      "****chef****\n"
     ]
    },
    {
     "name": "stdin",
     "output_type": "stream",
     "text": [
      " Ruby\n",
      " $\n"
     ]
    },
    {
     "name": "stdout",
     "output_type": "stream",
     "text": [
      "****chicken****\n"
     ]
    },
    {
     "name": "stdin",
     "output_type": "stream",
     "text": [
      " Scheme\n",
      " C\n",
      " Esolang\n"
     ]
    },
    {
     "name": "stdout",
     "output_type": "stream",
     "text": [
      "****cil****\n"
     ]
    },
    {
     "name": "stdin",
     "output_type": "stream",
     "text": [
      " C#\n",
      " Assembly Language\n",
      " Perl\n"
     ]
    },
    {
     "name": "stdout",
     "output_type": "stream",
     "text": [
      "****clean****\n"
     ]
    },
    {
     "name": "stdin",
     "output_type": "stream",
     "text": [
      " Haskell\n",
      " Erlang\n",
      " F#\n"
     ]
    },
    {
     "name": "stdout",
     "output_type": "stream",
     "text": [
      "****clips****\n"
     ]
    },
    {
     "name": "stdin",
     "output_type": "stream",
     "text": [
      " Ada\n",
      " C++\n",
      " Small Tack\n"
     ]
    },
    {
     "name": "stdout",
     "output_type": "stream",
     "text": [
      "****clisp****\n"
     ]
    },
    {
     "name": "stdin",
     "output_type": "stream",
     "text": [
      " Lisp\n",
      " Java\n",
      " C++\n"
     ]
    },
    {
     "name": "stdout",
     "output_type": "stream",
     "text": [
      "****clojure****\n"
     ]
    },
    {
     "name": "stdin",
     "output_type": "stream",
     "text": [
      " Scala\n",
      " Ruby\n",
      " Haskell\n"
     ]
    },
    {
     "name": "stdout",
     "output_type": "stream",
     "text": [
      "****cobol****\n"
     ]
    },
    {
     "name": "stdin",
     "output_type": "stream",
     "text": [
      " Fortran\n",
      " Pascal\n",
      " Clojure\n"
     ]
    },
    {
     "name": "stdout",
     "output_type": "stream",
     "text": [
      "****cobra****\n"
     ]
    },
    {
     "name": "stdin",
     "output_type": "stream",
     "text": [
      " Python\n",
      " Ada\n",
      " Go\n"
     ]
    },
    {
     "name": "stdout",
     "output_type": "stream",
     "text": [
      "****coconut****\n"
     ]
    },
    {
     "name": "stdin",
     "output_type": "stream",
     "text": [
      " Python\n",
      " $\n"
     ]
    },
    {
     "name": "stdout",
     "output_type": "stream",
     "text": [
      "****coffeescript****\n"
     ]
    },
    {
     "name": "stdin",
     "output_type": "stream",
     "text": [
      " TypeScript\n",
      " Dart\n",
      " Php\n"
     ]
    },
    {
     "name": "stdout",
     "output_type": "stream",
     "text": [
      "****coldfusion****\n"
     ]
    },
    {
     "name": "stdin",
     "output_type": "stream",
     "text": [
      " Php\n",
      " JavaScript\n",
      " Python\n"
     ]
    },
    {
     "name": "stdout",
     "output_type": "stream",
     "text": [
      "****common lisp****\n"
     ]
    },
    {
     "name": "stdin",
     "output_type": "stream",
     "text": [
      " Prolog\n",
      " Fortran\n",
      " Clojure\n"
     ]
    },
    {
     "name": "stdout",
     "output_type": "stream",
     "text": [
      "****concurnas****\n"
     ]
    },
    {
     "name": "stdin",
     "output_type": "stream",
     "text": [
      " JVM\n",
      " Java\n",
      " $\n"
     ]
    },
    {
     "name": "stdout",
     "output_type": "stream",
     "text": [
      "****continuesequation****\n"
     ]
    },
    {
     "name": "stdin",
     "output_type": "stream",
     "text": [
      " C\n",
      " $\n"
     ]
    },
    {
     "name": "stdout",
     "output_type": "stream",
     "text": [
      "****control language****\n"
     ]
    },
    {
     "name": "stdin",
     "output_type": "stream",
     "text": [
      " PCL\n",
      " IBM i Control Language\n",
      " $\n"
     ]
    },
    {
     "name": "stdout",
     "output_type": "stream",
     "text": [
      "****cool****\n"
     ]
    },
    {
     "name": "stdin",
     "output_type": "stream",
     "text": [
      " COBOL\n",
      " C++\n",
      " Ceylon\n"
     ]
    },
    {
     "name": "stdout",
     "output_type": "stream",
     "text": [
      "****cor****\n"
     ]
    },
    {
     "name": "stdin",
     "output_type": "stream",
     "text": [
      " JavaScript\n",
      " Python\n",
      " $\n"
     ]
    },
    {
     "name": "stdout",
     "output_type": "stream",
     "text": [
      "****cow****\n"
     ]
    },
    {
     "name": "stdin",
     "output_type": "stream",
     "text": [
      " Esolang\n",
      " $\n"
     ]
    },
    {
     "name": "stdout",
     "output_type": "stream",
     "text": [
      "****crystal****\n"
     ]
    },
    {
     "name": "stdin",
     "output_type": "stream",
     "text": [
      " Ruby\n",
      " Go\n",
      " Rust\n"
     ]
    },
    {
     "name": "stdout",
     "output_type": "stream",
     "text": [
      "****csh****\n"
     ]
    },
    {
     "name": "stdin",
     "output_type": "stream",
     "text": [
      " C Shell\n",
      " C\n",
      " $\n"
     ]
    },
    {
     "name": "stdout",
     "output_type": "stream",
     "text": [
      "****csharp****\n"
     ]
    },
    {
     "name": "stdin",
     "output_type": "stream",
     "text": [
      " C++\n",
      " Java\n",
      " Python\n"
     ]
    },
    {
     "name": "stdout",
     "output_type": "stream",
     "text": [
      "****cson****\n"
     ]
    },
    {
     "name": "stdin",
     "output_type": "stream",
     "text": [
      " JSON\n",
      " CoffeeScript\n",
      " $\n"
     ]
    },
    {
     "name": "stdout",
     "output_type": "stream",
     "text": [
      "****css****\n"
     ]
    },
    {
     "name": "stdin",
     "output_type": "stream",
     "text": [
      " HTML5\n",
      " SASS\n",
      " JavaScript\n"
     ]
    },
    {
     "name": "stdout",
     "output_type": "stream",
     "text": [
      "****cuda****\n"
     ]
    },
    {
     "name": "stdin",
     "output_type": "stream",
     "text": [
      " PyTorch\n",
      " OpenCL\n",
      " Tensorflow\n"
     ]
    },
    {
     "name": "stdout",
     "output_type": "stream",
     "text": [
      "****cuneiform****\n"
     ]
    },
    {
     "name": "stdin",
     "output_type": "stream",
     "text": [
      " Erlang\n",
      " $\n"
     ]
    },
    {
     "name": "stdout",
     "output_type": "stream",
     "text": [
      "****curry****\n"
     ]
    },
    {
     "name": "stdin",
     "output_type": "stream",
     "text": [
      " Python\n",
      " Prolog\n",
      " Pascal\n"
     ]
    },
    {
     "name": "stdout",
     "output_type": "stream",
     "text": [
      "****cypherneo4j****\n"
     ]
    },
    {
     "name": "stdin",
     "output_type": "stream",
     "text": [
      " Cypher\n",
      " Query Language\n",
      " $\n"
     ]
    },
    {
     "name": "stdout",
     "output_type": "stream",
     "text": [
      "****d****\n"
     ]
    },
    {
     "name": "stdin",
     "output_type": "stream",
     "text": [
      " C++\n",
      " Swift\n",
      " Go\n"
     ]
    },
    {
     "name": "stdout",
     "output_type": "stream",
     "text": [
      "****dark****\n"
     ]
    },
    {
     "name": "stdin",
     "output_type": "stream",
     "text": [
      " Dart\n",
      " $\n"
     ]
    },
    {
     "name": "stdout",
     "output_type": "stream",
     "text": [
      "****dart****\n"
     ]
    },
    {
     "name": "stdin",
     "output_type": "stream",
     "text": [
      " Dark\n",
      " Flutter\n",
      " Kotlin\n"
     ]
    },
    {
     "name": "stdout",
     "output_type": "stream",
     "text": [
      "****data science****\n"
     ]
    },
    {
     "name": "stdin",
     "output_type": "stream",
     "text": [
      " Artificial Intelligence\n",
      " Data Analysis\n",
      " machine Learning\n"
     ]
    },
    {
     "name": "stdout",
     "output_type": "stream",
     "text": [
      "****db2****\n"
     ]
    },
    {
     "name": "stdin",
     "output_type": "stream",
     "text": [
      " C++\n",
      " C#\n",
      " NET\n"
     ]
    },
    {
     "name": "stdout",
     "output_type": "stream",
     "text": [
      "****dc****\n"
     ]
    },
    {
     "name": "stdin",
     "output_type": "stream",
     "text": [
      " C\n",
      " Unix\n",
      " plan 9\n"
     ]
    },
    {
     "name": "stdout",
     "output_type": "stream",
     "text": [
      "****dcl****\n"
     ]
    },
    {
     "name": "stdin",
     "output_type": "stream",
     "text": [
      " Fortran\n",
      " Scripting\n",
      " ALGOL\n"
     ]
    },
    {
     "name": "stdout",
     "output_type": "stream",
     "text": [
      "****dd dd****\n"
     ]
    },
    {
     "name": "stdin",
     "output_type": "stream",
     "text": [
      " Unix\n",
      " $\n"
     ]
    },
    {
     "name": "stdout",
     "output_type": "stream",
     "text": [
      "****decimal****\n"
     ]
    },
    {
     "name": "stdin",
     "output_type": "stream",
     "text": [
      " binary\n",
      " octal\n",
      " hexadecimal\n"
     ]
    },
    {
     "name": "stdout",
     "output_type": "stream",
     "text": [
      "****delphi****\n"
     ]
    },
    {
     "name": "stdin",
     "output_type": "stream",
     "text": [
      " C++\n",
      " Lazarus\n",
      " C#\n"
     ]
    },
    {
     "name": "stdout",
     "output_type": "stream",
     "text": [
      "****deno****\n"
     ]
    },
    {
     "name": "stdin",
     "output_type": "stream",
     "text": [
      " Node js\n",
      " Wakanda\n",
      " npm\n"
     ]
    },
    {
     "name": "stdout",
     "output_type": "stream",
     "text": [
      "****dis****\n"
     ]
    },
    {
     "name": "stdin",
     "output_type": "stream",
     "text": [
      " Java\n",
      " Esolang\n",
      " $\n"
     ]
    },
    {
     "name": "stdout",
     "output_type": "stream",
     "text": [
      "****divzeros****\n"
     ]
    },
    {
     "name": "stdin",
     "output_type": "stream",
     "text": [
      " $\n"
     ]
    },
    {
     "name": "stdout",
     "output_type": "stream",
     "text": [
      "****dna sharp****\n"
     ]
    },
    {
     "name": "stdin",
     "output_type": "stream",
     "text": [
      " Esolang\n",
      " $\n"
     ]
    },
    {
     "name": "stdout",
     "output_type": "stream",
     "text": [
      "****dna#****\n"
     ]
    },
    {
     "name": "stdin",
     "output_type": "stream",
     "text": [
      " DNA\n",
      " $\n"
     ]
    },
    {
     "name": "stdout",
     "output_type": "stream",
     "text": [
      "****dogescript****\n"
     ]
    },
    {
     "name": "stdin",
     "output_type": "stream",
     "text": [
      " JavaScript\n",
      " $\n"
     ]
    },
    {
     "name": "stdout",
     "output_type": "stream",
     "text": [
      "****dogo****\n"
     ]
    },
    {
     "name": "stdin",
     "output_type": "stream",
     "text": [
      " JavaScript\n",
      " Esolang\n",
      " $\n"
     ]
    },
    {
     "name": "stdout",
     "output_type": "stream",
     "text": [
      "****dongbei****\n"
     ]
    },
    {
     "name": "stdin",
     "output_type": "stream",
     "text": [
      " $\n"
     ]
    },
    {
     "name": "stdout",
     "output_type": "stream",
     "text": [
      "****dos****\n"
     ]
    },
    {
     "name": "stdin",
     "output_type": "stream",
     "text": [
      " OS\n",
      " $\n"
     ]
    },
    {
     "name": "stdout",
     "output_type": "stream",
     "text": [
      "****draco****\n"
     ]
    },
    {
     "name": "stdin",
     "output_type": "stream",
     "text": [
      " Amiga\n",
      " CP\n",
      " M\n"
     ]
    },
    {
     "name": "stdout",
     "output_type": "stream",
     "text": [
      "****dreammaker****\n"
     ]
    },
    {
     "name": "stdin",
     "output_type": "stream",
     "text": [
      " parser\n",
      " $\n"
     ]
    },
    {
     "name": "stdout",
     "output_type": "stream",
     "text": [
      "****drive in window****\n"
     ]
    },
    {
     "name": "stdin",
     "output_type": "stream",
     "text": [
      " Esolang\n",
      " $\n"
     ]
    },
    {
     "name": "stdout",
     "output_type": "stream",
     "text": [
      "****dtrace****\n"
     ]
    },
    {
     "name": "stdin",
     "output_type": "stream",
     "text": [
      " C\n",
      " C++\n",
      " $\n"
     ]
    },
    {
     "name": "stdout",
     "output_type": "stream",
     "text": [
      "****dup****\n"
     ]
    },
    {
     "name": "stdin",
     "output_type": "stream",
     "text": [
      " C\n",
      " ASN\n",
      " Esolang\n"
     ]
    },
    {
     "name": "stdout",
     "output_type": "stream",
     "text": [
      "****dylan****\n"
     ]
    },
    {
     "name": "stdin",
     "output_type": "stream",
     "text": [
      " Python\n",
      " Lua\n",
      " Lisp\n"
     ]
    },
    {
     "name": "stdout",
     "output_type": "stream",
     "text": [
      "****dyvil****\n"
     ]
    },
    {
     "name": "stdin",
     "output_type": "stream",
     "text": [
      " Java\n",
      " JVM\n",
      " Swift\n"
     ]
    },
    {
     "name": "stdout",
     "output_type": "stream",
     "text": [
      "****ebuild****\n"
     ]
    },
    {
     "name": "stdin",
     "output_type": "stream",
     "text": [
      " R\n",
      " python\n",
      " Portage\n"
     ]
    },
    {
     "name": "stdout",
     "output_type": "stream",
     "text": [
      "****ec****\n"
     ]
    },
    {
     "name": "stdin",
     "output_type": "stream",
     "text": [
      " C\n",
      " $\n"
     ]
    },
    {
     "name": "stdout",
     "output_type": "stream",
     "text": [
      "****echolisp****\n"
     ]
    },
    {
     "name": "stdin",
     "output_type": "stream",
     "text": [
      " Lisp\n",
      " $\n"
     ]
    },
    {
     "name": "stdout",
     "output_type": "stream",
     "text": [
      "****efene****\n"
     ]
    },
    {
     "name": "stdin",
     "output_type": "stream",
     "text": [
      " Erlang\n",
      " $\n"
     ]
    },
    {
     "name": "stdout",
     "output_type": "stream",
     "text": [
      "****egl****\n"
     ]
    },
    {
     "name": "stdin",
     "output_type": "stream",
     "text": [
      " Assembly Language\n",
      " Seed &\n",
      " Rebol\n"
     ]
    },
    {
     "name": "stdout",
     "output_type": "stream",
     "text": [
      "****eiffel****\n"
     ]
    },
    {
     "name": "stdin",
     "output_type": "stream",
     "text": [
      " C#\n",
      " Java\n",
      " C++\n"
     ]
    },
    {
     "name": "stdout",
     "output_type": "stream",
     "text": [
      "****elena****\n"
     ]
    },
    {
     "name": "stdin",
     "output_type": "stream",
     "text": [
      " $\n"
     ]
    },
    {
     "name": "stdout",
     "output_type": "stream",
     "text": [
      "****elixir****\n"
     ]
    },
    {
     "name": "stdin",
     "output_type": "stream",
     "text": [
      " Erlang\n",
      " Rust\n",
      " Clojure\n"
     ]
    },
    {
     "name": "stdout",
     "output_type": "stream",
     "text": [
      "****elm****\n"
     ]
    },
    {
     "name": "stdin",
     "output_type": "stream",
     "text": [
      " Haskell\n",
      " Elixir\n",
      " Rust\n"
     ]
    },
    {
     "name": "stdout",
     "output_type": "stream",
     "text": [
      "****emacslisp****\n"
     ]
    },
    {
     "name": "stdin",
     "output_type": "stream",
     "text": [
      " Lisp\n",
      " CLisp\n",
      " Scheme\n"
     ]
    },
    {
     "name": "stdout",
     "output_type": "stream",
     "text": [
      "****emmental****\n"
     ]
    },
    {
     "name": "stdin",
     "output_type": "stream",
     "text": [
      " Esolang\n",
      " $\n"
     ]
    },
    {
     "name": "stdout",
     "output_type": "stream",
     "text": [
      "****emojicode****\n"
     ]
    },
    {
     "name": "stdin",
     "output_type": "stream",
     "text": [
      " $\n"
     ]
    },
    {
     "name": "stdout",
     "output_type": "stream",
     "text": [
      "****emoticon****\n"
     ]
    },
    {
     "name": "stdin",
     "output_type": "stream",
     "text": [
      " Esolang\n",
      " $\n"
     ]
    },
    {
     "name": "stdout",
     "output_type": "stream",
     "text": [
      "****enkelt****\n"
     ]
    },
    {
     "name": "stdin",
     "output_type": "stream",
     "text": [
      " Ruby\n",
      " $\n"
     ]
    },
    {
     "name": "stdout",
     "output_type": "stream",
     "text": [
      "****eoool****\n"
     ]
    },
    {
     "name": "stdin",
     "output_type": "stream",
     "text": [
      " $\n"
     ]
    },
    {
     "name": "stdout",
     "output_type": "stream",
     "text": [
      "****erlang****\n"
     ]
    },
    {
     "name": "stdin",
     "output_type": "stream",
     "text": [
      " Elixir\n",
      " Haskell\n",
      " Scala\n"
     ]
    },
    {
     "name": "stdout",
     "output_type": "stream",
     "text": [
      "****erlang escript****\n"
     ]
    },
    {
     "name": "stdin",
     "output_type": "stream",
     "text": [
      " erlang\n",
      " escript\n",
      " $\n"
     ]
    },
    {
     "name": "stdout",
     "output_type": "stream",
     "text": [
      "****euphoria****\n"
     ]
    },
    {
     "name": "stdin",
     "output_type": "stream",
     "text": [
      " Forth\n",
      " Tcl\n",
      " Haskell\n"
     ]
    },
    {
     "name": "stdout",
     "output_type": "stream",
     "text": [
      "****express****\n"
     ]
    },
    {
     "name": "stdin",
     "output_type": "stream",
     "text": [
      " Node js\n",
      " JavaScript\n",
      " MEAN Stack\n"
     ]
    },
    {
     "name": "stdout",
     "output_type": "stream",
     "text": [
      "****factor****\n"
     ]
    },
    {
     "name": "stdin",
     "output_type": "stream",
     "text": [
      " F#\n",
      " Haskell\n",
      " Erlang\n"
     ]
    },
    {
     "name": "stdout",
     "output_type": "stream",
     "text": [
      "****factors****\n"
     ]
    },
    {
     "name": "stdin",
     "output_type": "stream",
     "text": [
      " Haskell\n",
      " F#\n",
      " Erlang\n"
     ]
    },
    {
     "name": "stdout",
     "output_type": "stream",
     "text": [
      "****falcon****\n"
     ]
    },
    {
     "name": "stdin",
     "output_type": "stream",
     "text": [
      " LINUX\n",
      " $\n"
     ]
    },
    {
     "name": "stdout",
     "output_type": "stream",
     "text": [
      "****false****\n"
     ]
    },
    {
     "name": "stdin",
     "output_type": "stream",
     "text": [
      " 68000 assembler\n",
      " $\n"
     ]
    },
    {
     "name": "stdout",
     "output_type": "stream",
     "text": [
      "****fancy****\n"
     ]
    },
    {
     "name": "stdin",
     "output_type": "stream",
     "text": [
      " Ruby\n",
      " Erlang\n",
      " Io \n"
     ]
    },
    {
     "name": "stdout",
     "output_type": "stream",
     "text": [
      "****fantom****\n"
     ]
    },
    {
     "name": "stdin",
     "output_type": "stream",
     "text": [
      " Haxe\n",
      " Ceylon\n",
      " Clojure\n"
     ]
    },
    {
     "name": "stdout",
     "output_type": "stream",
     "text": [
      "****fennel****\n"
     ]
    },
    {
     "name": "stdin",
     "output_type": "stream",
     "text": [
      " Lua\n",
      " Lisp\n",
      " Ruby\n"
     ]
    },
    {
     "name": "stdout",
     "output_type": "stream",
     "text": [
      "****ferite****\n"
     ]
    },
    {
     "name": "stdin",
     "output_type": "stream",
     "text": [
      " scripting\n",
      " $\n"
     ]
    },
    {
     "name": "stdout",
     "output_type": "stream",
     "text": [
      "****fetlang****\n"
     ]
    },
    {
     "name": "stdin",
     "output_type": "stream",
     "text": [
      " Esolang\n",
      " $\n"
     ]
    },
    {
     "name": "stdout",
     "output_type": "stream",
     "text": [
      "****fim++****\n"
     ]
    },
    {
     "name": "stdin",
     "output_type": "stream",
     "text": [
      " Esolang\n",
      " $\n"
     ]
    },
    {
     "name": "stdout",
     "output_type": "stream",
     "text": [
      "****fish****\n"
     ]
    },
    {
     "name": "stdin",
     "output_type": "stream",
     "text": [
      " Esolang\n",
      " $\n"
     ]
    },
    {
     "name": "stdout",
     "output_type": "stream",
     "text": [
      "****firebase****\n"
     ]
    },
    {
     "name": "stdin",
     "output_type": "stream",
     "text": [
      " Heroku\n",
      " Netlify\n",
      " AWS\n"
     ]
    },
    {
     "name": "stdout",
     "output_type": "stream",
     "text": [
      "****fjoelnir****\n"
     ]
    },
    {
     "name": "stdin",
     "output_type": "stream",
     "text": [
      " Fjolnir\n",
      " $\n"
     ]
    },
    {
     "name": "stdout",
     "output_type": "stream",
     "text": [
      "****flascript****\n"
     ]
    },
    {
     "name": "stdin",
     "output_type": "stream",
     "text": [
      " scripting language\n",
      " $\n"
     ]
    },
    {
     "name": "stdout",
     "output_type": "stream",
     "text": [
      "****flask****\n"
     ]
    },
    {
     "name": "stdin",
     "output_type": "stream",
     "text": [
      " Django\n",
      " Jinga\n",
      " Vue.js\n"
     ]
    },
    {
     "name": "stdout",
     "output_type": "stream",
     "text": [
      "****flutter****\n"
     ]
    },
    {
     "name": "stdin",
     "output_type": "stream",
     "text": [
      " android\n",
      " app development\n",
      " dart\n"
     ]
    },
    {
     "name": "stdout",
     "output_type": "stream",
     "text": [
      "****fob****\n"
     ]
    },
    {
     "name": "stdin",
     "output_type": "stream",
     "text": [
      " $\n"
     ]
    },
    {
     "name": "stdout",
     "output_type": "stream",
     "text": [
      "****focal****\n"
     ]
    },
    {
     "name": "stdin",
     "output_type": "stream",
     "text": [
      " COBOL\n",
      " ALGOL\n",
      " Forth\n"
     ]
    },
    {
     "name": "stdout",
     "output_type": "stream",
     "text": [
      "****fog.fog****\n"
     ]
    },
    {
     "name": "stdin",
     "output_type": "stream",
     "text": [
      " clouds\n",
      " $\n"
     ]
    },
    {
     "name": "stdout",
     "output_type": "stream",
     "text": [
      "****foo****\n"
     ]
    },
    {
     "name": "stdin",
     "output_type": "stream",
     "text": [
      " $\n"
     ]
    },
    {
     "name": "stdout",
     "output_type": "stream",
     "text": [
      "****forobj****\n"
     ]
    },
    {
     "name": "stdin",
     "output_type": "stream",
     "text": [
      " $\n"
     ]
    },
    {
     "name": "stdout",
     "output_type": "stream",
     "text": [
      "****forth****\n"
     ]
    },
    {
     "name": "stdin",
     "output_type": "stream",
     "text": [
      " Lisp\n",
      " PASCAL\n",
      " Fortran\n"
     ]
    },
    {
     "name": "stdout",
     "output_type": "stream",
     "text": [
      "****fortob****\n"
     ]
    },
    {
     "name": "stdin",
     "output_type": "stream",
     "text": [
      " IBM\n",
      " $\n"
     ]
    },
    {
     "name": "stdout",
     "output_type": "stream",
     "text": [
      "****fortran****\n"
     ]
    },
    {
     "name": "stdin",
     "output_type": "stream",
     "text": [
      " COBOL\n",
      " BASIC\n",
      " Lisp\n"
     ]
    },
    {
     "name": "stdout",
     "output_type": "stream",
     "text": [
      "****fortran77****\n"
     ]
    },
    {
     "name": "stdin",
     "output_type": "stream",
     "text": [
      " COBOL\n",
      " BASIC\n",
      " Lisp\n"
     ]
    },
    {
     "name": "stdout",
     "output_type": "stream",
     "text": [
      "****fourier****\n"
     ]
    },
    {
     "name": "stdin",
     "output_type": "stream",
     "text": [
      " FFT\n",
      " transformation\n",
      " $\n"
     ]
    },
    {
     "name": "stdout",
     "output_type": "stream",
     "text": [
      "****fractran++****\n"
     ]
    },
    {
     "name": "stdin",
     "output_type": "stream",
     "text": [
      " LOLCODE\n",
      " whitespace\n",
      " BrainFuck\n"
     ]
    },
    {
     "name": "stdout",
     "output_type": "stream",
     "text": [
      "****freebrain****\n"
     ]
    },
    {
     "name": "stdin",
     "output_type": "stream",
     "text": [
      " $\n"
     ]
    },
    {
     "name": "stdout",
     "output_type": "stream",
     "text": [
      "****frink****\n"
     ]
    },
    {
     "name": "stdin",
     "output_type": "stream",
     "text": [
      " BASIC\n",
      " Perl\n",
      " Pascal\n"
     ]
    },
    {
     "name": "stdout",
     "output_type": "stream",
     "text": [
      "****fsharp****\n"
     ]
    },
    {
     "name": "stdin",
     "output_type": "stream",
     "text": [
      " C#\n",
      " Frink\n",
      " C\n"
     ]
    },
    {
     "name": "stdout",
     "output_type": "stream",
     "text": [
      "****fstar****\n"
     ]
    },
    {
     "name": "stdin",
     "output_type": "stream",
     "text": [
      " F#\n",
      " C\n",
      " R\n"
     ]
    },
    {
     "name": "stdout",
     "output_type": "stream",
     "text": [
      "****gaml****\n"
     ]
    },
    {
     "name": "stdin",
     "output_type": "stream",
     "text": [
      " $\n"
     ]
    },
    {
     "name": "stdout",
     "output_type": "stream",
     "text": [
      "****gammaplex****\n"
     ]
    },
    {
     "name": "stdin",
     "output_type": "stream",
     "text": [
      " Esolang\n",
      " $\n"
     ]
    },
    {
     "name": "stdout",
     "output_type": "stream",
     "text": [
      "****gasoil****\n"
     ]
    },
    {
     "name": "stdin",
     "output_type": "stream",
     "text": [
      " Esolang\n",
      " $\n"
     ]
    },
    {
     "name": "stdout",
     "output_type": "stream",
     "text": [
      "****gdscript****\n"
     ]
    },
    {
     "name": "stdin",
     "output_type": "stream",
     "text": [
      " C++\n",
      " game engine\n",
      " $\n"
     ]
    },
    {
     "name": "stdout",
     "output_type": "stream",
     "text": [
      "****gecho****\n"
     ]
    },
    {
     "name": "stdin",
     "output_type": "stream",
     "text": [
      " C++\n",
      " $\n"
     ]
    },
    {
     "name": "stdout",
     "output_type": "stream",
     "text": [
      "****gentzen****\n"
     ]
    },
    {
     "name": "stdin",
     "output_type": "stream",
     "text": [
      " $\n"
     ]
    },
    {
     "name": "stdout",
     "output_type": "stream",
     "text": [
      "****geojson****\n"
     ]
    },
    {
     "name": "stdin",
     "output_type": "stream",
     "text": [
      " GeoTIFF\n",
      " GeoPackage\n",
      " ShapeFile\n"
     ]
    },
    {
     "name": "stdout",
     "output_type": "stream",
     "text": [
      "****gibberish****\n"
     ]
    },
    {
     "name": "stdin",
     "output_type": "stream",
     "text": [
      " Turing-complete\n",
      " stack-based\n",
      " $\n"
     ]
    },
    {
     "name": "stdout",
     "output_type": "stream",
     "text": [
      "****glass****\n"
     ]
    },
    {
     "name": "stdin",
     "output_type": "stream",
     "text": [
      " Esolang\n",
      " $\n"
     ]
    },
    {
     "name": "stdout",
     "output_type": "stream",
     "text": [
      "****gml****\n"
     ]
    },
    {
     "name": "stdin",
     "output_type": "stream",
     "text": [
      " scripting language\n",
      " C\n",
      " JavaScript\n"
     ]
    },
    {
     "name": "stdout",
     "output_type": "stream",
     "text": [
      "****go****\n"
     ]
    },
    {
     "name": "stdin",
     "output_type": "stream",
     "text": [
      " Rust\n",
      " Python\n",
      " Scala\n"
     ]
    },
    {
     "name": "stdout",
     "output_type": "stream",
     "text": [
      "****golfscript****\n"
     ]
    },
    {
     "name": "stdin",
     "output_type": "stream",
     "text": [
      " Esolang\n",
      " $\n"
     ]
    },
    {
     "name": "stdout",
     "output_type": "stream",
     "text": [
      "****golo****\n"
     ]
    },
    {
     "name": "stdin",
     "output_type": "stream",
     "text": [
      " Gosu\n",
      " Xtend\n",
      " Haxe\n"
     ]
    },
    {
     "name": "stdout",
     "output_type": "stream",
     "text": [
      "****googleappscript****\n"
     ]
    },
    {
     "name": "stdin",
     "output_type": "stream",
     "text": [
      " scripting language\n",
      " $\n"
     ]
    },
    {
     "name": "stdout",
     "output_type": "stream",
     "text": [
      "****gosu****\n"
     ]
    },
    {
     "name": "stdin",
     "output_type": "stream",
     "text": [
      " Kotlin\n",
      " Haxe\n",
      " Scala\n"
     ]
    },
    {
     "name": "stdout",
     "output_type": "stream",
     "text": [
      "****graphql****\n"
     ]
    },
    {
     "name": "stdin",
     "output_type": "stream",
     "text": [
      " neo4j\n",
      " REDUX\n",
      " Reactjs\n"
     ]
    },
    {
     "name": "stdout",
     "output_type": "stream",
     "text": [
      "****gravity****\n"
     ]
    },
    {
     "name": "stdin",
     "output_type": "stream",
     "text": [
      " Swift\n",
      " JavaScript\n",
      " SmallTalk\n"
     ]
    },
    {
     "name": "stdout",
     "output_type": "stream",
     "text": [
      "****green marl****\n"
     ]
    },
    {
     "name": "stdin",
     "output_type": "stream",
     "text": [
      " DSL\n",
      " $\n"
     ]
    },
    {
     "name": "stdout",
     "output_type": "stream",
     "text": [
      "****gri****\n"
     ]
    },
    {
     "name": "stdin",
     "output_type": "stream",
     "text": [
      " LaTeX\n",
      " $\n"
     ]
    },
    {
     "name": "stdout",
     "output_type": "stream",
     "text": [
      "****gridscript****\n"
     ]
    },
    {
     "name": "stdin",
     "output_type": "stream",
     "text": [
      " Esolang\n",
      " $\n"
     ]
    },
    {
     "name": "stdout",
     "output_type": "stream",
     "text": [
      "****grin****\n"
     ]
    },
    {
     "name": "stdin",
     "output_type": "stream",
     "text": [
      " Haskell\n",
      " Graph Reduction Intermediate Notation\n",
      " $\n"
     ]
    },
    {
     "name": "stdout",
     "output_type": "stream",
     "text": [
      "****groovy****\n"
     ]
    },
    {
     "name": "stdin",
     "output_type": "stream",
     "text": [
      " Kotlin\n",
      " Maven\n",
      " Android\n"
     ]
    },
    {
     "name": "stdout",
     "output_type": "stream",
     "text": [
      "****gui4cli****\n"
     ]
    },
    {
     "name": "stdin",
     "output_type": "stream",
     "text": [
      " Amiga \n",
      " Basic\n",
      " $\n"
     ]
    },
    {
     "name": "stdout",
     "output_type": "stream",
     "text": [
      "****hack****\n"
     ]
    },
    {
     "name": "stdin",
     "output_type": "stream",
     "text": [
      " Vala\n",
      " R\n",
      " Go\n"
     ]
    },
    {
     "name": "stdout",
     "output_type": "stream",
     "text": [
      "****haml****\n"
     ]
    },
    {
     "name": "stdin",
     "output_type": "stream",
     "text": [
      " HTML\n",
      " HTML abstraction markup language\n",
      " $\n"
     ]
    },
    {
     "name": "stdout",
     "output_type": "stream",
     "text": [
      "****haskell****\n"
     ]
    },
    {
     "name": "stdin",
     "output_type": "stream",
     "text": [
      " Scala\n",
      " Lisp\n",
      " Erlang\n"
     ]
    },
    {
     "name": "stdout",
     "output_type": "stream",
     "text": [
      "****haxe****\n"
     ]
    },
    {
     "name": "stdin",
     "output_type": "stream",
     "text": [
      " Nim\n",
      " OCaml\n",
      " Clojure\n"
     ]
    },
    {
     "name": "stdout",
     "output_type": "stream",
     "text": [
      "****hello****\n"
     ]
    },
    {
     "name": "stdin",
     "output_type": "stream",
     "text": [
      " $\n"
     ]
    },
    {
     "name": "stdout",
     "output_type": "stream",
     "text": [
      "****hello++****\n"
     ]
    },
    {
     "name": "stdin",
     "output_type": "stream",
     "text": [
      " $\n"
     ]
    },
    {
     "name": "stdout",
     "output_type": "stream",
     "text": [
      "****hex****\n"
     ]
    },
    {
     "name": "stdin",
     "output_type": "stream",
     "text": [
      " hexadecimal\n",
      " binary\n",
      " decimal\n"
     ]
    },
    {
     "name": "stdout",
     "output_type": "stream",
     "text": [
      "****hexish****\n"
     ]
    },
    {
     "name": "stdin",
     "output_type": "stream",
     "text": [
      " Esolang\n",
      " $\n"
     ]
    },
    {
     "name": "stdout",
     "output_type": "stream",
     "text": [
      "****higher subleq****\n"
     ]
    },
    {
     "name": "stdin",
     "output_type": "stream",
     "text": [
      " Esolang\n",
      " $\n"
     ]
    },
    {
     "name": "stdout",
     "output_type": "stream",
     "text": [
      "****hodor****\n"
     ]
    },
    {
     "name": "stdin",
     "output_type": "stream",
     "text": [
      " Esolang\n",
      " $\n"
     ]
    },
    {
     "name": "stdout",
     "output_type": "stream",
     "text": [
      "****hollow****\n"
     ]
    },
    {
     "name": "stdin",
     "output_type": "stream",
     "text": [
      " $\n"
     ]
    },
    {
     "name": "stdout",
     "output_type": "stream",
     "text": [
      "****holyc****\n"
     ]
    },
    {
     "name": "stdin",
     "output_type": "stream",
     "text": [
      " C+\n",
      " C++\n",
      " C\n"
     ]
    },
    {
     "name": "stdout",
     "output_type": "stream",
     "text": [
      "****homespring****\n"
     ]
    },
    {
     "name": "stdin",
     "output_type": "stream",
     "text": [
      " INTERCAL\n",
      " Befunge\n",
      " Esolang\n"
     ]
    },
    {
     "name": "stdout",
     "output_type": "stream",
     "text": [
      "****hop****\n"
     ]
    },
    {
     "name": "stdin",
     "output_type": "stream",
     "text": [
      " Lisp\n",
      " Hop js\n",
      " $\n"
     ]
    },
    {
     "name": "stdout",
     "output_type": "stream",
     "text": [
      "****hq9+****\n"
     ]
    },
    {
     "name": "stdin",
     "output_type": "stream",
     "text": [
      " joke language\n",
      " $\n"
     ]
    },
    {
     "name": "stdout",
     "output_type": "stream",
     "text": [
      "****html****\n"
     ]
    },
    {
     "name": "stdin",
     "output_type": "stream",
     "text": [
      " HTML%\n",
      " CSS\n",
      " XML\n"
     ]
    },
    {
     "name": "stdout",
     "output_type": "stream",
     "text": [
      "****hubot****\n"
     ]
    },
    {
     "name": "stdin",
     "output_type": "stream",
     "text": [
      " JavaScript\n",
      " $\n"
     ]
    },
    {
     "name": "stdout",
     "output_type": "stream",
     "text": [
      "****huf****\n"
     ]
    },
    {
     "name": "stdin",
     "output_type": "stream",
     "text": [
      " $\n"
     ]
    },
    {
     "name": "stdout",
     "output_type": "stream",
     "text": [
      "****hy****\n"
     ]
    },
    {
     "name": "stdin",
     "output_type": "stream",
     "text": [
      " Lisp\n",
      " Racket\n",
      " PicoLisp\n"
     ]
    },
    {
     "name": "stdout",
     "output_type": "stream",
     "text": [
      "****hypertalk****\n"
     ]
    },
    {
     "name": "stdin",
     "output_type": "stream",
     "text": [
      " Prolog\n",
      " Pascal\n",
      " Lisp\n"
     ]
    },
    {
     "name": "stdout",
     "output_type": "stream",
     "text": [
      "****i5****\n"
     ]
    },
    {
     "name": "stdin",
     "output_type": "stream",
     "text": [
      " intel\n",
      " $\n"
     ]
    },
    {
     "name": "stdout",
     "output_type": "stream",
     "text": [
      "****ibm1401****\n"
     ]
    },
    {
     "name": "stdin",
     "output_type": "stream",
     "text": [
      " Data Processing System\n",
      " $\n"
     ]
    },
    {
     "name": "stdout",
     "output_type": "stream",
     "text": [
      "****icedcoffeescript****\n"
     ]
    },
    {
     "name": "stdin",
     "output_type": "stream",
     "text": [
      " JavaScript\n",
      " CoffeeScript\n",
      " Ruby\n"
     ]
    },
    {
     "name": "stdout",
     "output_type": "stream",
     "text": [
      "****ici****\n"
     ]
    },
    {
     "name": "stdin",
     "output_type": "stream",
     "text": [
      " C\n",
      " Perl\n",
      " $\n"
     ]
    },
    {
     "name": "stdout",
     "output_type": "stream",
     "text": [
      "****icon****\n"
     ]
    },
    {
     "name": "stdin",
     "output_type": "stream",
     "text": [
      " R\n",
      " C\n",
      " Java\n"
     ]
    },
    {
     "name": "stdout",
     "output_type": "stream",
     "text": [
      "****idl****\n"
     ]
    },
    {
     "name": "stdin",
     "output_type": "stream",
     "text": [
      " MATLAB\n",
      " Fortran\n",
      " Java\n"
     ]
    },
    {
     "name": "stdout",
     "output_type": "stream",
     "text": [
      "****idris****\n"
     ]
    },
    {
     "name": "stdin",
     "output_type": "stream",
     "text": [
      " Julia\n",
      " Prolog\n",
      " Haskell\n"
     ]
    },
    {
     "name": "stdout",
     "output_type": "stream",
     "text": [
      "****il****\n"
     ]
    },
    {
     "name": "stdin",
     "output_type": "stream",
     "text": [
      " Instruction list\n",
      " PLC\n",
      " $\n"
     ]
    },
    {
     "name": "stdout",
     "output_type": "stream",
     "text": [
      "****incal****\n"
     ]
    },
    {
     "name": "stdin",
     "output_type": "stream",
     "text": [
      " DSL\n",
      " Esolang\n",
      " $\n"
     ]
    },
    {
     "name": "stdout",
     "output_type": "stream",
     "text": [
      "****indec****\n"
     ]
    },
    {
     "name": "stdin",
     "output_type": "stream",
     "text": [
      " Esolang\n",
      " $\n"
     ]
    },
    {
     "name": "stdout",
     "output_type": "stream",
     "text": [
      "****inform****\n"
     ]
    },
    {
     "name": "stdin",
     "output_type": "stream",
     "text": [
      " Ren'py\n",
      " ADRIFT\n",
      " F#\n"
     ]
    },
    {
     "name": "stdout",
     "output_type": "stream",
     "text": [
      "****ink****\n"
     ]
    },
    {
     "name": "stdin",
     "output_type": "stream",
     "text": [
      " scripting language\n",
      " $\n"
     ]
    },
    {
     "name": "stdout",
     "output_type": "stream",
     "text": [
      "****inkling****\n"
     ]
    },
    {
     "name": "stdin",
     "output_type": "stream",
     "text": [
      " Artificial Intelligence\n",
      " Reinforcement Learning\n",
      " Bonsai AI Engine\n"
     ]
    },
    {
     "name": "stdout",
     "output_type": "stream",
     "text": [
      "****intercal****\n"
     ]
    },
    {
     "name": "stdin",
     "output_type": "stream",
     "text": [
      " BrainFuck\n",
      " Malbolge\n",
      " WhiteSpace\n"
     ]
    },
    {
     "name": "stdout",
     "output_type": "stream",
     "text": [
      "****internet of thing****\n"
     ]
    },
    {
     "name": "stdin",
     "output_type": "stream",
     "text": [
      " Java\n",
      " Python\n",
      " C++\n"
     ]
    },
    {
     "name": "stdout",
     "output_type": "stream",
     "text": [
      "****internet of things****\n"
     ]
    },
    {
     "name": "stdin",
     "output_type": "stream",
     "text": [
      " Java\n",
      " Python\n",
      " C++\n"
     ]
    },
    {
     "name": "stdout",
     "output_type": "stream",
     "text": [
      "****io****\n"
     ]
    },
    {
     "name": "stdin",
     "output_type": "stream",
     "text": [
      " R\n",
      " D\n",
      " J\n"
     ]
    },
    {
     "name": "stdout",
     "output_type": "stream",
     "text": [
      "****ioke****\n"
     ]
    },
    {
     "name": "stdin",
     "output_type": "stream",
     "text": [
      " Io\n",
      " SmallTack\n",
      " Lisp\n"
     ]
    },
    {
     "name": "stdout",
     "output_type": "stream",
     "text": [
      "****iot****\n"
     ]
    },
    {
     "name": "stdin",
     "output_type": "stream",
     "text": [
      " Java\n",
      " C++\n",
      " Python\n"
     ]
    },
    {
     "name": "stdout",
     "output_type": "stream",
     "text": [
      "****irc****\n"
     ]
    },
    {
     "name": "stdin",
     "output_type": "stream",
     "text": [
      " XChat\n",
      " ircII\n",
      " BitchX\n"
     ]
    },
    {
     "name": "stdout",
     "output_type": "stream",
     "text": [
      "****iscom****\n"
     ]
    },
    {
     "name": "stdin",
     "output_type": "stream",
     "text": [
      " $\n"
     ]
    },
    {
     "name": "stdout",
     "output_type": "stream",
     "text": [
      "****islisp****\n"
     ]
    },
    {
     "name": "stdin",
     "output_type": "stream",
     "text": [
      " Lisp\n",
      " CommonLisp\n",
      " Scheme\n"
     ]
    },
    {
     "name": "stdout",
     "output_type": "stream",
     "text": [
      "****j****\n"
     ]
    },
    {
     "name": "stdin",
     "output_type": "stream",
     "text": [
      " D\n",
      " R\n",
      " Io\n"
     ]
    },
    {
     "name": "stdout",
     "output_type": "stream",
     "text": [
      "****jade****\n"
     ]
    },
    {
     "name": "stdin",
     "output_type": "stream",
     "text": [
      " ejs\n",
      " express\n",
      " MEAN Stack\n"
     ]
    },
    {
     "name": "stdout",
     "output_type": "stream",
     "text": [
      "****jai****\n"
     ]
    },
    {
     "name": "stdin",
     "output_type": "stream",
     "text": [
      " $\n"
     ]
    },
    {
     "name": "stdout",
     "output_type": "stream",
     "text": [
      "****jasmin****\n"
     ]
    },
    {
     "name": "stdin",
     "output_type": "stream",
     "text": [
      " Assembler\n",
      " JVM\n",
      " Java\n"
     ]
    },
    {
     "name": "stdout",
     "output_type": "stream",
     "text": [
      "****jason****\n"
     ]
    },
    {
     "name": "stdin",
     "output_type": "stream",
     "text": [
      " JSON\n",
      " XML\n",
      " YAML\n"
     ]
    },
    {
     "name": "stdout",
     "output_type": "stream",
     "text": [
      "****java****\n"
     ]
    },
    {
     "name": "stdin",
     "output_type": "stream",
     "text": [
      " JavaScript\n",
      " Python\n",
      " C++\n"
     ]
    },
    {
     "name": "stdout",
     "output_type": "stream",
     "text": [
      "****javascript****\n"
     ]
    },
    {
     "name": "stdin",
     "output_type": "stream",
     "text": [
      " jQuery\n",
      " HTML\n",
      " CSS\n"
     ]
    },
    {
     "name": "stdout",
     "output_type": "stream",
     "text": [
      "****jess****\n"
     ]
    },
    {
     "name": "stdin",
     "output_type": "stream",
     "text": [
      " CLIPS \n",
      " Java\n",
      " $\n"
     ]
    },
    {
     "name": "stdout",
     "output_type": "stream",
     "text": [
      "****js****\n"
     ]
    },
    {
     "name": "stdin",
     "output_type": "stream",
     "text": [
      " javascript\n",
      " HTML\n",
      " CSS\n"
     ]
    },
    {
     "name": "stdout",
     "output_type": "stream",
     "text": [
      "****jsfuck****\n"
     ]
    },
    {
     "name": "stdin",
     "output_type": "stream",
     "text": [
      " BrainFuck\n",
      " Befunge\n",
      " JavaScript\n"
     ]
    },
    {
     "name": "stdout",
     "output_type": "stream",
     "text": [
      "****json****\n"
     ]
    },
    {
     "name": "stdin",
     "output_type": "stream",
     "text": [
      " XML\n",
      " Yaml\n",
      " AJax\n"
     ]
    },
    {
     "name": "stdout",
     "output_type": "stream",
     "text": [
      "****jsoniq****\n"
     ]
    },
    {
     "name": "stdin",
     "output_type": "stream",
     "text": [
      " JSON\n",
      " query and functional programming language\n",
      " $\n"
     ]
    },
    {
     "name": "stdout",
     "output_type": "stream",
     "text": [
      "****jsx****\n"
     ]
    },
    {
     "name": "stdin",
     "output_type": "stream",
     "text": [
      " JavaScript\n",
      " $\n"
     ]
    },
    {
     "name": "stdout",
     "output_type": "stream",
     "text": [
      "****judoscript****\n"
     ]
    },
    {
     "name": "stdin",
     "output_type": "stream",
     "text": [
      " BeanShell\n",
      " Yoix\n",
      " Pnuts\n"
     ]
    },
    {
     "name": "stdout",
     "output_type": "stream",
     "text": [
      "****julia****\n"
     ]
    },
    {
     "name": "stdin",
     "output_type": "stream",
     "text": [
      " R\n",
      " Rust\n",
      " Python\n"
     ]
    },
    {
     "name": "stdout",
     "output_type": "stream",
     "text": [
      "****jython****\n"
     ]
    },
    {
     "name": "stdin",
     "output_type": "stream",
     "text": [
      " IronPython\n",
      " Java\n",
      " Python\n"
     ]
    },
    {
     "name": "stdout",
     "output_type": "stream",
     "text": [
      "****k****\n"
     ]
    },
    {
     "name": "stdin",
     "output_type": "stream",
     "text": [
      " J\n",
      " D\n",
      " R\n"
     ]
    },
    {
     "name": "stdout",
     "output_type": "stream",
     "text": [
      "****karel****\n"
     ]
    },
    {
     "name": "stdin",
     "output_type": "stream",
     "text": [
      " Java\n",
      " Logo\n",
      " Python\n"
     ]
    },
    {
     "name": "stdout",
     "output_type": "stream",
     "text": [
      "****kiml****\n"
     ]
    },
    {
     "name": "stdin",
     "output_type": "stream",
     "text": [
      " Esolang\n",
      " $\n"
     ]
    },
    {
     "name": "stdout",
     "output_type": "stream",
     "text": [
      "****kipple****\n"
     ]
    },
    {
     "name": "stdin",
     "output_type": "stream",
     "text": [
      " Esolang\n",
      " $\n"
     ]
    },
    {
     "name": "stdout",
     "output_type": "stream",
     "text": [
      "****kitten****\n"
     ]
    },
    {
     "name": "stdin",
     "output_type": "stream",
     "text": [
      " stack-based functional programming language\n",
      " $\n"
     ]
    },
    {
     "name": "stdout",
     "output_type": "stream",
     "text": [
      "****koberi c****\n"
     ]
    },
    {
     "name": "stdin",
     "output_type": "stream",
     "text": [
      " C\n",
      " $\n"
     ]
    },
    {
     "name": "stdout",
     "output_type": "stream",
     "text": [
      "****kotlin****\n"
     ]
    },
    {
     "name": "stdin",
     "output_type": "stream",
     "text": [
      " Android\n",
      " Java\n",
      " App Development\n"
     ]
    },
    {
     "name": "stdout",
     "output_type": "stream",
     "text": [
      "****ksh****\n"
     ]
    },
    {
     "name": "stdin",
     "output_type": "stream",
     "text": [
      " scripts\n",
      " BASIC\n",
      " bash\n"
     ]
    },
    {
     "name": "stdout",
     "output_type": "stream",
     "text": [
      "****labyrinth****\n"
     ]
    },
    {
     "name": "stdin",
     "output_type": "stream",
     "text": [
      " two-dimensional stack-based programming language\n",
      " $\n"
     ]
    },
    {
     "name": "stdout",
     "output_type": "stream",
     "text": [
      "****lassoscript****\n"
     ]
    },
    {
     "name": "stdin",
     "output_type": "stream",
     "text": [
      " C\n",
      " lasso\n",
      " $\n"
     ]
    },
    {
     "name": "stdout",
     "output_type": "stream",
     "text": [
      "****latex****\n"
     ]
    },
    {
     "name": "stdin",
     "output_type": "stream",
     "text": [
      " LyX\n",
      " MiKTeX\n",
      " Overleaf\n"
     ]
    },
    {
     "name": "stdout",
     "output_type": "stream",
     "text": [
      "****lazyk****\n"
     ]
    },
    {
     "name": "stdin",
     "output_type": "stream",
     "text": [
      " functional programming language\n",
      " $\n"
     ]
    },
    {
     "name": "stdout",
     "output_type": "stream",
     "text": [
      "****lcoffee****\n"
     ]
    },
    {
     "name": "stdin",
     "output_type": "stream",
     "text": [
      " CoffeeScript\n",
      " TypeScript\n",
      " Php\n"
     ]
    },
    {
     "name": "stdout",
     "output_type": "stream",
     "text": [
      "****less****\n"
     ]
    },
    {
     "name": "stdin",
     "output_type": "stream",
     "text": [
      " SASS\n",
      " Stylus\n",
      " HTML\n"
     ]
    },
    {
     "name": "stdout",
     "output_type": "stream",
     "text": [
      "****leszek****\n"
     ]
    },
    {
     "name": "stdin",
     "output_type": "stream",
     "text": [
      " Esolang\n",
      " $\n"
     ]
    },
    {
     "name": "stdout",
     "output_type": "stream",
     "text": [
      "****limbo****\n"
     ]
    },
    {
     "name": "stdin",
     "output_type": "stream",
     "text": [
      " LotusScript\n",
      " Go\n",
      " D\n"
     ]
    },
    {
     "name": "stdout",
     "output_type": "stream",
     "text": [
      "****lingo****\n"
     ]
    },
    {
     "name": "stdin",
     "output_type": "stream",
     "text": [
      " Java\n",
      " COBOL\n",
      " C++\n"
     ]
    },
    {
     "name": "stdout",
     "output_type": "stream",
     "text": [
      "****lisaac****\n"
     ]
    },
    {
     "name": "stdin",
     "output_type": "stream",
     "text": [
      " C\n",
      " $\n"
     ]
    },
    {
     "name": "stdout",
     "output_type": "stream",
     "text": [
      "****lisp****\n"
     ]
    },
    {
     "name": "stdin",
     "output_type": "stream",
     "text": [
      " Prolog\n",
      " Fortran\n",
      " Clojure\n"
     ]
    },
    {
     "name": "stdout",
     "output_type": "stream",
     "text": [
      "****livescript****\n"
     ]
    },
    {
     "name": "stdin",
     "output_type": "stream",
     "text": [
      " Haskell\n",
      " Elm\n",
      " CoffeeScript\n"
     ]
    },
    {
     "name": "stdout",
     "output_type": "stream",
     "text": [
      "****llvm****\n"
     ]
    },
    {
     "name": "stdin",
     "output_type": "stream",
     "text": [
      " Clang\n",
      " LLDB\n",
      " CMake\n"
     ]
    },
    {
     "name": "stdout",
     "output_type": "stream",
     "text": [
      "****lnusp****\n"
     ]
    },
    {
     "name": "stdin",
     "output_type": "stream",
     "text": [
      " Lisp\n",
      " Clojure\n",
      " Haskell\n"
     ]
    },
    {
     "name": "stdout",
     "output_type": "stream",
     "text": [
      "****locomotive basic****\n"
     ]
    },
    {
     "name": "stdin",
     "output_type": "stream",
     "text": [
      " Basic\n",
      " $\n"
     ]
    },
    {
     "name": "stdout",
     "output_type": "stream",
     "text": [
      "****logicode****\n"
     ]
    },
    {
     "name": "stdin",
     "output_type": "stream",
     "text": [
      " Esolang\n",
      " $\n"
     ]
    },
    {
     "name": "stdout",
     "output_type": "stream",
     "text": [
      "****logo****\n"
     ]
    },
    {
     "name": "stdin",
     "output_type": "stream",
     "text": [
      " NetLogo\n",
      " BASIC\n",
      " Pascal\n"
     ]
    },
    {
     "name": "stdout",
     "output_type": "stream",
     "text": [
      "****logtalk****\n"
     ]
    },
    {
     "name": "stdin",
     "output_type": "stream",
     "text": [
      " Java\n",
      " Python\n",
      " C#\n"
     ]
    },
    {
     "name": "stdout",
     "output_type": "stream",
     "text": [
      "****lola****\n"
     ]
    },
    {
     "name": "stdin",
     "output_type": "stream",
     "text": [
      " Zig \n",
      " C++\n",
      " Esolang\n"
     ]
    },
    {
     "name": "stdout",
     "output_type": "stream",
     "text": [
      "****lolcode****\n"
     ]
    },
    {
     "name": "stdin",
     "output_type": "stream",
     "text": [
      " BrainFuck\n",
      " Malbolge\n",
      " WhiteSpace\n"
     ]
    },
    {
     "name": "stdout",
     "output_type": "stream",
     "text": [
      "****lolpython****\n"
     ]
    },
    {
     "name": "stdin",
     "output_type": "stream",
     "text": [
      " lolcode\n",
      " $\n"
     ]
    },
    {
     "name": "stdout",
     "output_type": "stream",
     "text": [
      "****lotusscript****\n"
     ]
    },
    {
     "name": "stdin",
     "output_type": "stream",
     "text": [
      " Limbo\n",
      " Perl\n",
      " JavaScript\n"
     ]
    },
    {
     "name": "stdout",
     "output_type": "stream",
     "text": [
      "****lsl****\n"
     ]
    },
    {
     "name": "stdin",
     "output_type": "stream",
     "text": [
      " scripting language\n",
      " $\n"
     ]
    },
    {
     "name": "stdout",
     "output_type": "stream",
     "text": [
      "****lua****\n"
     ]
    },
    {
     "name": "stdin",
     "output_type": "stream",
     "text": [
      " Python\n",
      " C++\n",
      " Java\n"
     ]
    },
    {
     "name": "stdout",
     "output_type": "stream",
     "text": [
      "****lua grimex****\n"
     ]
    },
    {
     "name": "stdin",
     "output_type": "stream",
     "text": [
      " lua\n",
      " C++\n",
      " $\n"
     ]
    },
    {
     "name": "stdout",
     "output_type": "stream",
     "text": [
      "****m4****\n"
     ]
    },
    {
     "name": "stdin",
     "output_type": "stream",
     "text": [
      " UNIX\n",
      " $\n"
     ]
    },
    {
     "name": "stdout",
     "output_type": "stream",
     "text": [
      "****machine learning****\n"
     ]
    },
    {
     "name": "stdin",
     "output_type": "stream",
     "text": [
      " Artificial intelligence\n",
      " Deep learning\n",
      " Natural language processing\n"
     ]
    },
    {
     "name": "stdout",
     "output_type": "stream",
     "text": [
      "****maclisp****\n"
     ]
    },
    {
     "name": "stdin",
     "output_type": "stream",
     "text": [
      " Lisp\n",
      " InterLisp\n",
      " Emacs Lisp\n"
     ]
    },
    {
     "name": "stdout",
     "output_type": "stream",
     "text": [
      "****macsyma****\n"
     ]
    },
    {
     "name": "stdin",
     "output_type": "stream",
     "text": [
      " computer algebra system\n",
      " $\n"
     ]
    },
    {
     "name": "stdout",
     "output_type": "stream",
     "text": [
      "****magic****\n"
     ]
    },
    {
     "name": "stdin",
     "output_type": "stream",
     "text": [
      " UniPaaS\n",
      " $\n"
     ]
    },
    {
     "name": "stdout",
     "output_type": "stream",
     "text": [
      "****make****\n"
     ]
    },
    {
     "name": "stdin",
     "output_type": "stream",
     "text": [
      " cmake\n",
      " $\n"
     ]
    },
    {
     "name": "stdout",
     "output_type": "stream",
     "text": [
      "****malbolge****\n"
     ]
    },
    {
     "name": "stdin",
     "output_type": "stream",
     "text": [
      " Esolang\n",
      " BrainFuck\n",
      " WhiteSpace\n"
     ]
    },
    {
     "name": "stdout",
     "output_type": "stream",
     "text": [
      "****markdown****\n"
     ]
    },
    {
     "name": "stdin",
     "output_type": "stream",
     "text": [
      " VIM\n",
      " Sublime Text\n",
      " Atom\n"
     ]
    },
    {
     "name": "stdout",
     "output_type": "stream",
     "text": [
      "****mathematica****\n"
     ]
    },
    {
     "name": "stdin",
     "output_type": "stream",
     "text": [
      " Wolfram Language\n",
      " Python\n",
      " Haskell\n"
     ]
    },
    {
     "name": "stdout",
     "output_type": "stream",
     "text": [
      "****mathematica online****\n"
     ]
    },
    {
     "name": "stdin",
     "output_type": "stream",
     "text": [
      " Wolfram Language\n",
      " Python\n",
      " Haskell\n"
     ]
    },
    {
     "name": "stdout",
     "output_type": "stream",
     "text": [
      "****matlab****\n"
     ]
    },
    {
     "name": "stdin",
     "output_type": "stream",
     "text": [
      " GNU Octave\n",
      " Python\n",
      " matplotlib\n"
     ]
    },
    {
     "name": "stdout",
     "output_type": "stream",
     "text": [
      "****maxscript****\n"
     ]
    },
    {
     "name": "stdin",
     "output_type": "stream",
     "text": [
      " Modula\n",
      " Miva\n",
      " $\n"
     ]
    },
    {
     "name": "stdout",
     "output_type": "stream",
     "text": [
      "****mean****\n"
     ]
    },
    {
     "name": "stdin",
     "output_type": "stream",
     "text": [
      " mern\n",
      " web development\n",
      " Angular\n"
     ]
    },
    {
     "name": "stdout",
     "output_type": "stream",
     "text": [
      "****mean stack****\n"
     ]
    },
    {
     "name": "stdin",
     "output_type": "stream",
     "text": [
      " mern stack\n",
      " web development\n",
      " Angular\n"
     ]
    },
    {
     "name": "stdout",
     "output_type": "stream",
     "text": [
      "****mel****\n"
     ]
    },
    {
     "name": "stdin",
     "output_type": "stream",
     "text": [
      " Maya Embedded Language\n",
      " MaxScript\n",
      " Python\n"
     ]
    },
    {
     "name": "stdout",
     "output_type": "stream",
     "text": [
      "****meq****\n"
     ]
    },
    {
     "name": "stdin",
     "output_type": "stream",
     "text": [
      " $\n"
     ]
    },
    {
     "name": "stdout",
     "output_type": "stream",
     "text": [
      "****mercury****\n"
     ]
    },
    {
     "name": "stdin",
     "output_type": "stream",
     "text": [
      " Haskell\n",
      " Prolog\n",
      " COBOL\n"
     ]
    },
    {
     "name": "stdout",
     "output_type": "stream",
     "text": [
      "****mern****\n"
     ]
    },
    {
     "name": "stdin",
     "output_type": "stream",
     "text": [
      " mean\n",
      " web development\n",
      " Reactjs\n"
     ]
    },
    {
     "name": "stdout",
     "output_type": "stream",
     "text": [
      "****mern stack****\n"
     ]
    },
    {
     "name": "stdin",
     "output_type": "stream",
     "text": [
      " mean stack\n",
      " web development\n",
      " Reactjs\n"
     ]
    },
    {
     "name": "stdout",
     "output_type": "stream",
     "text": [
      "****milkscript****\n"
     ]
    },
    {
     "name": "stdin",
     "output_type": "stream",
     "text": [
      " milk\n",
      " $\n"
     ]
    },
    {
     "name": "stdout",
     "output_type": "stream",
     "text": [
      "****minecraft****\n"
     ]
    },
    {
     "name": "stdin",
     "output_type": "stream",
     "text": [
      " Java\n",
      " $\n"
     ]
    },
    {
     "name": "stdout",
     "output_type": "stream",
     "text": [
      "****mips****\n"
     ]
    },
    {
     "name": "stdin",
     "output_type": "stream",
     "text": [
      " assembly language\n",
      " CISC\n",
      " RISC\n"
     ]
    },
    {
     "name": "stdout",
     "output_type": "stream",
     "text": [
      "****mirc****\n"
     ]
    },
    {
     "name": "stdin",
     "output_type": "stream",
     "text": [
      " mSL\n",
      " JavaScript\n",
      " AppleScript\n"
     ]
    },
    {
     "name": "stdout",
     "output_type": "stream",
     "text": [
      "****mmmm()****\n"
     ]
    },
    {
     "name": "stdin",
     "output_type": "stream",
     "text": [
      " $\n"
     ]
    },
    {
     "name": "stdout",
     "output_type": "stream",
     "text": [
      "****modiscript****\n"
     ]
    },
    {
     "name": "stdin",
     "output_type": "stream",
     "text": [
      " $\n"
     ]
    },
    {
     "name": "stdout",
     "output_type": "stream",
     "text": [
      "****modula 2****\n"
     ]
    },
    {
     "name": "stdin",
     "output_type": "stream",
     "text": [
      " COBOL\n",
      " PasCAl\n",
      " Lisp\n"
     ]
    },
    {
     "name": "stdout",
     "output_type": "stream",
     "text": [
      "****modula 3****\n"
     ]
    },
    {
     "name": "stdin",
     "output_type": "stream",
     "text": [
      " COBOL\n",
      " Pascal\n",
      " Fortran\n"
     ]
    },
    {
     "name": "stdout",
     "output_type": "stream",
     "text": [
      "****mongo****\n"
     ]
    },
    {
     "name": "stdin",
     "output_type": "stream",
     "text": [
      " SQL\n",
      " PostSQL\n",
      " MEAN Stack\n"
     ]
    },
    {
     "name": "stdout",
     "output_type": "stream",
     "text": [
      "****mongo db****\n"
     ]
    },
    {
     "name": "stdin",
     "output_type": "stream",
     "text": [
      " SQL\n",
      " MYSQL\n",
      " MEAN STACK\n"
     ]
    },
    {
     "name": "stdout",
     "output_type": "stream",
     "text": [
      "****monte****\n"
     ]
    },
    {
     "name": "stdin",
     "output_type": "stream",
     "text": [
      " Python\n",
      " E\n",
      " $\n"
     ]
    },
    {
     "name": "stdout",
     "output_type": "stream",
     "text": [
      "****moo****\n"
     ]
    },
    {
     "name": "stdin",
     "output_type": "stream",
     "text": [
      " Esolang\n",
      " $\n"
     ]
    },
    {
     "name": "stdout",
     "output_type": "stream",
     "text": [
      "****moonscript****\n"
     ]
    },
    {
     "name": "stdin",
     "output_type": "stream",
     "text": [
      " Lua\n",
      " scripting language\n",
      " $\n"
     ]
    },
    {
     "name": "stdout",
     "output_type": "stream",
     "text": [
      "****morsecode****\n"
     ]
    },
    {
     "name": "stdin",
     "output_type": "stream",
     "text": [
      " reMorse\n",
      " turning tarpit\n",
      " Esolang\n"
     ]
    },
    {
     "name": "stdout",
     "output_type": "stream",
     "text": [
      "****mouse****\n"
     ]
    },
    {
     "name": "stdin",
     "output_type": "stream",
     "text": [
      " MUSYS\n",
      " $\n"
     ]
    },
    {
     "name": "stdout",
     "output_type": "stream",
     "text": [
      "****move****\n"
     ]
    },
    {
     "name": "stdin",
     "output_type": "stream",
     "text": [
      " stack-based language\n",
      " $\n"
     ]
    },
    {
     "name": "stdout",
     "output_type": "stream",
     "text": [
      "****mozart****\n"
     ]
    },
    {
     "name": "stdin",
     "output_type": "stream",
     "text": [
      " Oz\n",
      " Perl\n",
      " Ruby\n"
     ]
    },
    {
     "name": "stdout",
     "output_type": "stream",
     "text": [
      "****muf****\n"
     ]
    },
    {
     "name": "stdin",
     "output_type": "stream",
     "text": [
      " TinyMUCK \n",
      " $\n"
     ]
    },
    {
     "name": "stdout",
     "output_type": "stream",
     "text": [
      "****mumps****\n"
     ]
    },
    {
     "name": "stdin",
     "output_type": "stream",
     "text": [
      " Python\n",
      " BASIC\n",
      " Small Talk\n"
     ]
    },
    {
     "name": "stdout",
     "output_type": "stream",
     "text": [
      "****mushcode****\n"
     ]
    },
    {
     "name": "stdin",
     "output_type": "stream",
     "text": [
      " MUSH\n",
      " TinyMUSH\n",
      " TinyMUX \n"
     ]
    },
    {
     "name": "stdout",
     "output_type": "stream",
     "text": [
      "****myrddin****\n"
     ]
    },
    {
     "name": "stdin",
     "output_type": "stream",
     "text": [
      " $\n"
     ]
    },
    {
     "name": "stdout",
     "output_type": "stream",
     "text": [
      "****mysql****\n"
     ]
    },
    {
     "name": "stdin",
     "output_type": "stream",
     "text": [
      " SQL\n",
      " RDBMS\n",
      " MONGO\n"
     ]
    },
    {
     "name": "stdout",
     "output_type": "stream",
     "text": [
      "****nadeshiko****\n"
     ]
    },
    {
     "name": "stdin",
     "output_type": "stream",
     "text": [
      " $\n"
     ]
    },
    {
     "name": "stdout",
     "output_type": "stream",
     "text": [
      "****neko****\n"
     ]
    },
    {
     "name": "stdin",
     "output_type": "stream",
     "text": [
      " JavaScript\n",
      " PHP\n",
      " Python\n"
     ]
    },
    {
     "name": "stdout",
     "output_type": "stream",
     "text": [
      "****nemerle****\n"
     ]
    },
    {
     "name": "stdin",
     "output_type": "stream",
     "text": [
      " F#\n",
      " Scala\n",
      " Java\n"
     ]
    },
    {
     "name": "stdout",
     "output_type": "stream",
     "text": [
      "****newtonscript****\n"
     ]
    },
    {
     "name": "stdin",
     "output_type": "stream",
     "text": [
      " Rebol\n",
      " Lua\n",
      " Self\n"
     ]
    },
    {
     "name": "stdout",
     "output_type": "stream",
     "text": [
      "****nice****\n"
     ]
    },
    {
     "name": "stdin",
     "output_type": "stream",
     "text": [
      " C++\n",
      " $\n"
     ]
    },
    {
     "name": "stdout",
     "output_type": "stream",
     "text": [
      "****nim****\n"
     ]
    },
    {
     "name": "stdin",
     "output_type": "stream",
     "text": [
      " Rust\n",
      " Haxe\n",
      " Julia\n"
     ]
    },
    {
     "name": "stdout",
     "output_type": "stream",
     "text": [
      "****nit****\n"
     ]
    },
    {
     "name": "stdin",
     "output_type": "stream",
     "text": [
      " C++\n",
      " Java\n",
      " COM\n"
     ]
    },
    {
     "name": "stdout",
     "output_type": "stream",
     "text": [
      "****node****\n"
     ]
    },
    {
     "name": "stdin",
     "output_type": "stream",
     "text": [
      " MEAN Stack\n",
      " MERN STACK\n",
      " JavaScript\n"
     ]
    },
    {
     "name": "stdout",
     "output_type": "stream",
     "text": [
      "****node js****\n"
     ]
    },
    {
     "name": "stdin",
     "output_type": "stream",
     "text": [
      " MEAN STACK\n",
      " MERN STACK\n",
      " javascript\n"
     ]
    },
    {
     "name": "stdout",
     "output_type": "stream",
     "text": [
      "****nodejs****\n"
     ]
    },
    {
     "name": "stdin",
     "output_type": "stream",
     "text": [
      " MEAN STACK\n",
      " MERN STACK\n",
      " javascript\n"
     ]
    },
    {
     "name": "stdout",
     "output_type": "stream",
     "text": [
      "****nosql****\n"
     ]
    },
    {
     "name": "stdin",
     "output_type": "stream",
     "text": [
      " SQL\n",
      " JSON\n",
      " Firebase\n"
     ]
    },
    {
     "name": "stdout",
     "output_type": "stream",
     "text": [
      "****not****\n"
     ]
    },
    {
     "name": "stdin",
     "output_type": "stream",
     "text": [
      " $\n"
     ]
    },
    {
     "name": "stdout",
     "output_type": "stream",
     "text": [
      "****novice****\n"
     ]
    },
    {
     "name": "stdin",
     "output_type": "stream",
     "text": [
      " Java\n",
      " Python\n",
      " C++\n"
     ]
    },
    {
     "name": "stdout",
     "output_type": "stream",
     "text": [
      "****nu****\n"
     ]
    },
    {
     "name": "stdin",
     "output_type": "stream",
     "text": [
      " Lua\n",
      " Smalltalk\n",
      " Python\n"
     ]
    },
    {
     "name": "stdout",
     "output_type": "stream",
     "text": [
      "****nwscript****\n"
     ]
    },
    {
     "name": "stdin",
     "output_type": "stream",
     "text": [
      " VBScript\n",
      " ActionScript\n",
      " HyperTalk\n"
     ]
    },
    {
     "name": "stdout",
     "output_type": "stream",
     "text": [
      "****nxc****\n"
     ]
    },
    {
     "name": "stdin",
     "output_type": "stream",
     "text": [
      " C\n",
      " Not eXactly C\n",
      " C++\n"
     ]
    },
    {
     "name": "stdout",
     "output_type": "stream",
     "text": [
      "****oberon****\n"
     ]
    },
    {
     "name": "stdin",
     "output_type": "stream",
     "text": [
      " Go\n",
      " Pascal\n",
      " Fortran\n"
     ]
    },
    {
     "name": "stdout",
     "output_type": "stream",
     "text": [
      "****oberon 2****\n"
     ]
    },
    {
     "name": "stdin",
     "output_type": "stream",
     "text": [
      " Modula\n",
      " C++\n",
      " Ada\n"
     ]
    },
    {
     "name": "stdout",
     "output_type": "stream",
     "text": [
      "****obix****\n"
     ]
    },
    {
     "name": "stdin",
     "output_type": "stream",
     "text": [
      " RESTful Web Services-based\n",
      " XML\n",
      " URI\n"
     ]
    },
    {
     "name": "stdout",
     "output_type": "stream",
     "text": [
      "****obj****\n"
     ]
    },
    {
     "name": "stdin",
     "output_type": "stream",
     "text": [
      " declarative language\n",
      " $\n"
     ]
    },
    {
     "name": "stdout",
     "output_type": "stream",
     "text": [
      "****object pascal****\n"
     ]
    },
    {
     "name": "stdin",
     "output_type": "stream",
     "text": [
      " java\n",
      " python\n",
      " delphi\n"
     ]
    },
    {
     "name": "stdout",
     "output_type": "stream",
     "text": [
      "****objective c****\n"
     ]
    },
    {
     "name": "stdin",
     "output_type": "stream",
     "text": [
      " Object Pascal\n",
      " Java\n",
      " Python\n"
     ]
    },
    {
     "name": "stdout",
     "output_type": "stream",
     "text": [
      "****objective j****\n"
     ]
    },
    {
     "name": "stdin",
     "output_type": "stream",
     "text": [
      " Rust\n",
      " Squeak\n",
      " objective c\n"
     ]
    },
    {
     "name": "stdout",
     "output_type": "stream",
     "text": [
      "****objectstar****\n"
     ]
    },
    {
     "name": "stdin",
     "output_type": "stream",
     "text": [
      " $\n"
     ]
    },
    {
     "name": "stdout",
     "output_type": "stream",
     "text": [
      "****ocaml****\n"
     ]
    },
    {
     "name": "stdin",
     "output_type": "stream",
     "text": [
      " Reason\n",
      " F#\n",
      " Caml\n"
     ]
    },
    {
     "name": "stdout",
     "output_type": "stream",
     "text": [
      "****octave****\n"
     ]
    },
    {
     "name": "stdin",
     "output_type": "stream",
     "text": [
      " GNU Octave\n",
      " Matlab\n",
      " Julia\n"
     ]
    },
    {
     "name": "stdout",
     "output_type": "stream",
     "text": [
      "****omgrofl****\n"
     ]
    },
    {
     "name": "stdin",
     "output_type": "stream",
     "text": [
      " Esolang\n",
      " $\n"
     ]
    },
    {
     "name": "stdout",
     "output_type": "stream",
     "text": [
      "****ooc****\n"
     ]
    },
    {
     "name": "stdin",
     "output_type": "stream",
     "text": [
      " Object Oriented c\n",
      " $\n"
     ]
    },
    {
     "name": "stdout",
     "output_type": "stream",
     "text": [
      "****ook****\n"
     ]
    },
    {
     "name": "stdin",
     "output_type": "stream",
     "text": [
      " Esolang\n",
      " $\n"
     ]
    },
    {
     "name": "stdout",
     "output_type": "stream",
     "text": [
      "****opa****\n"
     ]
    },
    {
     "name": "stdin",
     "output_type": "stream",
     "text": [
      " Dart\n",
      " Haxe\n",
      " Go\n"
     ]
    },
    {
     "name": "stdout",
     "output_type": "stream",
     "text": [
      "****openlaszlo****\n"
     ]
    },
    {
     "name": "stdin",
     "output_type": "stream",
     "text": [
      " XUL\n",
      " MXML\n",
      " XAML\n"
     ]
    },
    {
     "name": "stdout",
     "output_type": "stream",
     "text": [
      "****oraclesql****\n"
     ]
    },
    {
     "name": "stdin",
     "output_type": "stream",
     "text": [
      " SQL\n",
      " PostgreSQL\n",
      " Casandra\n"
     ]
    },
    {
     "name": "stdout",
     "output_type": "stream",
     "text": [
      "****orc****\n"
     ]
    },
    {
     "name": "stdin",
     "output_type": "stream",
     "text": [
      " Oz\n",
      " MOdula\n",
      " OPS5\n"
     ]
    },
    {
     "name": "stdout",
     "output_type": "stream",
     "text": [
      "****oz****\n"
     ]
    },
    {
     "name": "stdin",
     "output_type": "stream",
     "text": [
      " Perl\n",
      " Ruby\n",
      " java\n"
     ]
    },
    {
     "name": "stdout",
     "output_type": "stream",
     "text": [
      "****parenthetic****\n"
     ]
    },
    {
     "name": "stdin",
     "output_type": "stream",
     "text": [
      " Esolang\n",
      " $\n"
     ]
    },
    {
     "name": "stdout",
     "output_type": "stream",
     "text": [
      "****parser****\n"
     ]
    },
    {
     "name": "stdin",
     "output_type": "stream",
     "text": [
      " compiler design\n",
      " $\n"
     ]
    },
    {
     "name": "stdout",
     "output_type": "stream",
     "text": [
      "****pascal****\n"
     ]
    },
    {
     "name": "stdin",
     "output_type": "stream",
     "text": [
      " COBOL\n",
      " BASIC\n",
      " FORTRAN\n"
     ]
    },
    {
     "name": "stdout",
     "output_type": "stream",
     "text": [
      "****pauscal****\n"
     ]
    },
    {
     "name": "stdin",
     "output_type": "stream",
     "text": [
      " COBOL\n",
      " BASIC\n",
      " FOrtran\n"
     ]
    },
    {
     "name": "stdout",
     "output_type": "stream",
     "text": [
      "****pawn****\n"
     ]
    },
    {
     "name": "stdin",
     "output_type": "stream",
     "text": [
      " $\n"
     ]
    },
    {
     "name": "stdout",
     "output_type": "stream",
     "text": [
      "****pb****\n"
     ]
    },
    {
     "name": "stdin",
     "output_type": "stream",
     "text": [
      " Esolang\n",
      " $\n"
     ]
    },
    {
     "name": "stdout",
     "output_type": "stream",
     "text": [
      "****pbwin****\n"
     ]
    },
    {
     "name": "stdin",
     "output_type": "stream",
     "text": [
      " PowerBasic\n",
      " $\n"
     ]
    },
    {
     "name": "stdout",
     "output_type": "stream",
     "text": [
      "****pebble****\n"
     ]
    },
    {
     "name": "stdin",
     "output_type": "stream",
     "text": [
      " $\n"
     ]
    },
    {
     "name": "stdout",
     "output_type": "stream",
     "text": [
      "****perl****\n"
     ]
    },
    {
     "name": "stdin",
     "output_type": "stream",
     "text": [
      " Ruby\n",
      " Python\n",
      " PHP\n"
     ]
    },
    {
     "name": "stdout",
     "output_type": "stream",
     "text": [
      "****perl6****\n"
     ]
    },
    {
     "name": "stdin",
     "output_type": "stream",
     "text": [
      " SmallTalk\n",
      " Ruby\n",
      " Python\n"
     ]
    },
    {
     "name": "stdout",
     "output_type": "stream",
     "text": [
      "****perseus****\n"
     ]
    },
    {
     "name": "stdin",
     "output_type": "stream",
     "text": [
      " Integrated Assembler\n",
      " $\n"
     ]
    },
    {
     "name": "stdout",
     "output_type": "stream",
     "text": [
      "****pharo****\n"
     ]
    },
    {
     "name": "stdin",
     "output_type": "stream",
     "text": [
      " SmallTalk\n",
      " GO\n",
      " Elixir\n"
     ]
    },
    {
     "name": "stdout",
     "output_type": "stream",
     "text": [
      "****php****\n"
     ]
    },
    {
     "name": "stdin",
     "output_type": "stream",
     "text": [
      " HTML\n",
      " Perl\n",
      " Apache\n"
     ]
    },
    {
     "name": "stdout",
     "output_type": "stream",
     "text": [
      "****picat****\n"
     ]
    },
    {
     "name": "stdin",
     "output_type": "stream",
     "text": [
      " scripting language\n",
      " $\n"
     ]
    },
    {
     "name": "stdout",
     "output_type": "stream",
     "text": [
      "****piet****\n"
     ]
    },
    {
     "name": "stdin",
     "output_type": "stream",
     "text": [
      " Esolang\n",
      " $\n"
     ]
    },
    {
     "name": "stdout",
     "output_type": "stream",
     "text": [
      "****pig****\n"
     ]
    },
    {
     "name": "stdin",
     "output_type": "stream",
     "text": [
      " Apache Hiv\n",
      " Apache Hadoop\n",
      " Apache Spark\n"
     ]
    },
    {
     "name": "stdout",
     "output_type": "stream",
     "text": [
      "****pikalang****\n"
     ]
    },
    {
     "name": "stdin",
     "output_type": "stream",
     "text": [
      " Esolang\n",
      " $\n"
     ]
    },
    {
     "name": "stdout",
     "output_type": "stream",
     "text": [
      "****pike****\n"
     ]
    },
    {
     "name": "stdin",
     "output_type": "stream",
     "text": [
      " Java\n",
      " Perl\n",
      " PHP\n"
     ]
    },
    {
     "name": "stdout",
     "output_type": "stream",
     "text": [
      "****pit****\n"
     ]
    },
    {
     "name": "stdin",
     "output_type": "stream",
     "text": [
      " Esolang\n",
      " $\n"
     ]
    },
    {
     "name": "stdout",
     "output_type": "stream",
     "text": [
      "****pizza****\n"
     ]
    },
    {
     "name": "stdin",
     "output_type": "stream",
     "text": [
      " Java 1.4\n",
      " $\n"
     ]
    },
    {
     "name": "stdout",
     "output_type": "stream",
     "text": [
      "****plain text****\n"
     ]
    },
    {
     "name": "stdin",
     "output_type": "stream",
     "text": [
      " $\n"
     ]
    },
    {
     "name": "stdout",
     "output_type": "stream",
     "text": [
      "****please porige hot****\n"
     ]
    },
    {
     "name": "stdin",
     "output_type": "stream",
     "text": [
      " Esolang\n",
      " $\n"
     ]
    },
    {
     "name": "stdout",
     "output_type": "stream",
     "text": [
      "****pli****\n"
     ]
    },
    {
     "name": "stdin",
     "output_type": "stream",
     "text": [
      " procedural, imperative computer programming language\n",
      " COBOL\n",
      " C\n"
     ]
    },
    {
     "name": "stdout",
     "output_type": "stream",
     "text": [
      "****plsql****\n"
     ]
    },
    {
     "name": "stdin",
     "output_type": "stream",
     "text": [
      " Oracle Database\n",
      " PostgreSql\n",
      " SQL\n"
     ]
    },
    {
     "name": "stdout",
     "output_type": "stream",
     "text": [
      "****pluvo****\n"
     ]
    },
    {
     "name": "stdin",
     "output_type": "stream",
     "text": [
      " scripting \n",
      " CGI\n",
      " $\n"
     ]
    },
    {
     "name": "stdout",
     "output_type": "stream",
     "text": [
      "****polynomial****\n"
     ]
    },
    {
     "name": "stdin",
     "output_type": "stream",
     "text": [
      " Esolang\n",
      " $\n"
     ]
    },
    {
     "name": "stdout",
     "output_type": "stream",
     "text": [
      "****pony****\n"
     ]
    },
    {
     "name": "stdin",
     "output_type": "stream",
     "text": [
      " $\n"
     ]
    },
    {
     "name": "stdout",
     "output_type": "stream",
     "text": [
      "****portugol****\n"
     ]
    },
    {
     "name": "stdin",
     "output_type": "stream",
     "text": [
      " VisuAlg\n",
      " potigol\n",
      " Portugol Studio\t\n"
     ]
    },
    {
     "name": "stdout",
     "output_type": "stream",
     "text": [
      "****postcss****\n"
     ]
    },
    {
     "name": "stdin",
     "output_type": "stream",
     "text": [
      " CSS\n",
      " JavaScript\n",
      " SASS\n"
     ]
    },
    {
     "name": "stdout",
     "output_type": "stream",
     "text": [
      "****postgresql****\n"
     ]
    },
    {
     "name": "stdin",
     "output_type": "stream",
     "text": [
      " MySQL\n",
      " MongoDB\n",
      " MariaDB\n"
     ]
    },
    {
     "name": "stdout",
     "output_type": "stream",
     "text": [
      "****postscript****\n"
     ]
    },
    {
     "name": "stdin",
     "output_type": "stream",
     "text": [
      " Pascal\n",
      " Python\n",
      " Visual Basic\n"
     ]
    },
    {
     "name": "stdout",
     "output_type": "stream",
     "text": [
      "****postscript page****\n"
     ]
    },
    {
     "name": "stdin",
     "output_type": "stream",
     "text": [
      " Pascal\n",
      " Python\n",
      " perl\n"
     ]
    },
    {
     "name": "stdout",
     "output_type": "stream",
     "text": [
      "****posxml****\n"
     ]
    },
    {
     "name": "stdin",
     "output_type": "stream",
     "text": [
      " XML\n",
      " X++\n",
      " C\n"
     ]
    },
    {
     "name": "stdout",
     "output_type": "stream",
     "text": [
      "****potaka****\n"
     ]
    },
    {
     "name": "stdin",
     "output_type": "stream",
     "text": [
      " $\n"
     ]
    },
    {
     "name": "stdout",
     "output_type": "stream",
     "text": [
      "****potigol****\n"
     ]
    },
    {
     "name": "stdin",
     "output_type": "stream",
     "text": [
      " $\n"
     ]
    },
    {
     "name": "stdout",
     "output_type": "stream",
     "text": [
      "****powershell****\n"
     ]
    },
    {
     "name": "stdin",
     "output_type": "stream",
     "text": [
      " Bash\n",
      " CMD\n",
      " VBScript\n"
     ]
    },
    {
     "name": "stdout",
     "output_type": "stream",
     "text": [
      "****processing****\n"
     ]
    },
    {
     "name": "stdin",
     "output_type": "stream",
     "text": [
      " Java\n",
      " Python\n",
      " C++\n"
     ]
    },
    {
     "name": "stdout",
     "output_type": "stream",
     "text": [
      "****profan****\n"
     ]
    },
    {
     "name": "stdin",
     "output_type": "stream",
     "text": [
      " ODBC\n",
      " $\n"
     ]
    },
    {
     "name": "stdout",
     "output_type": "stream",
     "text": [
      "****prolog****\n"
     ]
    },
    {
     "name": "stdin",
     "output_type": "stream",
     "text": [
      " Lisp\n",
      " Haskell\n",
      " Fortran\n"
     ]
    },
    {
     "name": "stdout",
     "output_type": "stream",
     "text": [
      "****promela****\n"
     ]
    },
    {
     "name": "stdin",
     "output_type": "stream",
     "text": [
      " Erlang\n",
      " Java\n",
      " Python\n"
     ]
    },
    {
     "name": "stdout",
     "output_type": "stream",
     "text": [
      "****providex****\n"
     ]
    },
    {
     "name": "stdin",
     "output_type": "stream",
     "text": [
      " AutoIt\n",
      " BASIC\n",
      " Visual basic\n"
     ]
    },
    {
     "name": "stdout",
     "output_type": "stream",
     "text": [
      "****pug****\n"
     ]
    },
    {
     "name": "stdin",
     "output_type": "stream",
     "text": [
      " node js\n",
      " express js\n",
      " angular\n"
     ]
    },
    {
     "name": "stdout",
     "output_type": "stream",
     "text": [
      "****pure data****\n"
     ]
    },
    {
     "name": "stdin",
     "output_type": "stream",
     "text": [
      " Csound\n",
      " processing\n",
      " chucK\n"
     ]
    },
    {
     "name": "stdout",
     "output_type": "stream",
     "text": [
      "****purebasic****\n"
     ]
    },
    {
     "name": "stdin",
     "output_type": "stream",
     "text": [
      " powerbasic\n",
      " spiderbasic\n",
      " basic\n"
     ]
    },
    {
     "name": "stdout",
     "output_type": "stream",
     "text": [
      "****purescript****\n"
     ]
    },
    {
     "name": "stdin",
     "output_type": "stream",
     "text": [
      " Javascript\n",
      " $\n"
     ]
    },
    {
     "name": "stdout",
     "output_type": "stream",
     "text": [
      "****pyret****\n"
     ]
    },
    {
     "name": "stdin",
     "output_type": "stream",
     "text": [
      " scripting \n",
      " $\n"
     ]
    },
    {
     "name": "stdout",
     "output_type": "stream",
     "text": [
      "****python****\n"
     ]
    },
    {
     "name": "stdin",
     "output_type": "stream",
     "text": [
      " Jupyter\n",
      " Data Science\n",
      " Machine Learning\n"
     ]
    },
    {
     "name": "stdout",
     "output_type": "stream",
     "text": [
      "****python3****\n"
     ]
    },
    {
     "name": "stdin",
     "output_type": "stream",
     "text": [
      " Jupyter\n",
      " Data Science\n",
      " Machine Learning\n"
     ]
    },
    {
     "name": "stdout",
     "output_type": "stream",
     "text": [
      "****q****\n"
     ]
    },
    {
     "name": "stdin",
     "output_type": "stream",
     "text": [
      " IronPython\n",
      " R\n",
      " F#\n"
     ]
    },
    {
     "name": "stdout",
     "output_type": "stream",
     "text": [
      "****qbasic****\n"
     ]
    },
    {
     "name": "stdin",
     "output_type": "stream",
     "text": [
      " Quick Basic\n",
      " BASIC\n",
      " GW-BASIC\n"
     ]
    },
    {
     "name": "stdout",
     "output_type": "stream",
     "text": [
      "****qcl****\n"
     ]
    },
    {
     "name": "stdin",
     "output_type": "stream",
     "text": [
      " quantum programming language\n",
      " C\n",
      " qreg\n"
     ]
    },
    {
     "name": "stdout",
     "output_type": "stream",
     "text": [
      "****qore****\n"
     ]
    },
    {
     "name": "stdin",
     "output_type": "stream",
     "text": [
      " Hack\n",
      " Ada\n",
      " Eiffel\n"
     ]
    },
    {
     "name": "stdout",
     "output_type": "stream",
     "text": [
      "****qsharp****\n"
     ]
    },
    {
     "name": "stdin",
     "output_type": "stream",
     "text": [
      " IronPython\n",
      " c#\n",
      " F#\n"
     ]
    },
    {
     "name": "stdout",
     "output_type": "stream",
     "text": [
      "****qu****\n"
     ]
    },
    {
     "name": "stdin",
     "output_type": "stream",
     "text": [
      " Python\n",
      " Ruby\n",
      " Perl\n"
     ]
    },
    {
     "name": "stdout",
     "output_type": "stream",
     "text": [
      "****quakec****\n"
     ]
    },
    {
     "name": "stdin",
     "output_type": "stream",
     "text": [
      " C\n",
      " Haskell\n",
      " ZZT-oop\n"
     ]
    },
    {
     "name": "stdout",
     "output_type": "stream",
     "text": [
      "****quartzcomposer****\n"
     ]
    },
    {
     "name": "stdin",
     "output_type": "stream",
     "text": [
      " Xcode\n",
      " Swift\n",
      " Pure Data\n"
     ]
    },
    {
     "name": "stdout",
     "output_type": "stream",
     "text": [
      "****qugord****\n"
     ]
    },
    {
     "name": "stdin",
     "output_type": "stream",
     "text": [
      " Esolang\n",
      " $\n"
     ]
    },
    {
     "name": "stdout",
     "output_type": "stream",
     "text": [
      "****quorum****\n"
     ]
    },
    {
     "name": "stdin",
     "output_type": "stream",
     "text": [
      " LEGO\n",
      " $\n"
     ]
    },
    {
     "name": "stdout",
     "output_type": "stream",
     "text": [
      "****qwerty****\n"
     ]
    },
    {
     "name": "stdin",
     "output_type": "stream",
     "text": [
      " $\n"
     ]
    },
    {
     "name": "stdout",
     "output_type": "stream",
     "text": [
      "****r****\n"
     ]
    },
    {
     "name": "stdin",
     "output_type": "stream",
     "text": [
      " Python\n",
      " Julia\n",
      " MATLAB\n"
     ]
    },
    {
     "name": "stdout",
     "output_type": "stream",
     "text": [
      "****racket****\n"
     ]
    },
    {
     "name": "stdin",
     "output_type": "stream",
     "text": [
      " Clojure\n",
      " hy\n",
      " PicoLisp\n"
     ]
    },
    {
     "name": "stdout",
     "output_type": "stream",
     "text": [
      "****radixal****\n"
     ]
    },
    {
     "name": "stdin",
     "output_type": "stream",
     "text": [
      " $\n"
     ]
    },
    {
     "name": "stdout",
     "output_type": "stream",
     "text": [
      "****raffalang****\n"
     ]
    },
    {
     "name": "stdin",
     "output_type": "stream",
     "text": [
      " $\n"
     ]
    },
    {
     "name": "stdout",
     "output_type": "stream",
     "text": [
      "****ratfor****\n"
     ]
    },
    {
     "name": "stdin",
     "output_type": "stream",
     "text": [
      " C++\n",
      " PHP\n",
      " PERL\n"
     ]
    },
    {
     "name": "stdout",
     "output_type": "stream",
     "text": [
      "****react****\n"
     ]
    },
    {
     "name": "stdin",
     "output_type": "stream",
     "text": [
      " react\n",
      " reactjs\n",
      " MERN Stack\n"
     ]
    },
    {
     "name": "stdout",
     "output_type": "stream",
     "text": [
      "****react js****\n"
     ]
    },
    {
     "name": "stdin",
     "output_type": "stream",
     "text": [
      " react js \n",
      " MERN\n",
      " web Development\n"
     ]
    },
    {
     "name": "stdout",
     "output_type": "stream",
     "text": [
      "****react360****\n"
     ]
    },
    {
     "name": "stdin",
     "output_type": "stream",
     "text": [
      " react \n",
      " MERN\n",
      " GAME DEVELOPMENT\n"
     ]
    },
    {
     "name": "stdout",
     "output_type": "stream",
     "text": [
      "****reactjs****\n"
     ]
    },
    {
     "name": "stdin",
     "output_type": "stream",
     "text": [
      " MERN\n",
      " Web Development\n",
      " REDUX\n"
     ]
    },
    {
     "name": "stdout",
     "output_type": "stream",
     "text": [
      "****readlink****\n"
     ]
    },
    {
     "name": "stdin",
     "output_type": "stream",
     "text": [
      " UNIX\n",
      " $\n"
     ]
    },
    {
     "name": "stdout",
     "output_type": "stream",
     "text": [
      "****realbasic****\n"
     ]
    },
    {
     "name": "stdin",
     "output_type": "stream",
     "text": [
      " BASIC\n",
      " $\n"
     ]
    },
    {
     "name": "stdout",
     "output_type": "stream",
     "text": [
      "****reason****\n"
     ]
    },
    {
     "name": "stdin",
     "output_type": "stream",
     "text": [
      " OCaml\n",
      " Elm\n",
      " Swift\n"
     ]
    },
    {
     "name": "stdout",
     "output_type": "stream",
     "text": [
      "****rebol****\n"
     ]
    },
    {
     "name": "stdin",
     "output_type": "stream",
     "text": [
      " Rexx\n",
      " Haskel\n",
      " PHP\n"
     ]
    },
    {
     "name": "stdout",
     "output_type": "stream",
     "text": [
      "****recurse****\n"
     ]
    },
    {
     "name": "stdin",
     "output_type": "stream",
     "text": [
      " $\n"
     ]
    },
    {
     "name": "stdout",
     "output_type": "stream",
     "text": [
      "****red****\n"
     ]
    },
    {
     "name": "stdin",
     "output_type": "stream",
     "text": [
      " Lua\n",
      " TCL\n",
      " Julia\n"
     ]
    },
    {
     "name": "stdout",
     "output_type": "stream",
     "text": [
      "****redis****\n"
     ]
    },
    {
     "name": "stdin",
     "output_type": "stream",
     "text": [
      " ANSI C\n",
      " LINUX\n",
      " ActionScript\n"
     ]
    },
    {
     "name": "stdout",
     "output_type": "stream",
     "text": [
      "****refal****\n"
     ]
    },
    {
     "name": "stdin",
     "output_type": "stream",
     "text": [
      " ALGOL\n",
      " COBOL\n",
      " Ada\n"
     ]
    },
    {
     "name": "stdout",
     "output_type": "stream",
     "text": [
      "****restructuredtext****\n"
     ]
    },
    {
     "name": "stdin",
     "output_type": "stream",
     "text": [
      " ReST\n",
      " RST\n",
      " reST\n"
     ]
    },
    {
     "name": "stdout",
     "output_type": "stream",
     "text": [
      "****retro****\n"
     ]
    },
    {
     "name": "stdin",
     "output_type": "stream",
     "text": [
      " C\n",
      " Python\n",
      " Pascal\n"
     ]
    },
    {
     "name": "stdout",
     "output_type": "stream",
     "text": [
      "****rexx****\n"
     ]
    },
    {
     "name": "stdin",
     "output_type": "stream",
     "text": [
      " Rebol\n",
      " COBOL\n",
      " CLIST\n"
     ]
    },
    {
     "name": "stdout",
     "output_type": "stream",
     "text": [
      "****richtea****\n"
     ]
    },
    {
     "name": "stdin",
     "output_type": "stream",
     "text": [
      " $\n"
     ]
    },
    {
     "name": "stdout",
     "output_type": "stream",
     "text": [
      "****ride****\n"
     ]
    },
    {
     "name": "stdin",
     "output_type": "stream",
     "text": [
      " $\n"
     ]
    },
    {
     "name": "stdout",
     "output_type": "stream",
     "text": [
      "****ring****\n"
     ]
    },
    {
     "name": "stdin",
     "output_type": "stream",
     "text": [
      " Lua\n",
      " Python\n",
      " Ruby\n"
     ]
    },
    {
     "name": "stdout",
     "output_type": "stream",
     "text": [
      "****rivescript****\n"
     ]
    },
    {
     "name": "stdin",
     "output_type": "stream",
     "text": [
      " ChatBot\n",
      " AI\n",
      " JavaScript\n"
     ]
    },
    {
     "name": "stdout",
     "output_type": "stream",
     "text": [
      "****rockstar****\n"
     ]
    },
    {
     "name": "stdin",
     "output_type": "stream",
     "text": [
      " java\n",
      " Esolang\n",
      " $\n"
     ]
    },
    {
     "name": "stdout",
     "output_type": "stream",
     "text": [
      "****roco****\n"
     ]
    },
    {
     "name": "stdin",
     "output_type": "stream",
     "text": [
      " C++\n",
      " $\n"
     ]
    },
    {
     "name": "stdout",
     "output_type": "stream",
     "text": [
      "****roy****\n"
     ]
    },
    {
     "name": "stdin",
     "output_type": "stream",
     "text": [
      " JavaScript\n",
      " Oz\n",
      " $\n"
     ]
    },
    {
     "name": "stdout",
     "output_type": "stream",
     "text": [
      "****rpg****\n"
     ]
    },
    {
     "name": "stdin",
     "output_type": "stream",
     "text": [
      " COBOL\n",
      " Delphi\n",
      " Fortran\n"
     ]
    },
    {
     "name": "stdout",
     "output_type": "stream",
     "text": [
      "****rpg iv****\n"
     ]
    },
    {
     "name": "stdin",
     "output_type": "stream",
     "text": [
      " COBOL\n",
      " Delphi\n",
      " Fortran\n"
     ]
    },
    {
     "name": "stdout",
     "output_type": "stream",
     "text": [
      "****rtl2****\n"
     ]
    },
    {
     "name": "stdin",
     "output_type": "stream",
     "text": [
      " Fortran\n",
      " BASIC\n",
      " COBOL\n"
     ]
    },
    {
     "name": "stdout",
     "output_type": "stream",
     "text": [
      "****ruby****\n"
     ]
    },
    {
     "name": "stdin",
     "output_type": "stream",
     "text": [
      " Python\n",
      " Perl\n",
      " java\n"
     ]
    },
    {
     "name": "stdout",
     "output_type": "stream",
     "text": [
      "****ruota****\n"
     ]
    },
    {
     "name": "stdin",
     "output_type": "stream",
     "text": [
      " Dynamic Programming Language\n",
      " $\n"
     ]
    },
    {
     "name": "stdout",
     "output_type": "stream",
     "text": [
      "****rust****\n"
     ]
    },
    {
     "name": "stdin",
     "output_type": "stream",
     "text": [
      " Go\n",
      " Kotlin\n",
      " Elixir\n"
     ]
    },
    {
     "name": "stdout",
     "output_type": "stream",
     "text": [
      "****s algol****\n"
     ]
    },
    {
     "name": "stdin",
     "output_type": "stream",
     "text": [
      " ALGOL W\n",
      " Simula\n",
      " CORAL\n"
     ]
    },
    {
     "name": "stdout",
     "output_type": "stream",
     "text": [
      "****sacred****\n"
     ]
    },
    {
     "name": "stdin",
     "output_type": "stream",
     "text": [
      " Esolang\n",
      " $\n"
     ]
    },
    {
     "name": "stdout",
     "output_type": "stream",
     "text": [
      "****sal****\n"
     ]
    },
    {
     "name": "stdin",
     "output_type": "stream",
     "text": [
      " source-code annotation language\n",
      " $\n"
     ]
    },
    {
     "name": "stdout",
     "output_type": "stream",
     "text": [
      "****sas****\n"
     ]
    },
    {
     "name": "stdin",
     "output_type": "stream",
     "text": [
      " R\n",
      " Python\n",
      " Scala\n"
     ]
    },
    {
     "name": "stdout",
     "output_type": "stream",
     "text": [
      "****sass****\n"
     ]
    },
    {
     "name": "stdin",
     "output_type": "stream",
     "text": [
      " Less\n",
      " Css\n",
      " TypeScript\n"
     ]
    },
    {
     "name": "stdout",
     "output_type": "stream",
     "text": [
      "****sather****\n"
     ]
    },
    {
     "name": "stdin",
     "output_type": "stream",
     "text": [
      " Java\n",
      " Python\n",
      " Php\n"
     ]
    },
    {
     "name": "stdout",
     "output_type": "stream",
     "text": [
      "****scala****\n"
     ]
    },
    {
     "name": "stdin",
     "output_type": "stream",
     "text": [
      " Kotlin\n",
      " Clojure\n",
      " Go\n"
     ]
    },
    {
     "name": "stdout",
     "output_type": "stream",
     "text": [
      "****scheme****\n"
     ]
    },
    {
     "name": "stdin",
     "output_type": "stream",
     "text": [
      " Lisp\n",
      " JavaScript\n",
      " Clojure\n"
     ]
    },
    {
     "name": "stdout",
     "output_type": "stream",
     "text": [
      "****schwift****\n"
     ]
    },
    {
     "name": "stdin",
     "output_type": "stream",
     "text": [
      " Xcode\n",
      " Kotlin\n",
      " Python\n"
     ]
    },
    {
     "name": "stdout",
     "output_type": "stream",
     "text": [
      "****scilab****\n"
     ]
    },
    {
     "name": "stdin",
     "output_type": "stream",
     "text": [
      " C\n",
      " Fortran\n",
      " $\n"
     ]
    },
    {
     "name": "stdout",
     "output_type": "stream",
     "text": [
      "****scss****\n"
     ]
    },
    {
     "name": "stdin",
     "output_type": "stream",
     "text": [
      " Less\n",
      " SASS\n",
      " CSS\n"
     ]
    },
    {
     "name": "stdout",
     "output_type": "stream",
     "text": [
      "****sed****\n"
     ]
    },
    {
     "name": "stdin",
     "output_type": "stream",
     "text": [
      " AWK\n",
      " Perl\n",
      " HTML\n"
     ]
    },
    {
     "name": "stdout",
     "output_type": "stream",
     "text": [
      "****seed****\n"
     ]
    },
    {
     "name": "stdin",
     "output_type": "stream",
     "text": [
      " Esolang\n",
      " $\n"
     ]
    },
    {
     "name": "stdout",
     "output_type": "stream",
     "text": [
      "****seed7****\n"
     ]
    },
    {
     "name": "stdin",
     "output_type": "stream",
     "text": [
      " Java\n",
      " Perl\n",
      " Python\n"
     ]
    },
    {
     "name": "stdout",
     "output_type": "stream",
     "text": [
      "****self****\n"
     ]
    },
    {
     "name": "stdin",
     "output_type": "stream",
     "text": [
      " Python \n",
      " C++\n",
      " Lua\n"
     ]
    },
    {
     "name": "stdout",
     "output_type": "stream",
     "text": [
      "****semicolon****\n"
     ]
    },
    {
     "name": "stdin",
     "output_type": "stream",
     "text": [
      " $\n"
     ]
    },
    {
     "name": "stdout",
     "output_type": "stream",
     "text": [
      "****sendstuff****\n"
     ]
    },
    {
     "name": "stdin",
     "output_type": "stream",
     "text": [
      " Esolang\n",
      " $\n"
     ]
    },
    {
     "name": "stdout",
     "output_type": "stream",
     "text": [
      "****setanta****\n"
     ]
    },
    {
     "name": "stdin",
     "output_type": "stream",
     "text": [
      " Esolang\n",
      " $\n"
     ]
    },
    {
     "name": "stdout",
     "output_type": "stream",
     "text": [
      "****shakespeare****\n"
     ]
    },
    {
     "name": "stdin",
     "output_type": "stream",
     "text": [
      " WhiteSpace \n",
      " Brainfuck\n",
      " Malbolge\n"
     ]
    },
    {
     "name": "stdout",
     "output_type": "stream",
     "text": [
      "****shell****\n"
     ]
    },
    {
     "name": "stdin",
     "output_type": "stream",
     "text": [
      " bash\n",
      " linux\n",
      " CMD\n"
     ]
    },
    {
     "name": "stdout",
     "output_type": "stream",
     "text": [
      "****shen****\n"
     ]
    },
    {
     "name": "stdin",
     "output_type": "stream",
     "text": [
      " $\n"
     ]
    },
    {
     "name": "stdout",
     "output_type": "stream",
     "text": [
      "****sidekiq****\n"
     ]
    },
    {
     "name": "stdin",
     "output_type": "stream",
     "text": [
      " Ruby\n",
      " $\n"
     ]
    },
    {
     "name": "stdout",
     "output_type": "stream",
     "text": [
      "****sil****\n"
     ]
    },
    {
     "name": "stdin",
     "output_type": "stream",
     "text": [
      " Simple Issue Language\n",
      " scripting language\n",
      " $\n"
     ]
    },
    {
     "name": "stdout",
     "output_type": "stream",
     "text": [
      "****simpl+****\n"
     ]
    },
    {
     "name": "stdin",
     "output_type": "stream",
     "text": [
      " Simple\n",
      " $\n"
     ]
    },
    {
     "name": "stdout",
     "output_type": "stream",
     "text": [
      "****simula****\n"
     ]
    },
    {
     "name": "stdin",
     "output_type": "stream",
     "text": [
      " Smalltalk\n",
      " ALGOL\n",
      " COBOL\n"
     ]
    },
    {
     "name": "stdout",
     "output_type": "stream",
     "text": [
      "****skip****\n"
     ]
    },
    {
     "name": "stdin",
     "output_type": "stream",
     "text": [
      " $\n"
     ]
    },
    {
     "name": "stdout",
     "output_type": "stream",
     "text": [
      "****skript****\n"
     ]
    },
    {
     "name": "stdin",
     "output_type": "stream",
     "text": [
      " Atom\n",
      " $\n"
     ]
    },
    {
     "name": "stdout",
     "output_type": "stream",
     "text": [
      "****slashes****\n"
     ]
    },
    {
     "name": "stdin",
     "output_type": "stream",
     "text": [
      " Esolang\n",
      " $\n"
     ]
    },
    {
     "name": "stdout",
     "output_type": "stream",
     "text": [
      "****slim****\n"
     ]
    },
    {
     "name": "stdin",
     "output_type": "stream",
     "text": [
      " Ruby\n",
      " $\n"
     ]
    },
    {
     "name": "stdout",
     "output_type": "stream",
     "text": [
      "****smali****\n"
     ]
    },
    {
     "name": "stdin",
     "output_type": "stream",
     "text": [
      " android\n",
      " dalvik\n",
      " $\n"
     ]
    },
    {
     "name": "stdout",
     "output_type": "stream",
     "text": [
      "****smalltalk****\n"
     ]
    },
    {
     "name": "stdin",
     "output_type": "stream",
     "text": [
      " Simula\n",
      " Prolog\n",
      " Lisp\n"
     ]
    },
    {
     "name": "stdout",
     "output_type": "stream",
     "text": [
      "****smalltalk gnu****\n"
     ]
    },
    {
     "name": "stdin",
     "output_type": "stream",
     "text": [
      " Simula\n",
      " Prolog\n",
      " Lisp\n"
     ]
    },
    {
     "name": "stdout",
     "output_type": "stream",
     "text": [
      "****smil****\n"
     ]
    },
    {
     "name": "stdin",
     "output_type": "stream",
     "text": [
      " complex programming language\n",
      " $\n"
     ]
    },
    {
     "name": "stdout",
     "output_type": "stream",
     "text": [
      "****sml****\n"
     ]
    },
    {
     "name": "stdin",
     "output_type": "stream",
     "text": [
      " Haskell\n",
      " Python\n",
      " OCaml\n"
     ]
    },
    {
     "name": "stdout",
     "output_type": "stream",
     "text": [
      "****snowman****\n"
     ]
    },
    {
     "name": "stdin",
     "output_type": "stream",
     "text": [
      " $\n"
     ]
    },
    {
     "name": "stdout",
     "output_type": "stream",
     "text": [
      "****solidity****\n"
     ]
    },
    {
     "name": "stdin",
     "output_type": "stream",
     "text": [
      " Go\n",
      " JavaScript\n",
      " Python\n"
     ]
    },
    {
     "name": "stdout",
     "output_type": "stream",
     "text": [
      "****soupscript****\n"
     ]
    },
    {
     "name": "stdin",
     "output_type": "stream",
     "text": [
      " $\n"
     ]
    },
    {
     "name": "stdout",
     "output_type": "stream",
     "text": [
      "****sparql****\n"
     ]
    },
    {
     "name": "stdin",
     "output_type": "stream",
     "text": [
      " Turtle\n",
      " RDF Schema\n",
      " XML\n"
     ]
    },
    {
     "name": "stdout",
     "output_type": "stream",
     "text": [
      "****spoon****\n"
     ]
    },
    {
     "name": "stdin",
     "output_type": "stream",
     "text": [
      " Esolang\n",
      " $\n"
     ]
    },
    {
     "name": "stdout",
     "output_type": "stream",
     "text": [
      "****spss****\n"
     ]
    },
    {
     "name": "stdin",
     "output_type": "stream",
     "text": [
      " R\n",
      " $\n"
     ]
    },
    {
     "name": "stdout",
     "output_type": "stream",
     "text": [
      "****sql****\n"
     ]
    },
    {
     "name": "stdin",
     "output_type": "stream",
     "text": [
      " mysql\n",
      " PostGreSQL\n",
      " NoSQL\n"
     ]
    },
    {
     "name": "stdout",
     "output_type": "stream",
     "text": [
      "****squirrel****\n"
     ]
    },
    {
     "name": "stdin",
     "output_type": "stream",
     "text": [
      " Lua\n",
      " Python\n",
      " AngelScript\n"
     ]
    },
    {
     "name": "stdout",
     "output_type": "stream",
     "text": [
      "****standard ml****\n"
     ]
    },
    {
     "name": "stdin",
     "output_type": "stream",
     "text": [
      " Haskell\n",
      " Scala\n",
      " OCaml\n"
     ]
    },
    {
     "name": "stdout",
     "output_type": "stream",
     "text": [
      "****stanza****\n"
     ]
    },
    {
     "name": "stdin",
     "output_type": "stream",
     "text": [
      " $\n"
     ]
    },
    {
     "name": "stdout",
     "output_type": "stream",
     "text": [
      "****starlark****\n"
     ]
    },
    {
     "name": "stdin",
     "output_type": "stream",
     "text": [
      " Bazel\n",
      " $\n"
     ]
    },
    {
     "name": "stdout",
     "output_type": "stream",
     "text": [
      "****streem****\n"
     ]
    },
    {
     "name": "stdin",
     "output_type": "stream",
     "text": [
      " Ruby\n",
      " Erlang\n",
      " $\n"
     ]
    },
    {
     "name": "stdout",
     "output_type": "stream",
     "text": [
      "****stuck****\n"
     ]
    },
    {
     "name": "stdin",
     "output_type": "stream",
     "text": [
      " CJam\n",
      " GolfScript\n",
      " Pyth\n"
     ]
    },
    {
     "name": "stdout",
     "output_type": "stream",
     "text": [
      "****stuck 0byte****\n"
     ]
    },
    {
     "name": "stdin",
     "output_type": "stream",
     "text": [
      " CJam\n",
      " GolfScript\n",
      " Pyth\n"
     ]
    },
    {
     "name": "stdout",
     "output_type": "stream",
     "text": [
      "****stylus****\n"
     ]
    },
    {
     "name": "stdin",
     "output_type": "stream",
     "text": [
      " Less\n",
      " Sass\n",
      " CSS\n"
     ]
    },
    {
     "name": "stdout",
     "output_type": "stream",
     "text": [
      "****subleq****\n"
     ]
    },
    {
     "name": "stdin",
     "output_type": "stream",
     "text": [
      " Esolang\n",
      " $\n"
     ]
    },
    {
     "name": "stdout",
     "output_type": "stream",
     "text": [
      "****supercollider****\n"
     ]
    },
    {
     "name": "stdin",
     "output_type": "stream",
     "text": [
      " Pure Data\n",
      " CSound\n",
      " C++\n"
     ]
    },
    {
     "name": "stdout",
     "output_type": "stream",
     "text": [
      "****svelte****\n"
     ]
    },
    {
     "name": "stdin",
     "output_type": "stream",
     "text": [
      " Vue.js\n",
      " REact\n",
      " Angular\n"
     ]
    },
    {
     "name": "stdout",
     "output_type": "stream",
     "text": [
      "****svg****\n"
     ]
    },
    {
     "name": "stdin",
     "output_type": "stream",
     "text": [
      " $\n"
     ]
    },
    {
     "name": "stdout",
     "output_type": "stream",
     "text": [
      "****swift****\n"
     ]
    },
    {
     "name": "stdin",
     "output_type": "stream",
     "text": [
      " Gp\n",
      " XCode\n",
      " Python\n"
     ]
    },
    {
     "name": "stdout",
     "output_type": "stream",
     "text": [
      "****systemtap****\n"
     ]
    },
    {
     "name": "stdin",
     "output_type": "stream",
     "text": [
      " linux\n",
      " $\n"
     ]
    },
    {
     "name": "stdout",
     "output_type": "stream",
     "text": [
      "****tao presentations****\n"
     ]
    },
    {
     "name": "stdin",
     "output_type": "stream",
     "text": [
      " $\n"
     ]
    },
    {
     "name": "stdout",
     "output_type": "stream",
     "text": [
      "****tapebagel****\n"
     ]
    },
    {
     "name": "stdin",
     "output_type": "stream",
     "text": [
      " Esolang\n",
      " $\n"
     ]
    },
    {
     "name": "stdout",
     "output_type": "stream",
     "text": [
      "****tcl****\n"
     ]
    },
    {
     "name": "stdin",
     "output_type": "stream",
     "text": [
      " Perl\n",
      " Python\n",
      " Ruby\n"
     ]
    },
    {
     "name": "stdout",
     "output_type": "stream",
     "text": [
      "****tcsh****\n"
     ]
    },
    {
     "name": "stdin",
     "output_type": "stream",
     "text": [
      " c shell\n",
      " unix\n",
      " $\n"
     ]
    },
    {
     "name": "stdout",
     "output_type": "stream",
     "text": [
      "****telephone****\n"
     ]
    },
    {
     "name": "stdin",
     "output_type": "stream",
     "text": [
      " Erlang\n",
      " $\n"
     ]
    },
    {
     "name": "stdout",
     "output_type": "stream",
     "text": [
      "****terra****\n"
     ]
    },
    {
     "name": "stdin",
     "output_type": "stream",
     "text": [
      " C\n",
      " C++\n",
      " $\n"
     ]
    },
    {
     "name": "stdout",
     "output_type": "stream",
     "text": [
      "****tex****\n"
     ]
    },
    {
     "name": "stdin",
     "output_type": "stream",
     "text": [
      " Python\n",
      " Haskell\n",
      " HTML\n"
     ]
    },
    {
     "name": "stdout",
     "output_type": "stream",
     "text": [
      "****thp****\n"
     ]
    },
    {
     "name": "stdin",
     "output_type": "stream",
     "text": [
      " PHP\n",
      " $\n"
     ]
    },
    {
     "name": "stdout",
     "output_type": "stream",
     "text": [
      "****thue****\n"
     ]
    },
    {
     "name": "stdin",
     "output_type": "stream",
     "text": [
      " Turing-complete\n",
      " $\n"
     ]
    },
    {
     "name": "stdout",
     "output_type": "stream",
     "text": [
      "****ti hexadecimal****\n"
     ]
    },
    {
     "name": "stdin",
     "output_type": "stream",
     "text": [
      " CCS\n",
      " $\n"
     ]
    },
    {
     "name": "stdout",
     "output_type": "stream",
     "text": [
      "****tibasic****\n"
     ]
    },
    {
     "name": "stdin",
     "output_type": "stream",
     "text": [
      " BASIC\n",
      " TI83\n",
      " Z80\n"
     ]
    },
    {
     "name": "stdout",
     "output_type": "stream",
     "text": [
      "****tk****\n"
     ]
    },
    {
     "name": "stdin",
     "output_type": "stream",
     "text": [
      " Tkinter\n",
      " PyGTK\n",
      " GTK\n"
     ]
    },
    {
     "name": "stdout",
     "output_type": "stream",
     "text": [
      "****tri****\n"
     ]
    },
    {
     "name": "stdin",
     "output_type": "stream",
     "text": [
      " $\n"
     ]
    },
    {
     "name": "stdout",
     "output_type": "stream",
     "text": [
      "****trollscript****\n"
     ]
    },
    {
     "name": "stdin",
     "output_type": "stream",
     "text": [
      " brainfuck\n",
      " $\n"
     ]
    },
    {
     "name": "stdout",
     "output_type": "stream",
     "text": [
      "****trumpscript****\n"
     ]
    },
    {
     "name": "stdin",
     "output_type": "stream",
     "text": [
      " $\n"
     ]
    },
    {
     "name": "stdout",
     "output_type": "stream",
     "text": [
      "****tsql****\n"
     ]
    },
    {
     "name": "stdin",
     "output_type": "stream",
     "text": [
      " PL/SQL\n",
      " C#\n",
      " PostgreSQL\n"
     ]
    },
    {
     "name": "stdout",
     "output_type": "stream",
     "text": [
      "****ttcn3****\n"
     ]
    },
    {
     "name": "stdin",
     "output_type": "stream",
     "text": [
      " C++\n",
      " Python\n",
      " AWK\n"
     ]
    },
    {
     "name": "stdout",
     "output_type": "stream",
     "text": [
      "****turing****\n"
     ]
    },
    {
     "name": "stdin",
     "output_type": "stream",
     "text": [
      " Pascal\n",
      " Java\n",
      " Perl\n"
     ]
    },
    {
     "name": "stdout",
     "output_type": "stream",
     "text": [
      "****typescript****\n"
     ]
    },
    {
     "name": "stdin",
     "output_type": "stream",
     "text": [
      " Angular\n",
      " JavaScript\n",
      " React\n"
     ]
    },
    {
     "name": "stdout",
     "output_type": "stream",
     "text": [
      "****ubercode****\n"
     ]
    },
    {
     "name": "stdin",
     "output_type": "stream",
     "text": [
      " Vala\n",
      " D\n",
      " Visual Basic\n"
     ]
    },
    {
     "name": "stdout",
     "output_type": "stream",
     "text": [
      "****ubiquity****\n"
     ]
    },
    {
     "name": "stdin",
     "output_type": "stream",
     "text": [
      " $\n"
     ]
    },
    {
     "name": "stdout",
     "output_type": "stream",
     "text": [
      "****umajin****\n"
     ]
    },
    {
     "name": "stdin",
     "output_type": "stream",
     "text": [
      " $\n"
     ]
    },
    {
     "name": "stdout",
     "output_type": "stream",
     "text": [
      "****unicomal****\n"
     ]
    },
    {
     "name": "stdin",
     "output_type": "stream",
     "text": [
      " COMAL\n",
      " $\n"
     ]
    },
    {
     "name": "stdout",
     "output_type": "stream",
     "text": [
      "****unlambda****\n"
     ]
    },
    {
     "name": "stdin",
     "output_type": "stream",
     "text": [
      " INTERCAL\n",
      " WhiteSpace\n",
      " Malbolge\n"
     ]
    },
    {
     "name": "stdout",
     "output_type": "stream",
     "text": [
      "****v****\n"
     ]
    },
    {
     "name": "stdin",
     "output_type": "stream",
     "text": [
      " $\n"
     ]
    },
    {
     "name": "stdout",
     "output_type": "stream",
     "text": [
      "****vala****\n"
     ]
    },
    {
     "name": "stdin",
     "output_type": "stream",
     "text": [
      " Hack\n",
      " Python\n",
      " D\n"
     ]
    },
    {
     "name": "stdout",
     "output_type": "stream",
     "text": [
      "****vbnet****\n"
     ]
    },
    {
     "name": "stdin",
     "output_type": "stream",
     "text": [
      " JavaScript\n",
      " Visual basic\n",
      " C#\n"
     ]
    },
    {
     "name": "stdout",
     "output_type": "stream",
     "text": [
      "****velato****\n"
     ]
    },
    {
     "name": "stdin",
     "output_type": "stream",
     "text": [
      " Esolang\n",
      " $\n"
     ]
    },
    {
     "name": "stdout",
     "output_type": "stream",
     "text": [
      "****verbose****\n"
     ]
    },
    {
     "name": "stdin",
     "output_type": "stream",
     "text": [
      " $\n"
     ]
    },
    {
     "name": "stdout",
     "output_type": "stream",
     "text": [
      "****verbosefuck****\n"
     ]
    },
    {
     "name": "stdin",
     "output_type": "stream",
     "text": [
      " $\n"
     ]
    },
    {
     "name": "stdout",
     "output_type": "stream",
     "text": [
      "****verilog****\n"
     ]
    },
    {
     "name": "stdin",
     "output_type": "stream",
     "text": [
      " VHDL\n",
      " Assembly Language\n",
      " SystemVerilog\n"
     ]
    },
    {
     "name": "stdout",
     "output_type": "stream",
     "text": [
      "****verve****\n"
     ]
    },
    {
     "name": "stdin",
     "output_type": "stream",
     "text": [
      " BoogiePL\n",
      " C#\n",
      " C++\n"
     ]
    },
    {
     "name": "stdout",
     "output_type": "stream",
     "text": [
      "****vhdl****\n"
     ]
    },
    {
     "name": "stdin",
     "output_type": "stream",
     "text": [
      " Verilog\n",
      " PHP\n",
      " MATLAB\n"
     ]
    },
    {
     "name": "stdout",
     "output_type": "stream",
     "text": [
      "****vi****\n"
     ]
    },
    {
     "name": "stdin",
     "output_type": "stream",
     "text": [
      " Text editor\n",
      " C\n",
      " $\n"
     ]
    },
    {
     "name": "stdout",
     "output_type": "stream",
     "text": [
      "****vimscript****\n"
     ]
    },
    {
     "name": "stdin",
     "output_type": "stream",
     "text": [
      " Vim js \n",
      " $\n"
     ]
    },
    {
     "name": "stdout",
     "output_type": "stream",
     "text": [
      "****virgil****\n"
     ]
    },
    {
     "name": "stdin",
     "output_type": "stream",
     "text": [
      " UCLA Compiler\n",
      " $\n"
     ]
    },
    {
     "name": "stdout",
     "output_type": "stream",
     "text": [
      "****visual basic****\n"
     ]
    },
    {
     "name": "stdin",
     "output_type": "stream",
     "text": [
      " VBScript\n",
      " JavaScript\n",
      " ActionScript\n"
     ]
    },
    {
     "name": "stdout",
     "output_type": "stream",
     "text": [
      "****visual basic for applications****\n"
     ]
    },
    {
     "name": "stdin",
     "output_type": "stream",
     "text": [
      " Visual Basic\n",
      " VBScript\n",
      " C#\n"
     ]
    },
    {
     "name": "stdout",
     "output_type": "stream",
     "text": [
      "****visual basic script****\n"
     ]
    },
    {
     "name": "stdin",
     "output_type": "stream",
     "text": [
      " Visual Basic\n",
      " PowerShell\n",
      " C#\n"
     ]
    },
    {
     "name": "stdout",
     "output_type": "stream",
     "text": [
      "****visualfoxpro****\n"
     ]
    },
    {
     "name": "stdin",
     "output_type": "stream",
     "text": [
      " FoxPro\n",
      " C++\n",
      " Java\n"
     ]
    },
    {
     "name": "stdout",
     "output_type": "stream",
     "text": [
      "****vjass****\n"
     ]
    },
    {
     "name": "stdin",
     "output_type": "stream",
     "text": [
      " Jass\n",
      " $\n"
     ]
    },
    {
     "name": "stdout",
     "output_type": "stream",
     "text": [
      "****vms****\n"
     ]
    },
    {
     "name": "stdin",
     "output_type": "stream",
     "text": [
      " C\n",
      " C++\n",
      " java\n"
     ]
    },
    {
     "name": "stdout",
     "output_type": "stream",
     "text": [
      "****vowels****\n"
     ]
    },
    {
     "name": "stdin",
     "output_type": "stream",
     "text": [
      " $\n"
     ]
    },
    {
     "name": "stdout",
     "output_type": "stream",
     "text": [
      "****vrml****\n"
     ]
    },
    {
     "name": "stdin",
     "output_type": "stream",
     "text": [
      " Virtual Reality Markup Language\n",
      " $\n"
     ]
    },
    {
     "name": "stdout",
     "output_type": "stream",
     "text": [
      "****vue****\n"
     ]
    },
    {
     "name": "stdin",
     "output_type": "stream",
     "text": [
      " nuxt js\n",
      " angular js\n",
      " react js\n"
     ]
    },
    {
     "name": "stdout",
     "output_type": "stream",
     "text": [
      "****web****\n"
     ]
    },
    {
     "name": "stdin",
     "output_type": "stream",
     "text": [
      " web development\n",
      " web design\n",
      " web testing \n"
     ]
    },
    {
     "name": "stdout",
     "output_type": "stream",
     "text": [
      "****web development****\n"
     ]
    },
    {
     "name": "stdin",
     "output_type": "stream",
     "text": [
      " MEAN STACK\n",
      " MERN STACK\n",
      " Bootstrap\n"
     ]
    },
    {
     "name": "stdout",
     "output_type": "stream",
     "text": [
      "****wenyan****\n"
     ]
    },
    {
     "name": "stdin",
     "output_type": "stream",
     "text": [
      " $\n"
     ]
    },
    {
     "name": "stdout",
     "output_type": "stream",
     "text": [
      "****wheat****\n"
     ]
    },
    {
     "name": "stdin",
     "output_type": "stream",
     "text": [
      " $\n"
     ]
    },
    {
     "name": "stdout",
     "output_type": "stream",
     "text": [
      "****whenever****\n"
     ]
    },
    {
     "name": "stdin",
     "output_type": "stream",
     "text": [
      " $\n"
     ]
    },
    {
     "name": "stdout",
     "output_type": "stream",
     "text": [
      "****whirl****\n"
     ]
    },
    {
     "name": "stdin",
     "output_type": "stream",
     "text": [
      " Esolang\n",
      " $\n"
     ]
    },
    {
     "name": "stdout",
     "output_type": "stream",
     "text": [
      "****whitespace****\n"
     ]
    },
    {
     "name": "stdin",
     "output_type": "stream",
     "text": [
      " BrainFuck\n",
      " Intercal\n",
      " Malbolge\n"
     ]
    },
    {
     "name": "stdout",
     "output_type": "stream",
     "text": [
      "****wikitext****\n"
     ]
    },
    {
     "name": "stdin",
     "output_type": "stream",
     "text": [
      " $\n"
     ]
    },
    {
     "name": "stdout",
     "output_type": "stream",
     "text": [
      "****wml****\n"
     ]
    },
    {
     "name": "stdin",
     "output_type": "stream",
     "text": [
      " HTML\n",
      " HDML\n",
      " XML\n"
     ]
    },
    {
     "name": "stdout",
     "output_type": "stream",
     "text": [
      "****wolframlanguage****\n"
     ]
    },
    {
     "name": "stdin",
     "output_type": "stream",
     "text": [
      " Python\n",
      " haskell\n",
      " Julia\n"
     ]
    },
    {
     "name": "stdout",
     "output_type": "stream",
     "text": [
      "****wren****\n"
     ]
    },
    {
     "name": "stdin",
     "output_type": "stream",
     "text": [
      " Lua\n",
      " Erlang\n",
      " $\n"
     ]
    },
    {
     "name": "stdout",
     "output_type": "stream",
     "text": [
      "****wsh****\n"
     ]
    },
    {
     "name": "stdin",
     "output_type": "stream",
     "text": [
      " Rexx\n",
      " Basic\n",
      " Perl\n"
     ]
    },
    {
     "name": "stdout",
     "output_type": "stream",
     "text": [
      "****x d****\n"
     ]
    },
    {
     "name": "stdin",
     "output_type": "stream",
     "text": [
      " javaScript\n",
      " $\n"
     ]
    },
    {
     "name": "stdout",
     "output_type": "stream",
     "text": [
      "****xbase****\n"
     ]
    },
    {
     "name": "stdin",
     "output_type": "stream",
     "text": [
      " JavaScript\n",
      " C#\n",
      " python\n"
     ]
    },
    {
     "name": "stdout",
     "output_type": "stream",
     "text": [
      "****xbase++****\n"
     ]
    },
    {
     "name": "stdin",
     "output_type": "stream",
     "text": [
      " javaScript\n",
      " C#\n",
      " Python\n"
     ]
    },
    {
     "name": "stdout",
     "output_type": "stream",
     "text": [
      "****xl****\n"
     ]
    },
    {
     "name": "stdin",
     "output_type": "stream",
     "text": [
      " Python\n",
      " Haskell\n",
      " C++\n"
     ]
    },
    {
     "name": "stdout",
     "output_type": "stream",
     "text": [
      "****xlisp****\n"
     ]
    },
    {
     "name": "stdin",
     "output_type": "stream",
     "text": [
      " Lisp\n",
      " CLisp\n",
      " Haskell\n"
     ]
    },
    {
     "name": "stdout",
     "output_type": "stream",
     "text": [
      "****xlogo****\n"
     ]
    },
    {
     "name": "stdin",
     "output_type": "stream",
     "text": [
      " Logo\n",
      " Basic\n",
      " C\n"
     ]
    },
    {
     "name": "stdout",
     "output_type": "stream",
     "text": [
      "****xml****\n"
     ]
    },
    {
     "name": "stdin",
     "output_type": "stream",
     "text": [
      " HTML\n",
      " JSON\n",
      " Yaml\n"
     ]
    },
    {
     "name": "stdout",
     "output_type": "stream",
     "text": [
      "****xpl0****\n"
     ]
    },
    {
     "name": "stdin",
     "output_type": "stream",
     "text": [
      " Pasal \n",
      " C\n",
      " $\n"
     ]
    },
    {
     "name": "stdout",
     "output_type": "stream",
     "text": [
      "****xquery****\n"
     ]
    },
    {
     "name": "stdin",
     "output_type": "stream",
     "text": [
      " XPath\n",
      " XSLT\n",
      " XML\n"
     ]
    },
    {
     "name": "stdout",
     "output_type": "stream",
     "text": [
      "****xrf****\n"
     ]
    },
    {
     "name": "stdin",
     "output_type": "stream",
     "text": [
      " Esolang\n",
      " $\n"
     ]
    },
    {
     "name": "stdout",
     "output_type": "stream",
     "text": [
      "****xslt****\n"
     ]
    },
    {
     "name": "stdin",
     "output_type": "stream",
     "text": [
      " XML\n",
      " XPAth\n",
      " XSL\n"
     ]
    },
    {
     "name": "stdout",
     "output_type": "stream",
     "text": [
      "****xul****\n"
     ]
    },
    {
     "name": "stdin",
     "output_type": "stream",
     "text": [
      " C++\n",
      " $\n"
     ]
    },
    {
     "name": "stdout",
     "output_type": "stream",
     "text": [
      "****y****\n"
     ]
    },
    {
     "name": "stdin",
     "output_type": "stream",
     "text": [
      " stack-based memory \n",
      " Esolang\n",
      " $\n"
     ]
    },
    {
     "name": "stdout",
     "output_type": "stream",
     "text": [
      "****yaml****\n"
     ]
    },
    {
     "name": "stdin",
     "output_type": "stream",
     "text": [
      " xml\n",
      " html\n",
      " $\n"
     ]
    },
    {
     "name": "stdout",
     "output_type": "stream",
     "text": [
      "****yolang****\n"
     ]
    },
    {
     "name": "stdin",
     "output_type": "stream",
     "text": [
      " $\n"
     ]
    },
    {
     "name": "stdout",
     "output_type": "stream",
     "text": [
      "****yoptascript****\n"
     ]
    },
    {
     "name": "stdin",
     "output_type": "stream",
     "text": [
      " Angular\n",
      " Javascript\n",
      " React\n"
     ]
    },
    {
     "name": "stdout",
     "output_type": "stream",
     "text": [
      "****zbd****\n"
     ]
    },
    {
     "name": "stdin",
     "output_type": "stream",
     "text": [
      " $\n"
     ]
    },
    {
     "name": "stdout",
     "output_type": "stream",
     "text": [
      "****zepto****\n"
     ]
    },
    {
     "name": "stdin",
     "output_type": "stream",
     "text": [
      " $\n"
     ]
    },
    {
     "name": "stdout",
     "output_type": "stream",
     "text": [
      "****zetaplex****\n"
     ]
    },
    {
     "name": "stdin",
     "output_type": "stream",
     "text": [
      " Esolang\n",
      " $\n"
     ]
    },
    {
     "name": "stdout",
     "output_type": "stream",
     "text": [
      "****zim****\n"
     ]
    },
    {
     "name": "stdin",
     "output_type": "stream",
     "text": [
      " Python\n",
      " GTK\n",
      " Text Editor\n"
     ]
    },
    {
     "name": "stdout",
     "output_type": "stream",
     "text": [
      "****zimbu****\n"
     ]
    },
    {
     "name": "stdin",
     "output_type": "stream",
     "text": [
      " Java\n",
      " Ruby\n",
      " Python\n"
     ]
    },
    {
     "name": "stdout",
     "output_type": "stream",
     "text": [
      "****zinc****\n"
     ]
    },
    {
     "name": "stdin",
     "output_type": "stream",
     "text": [
      " C\n",
      " Ruby\n",
      " $\n"
     ]
    },
    {
     "name": "stdout",
     "output_type": "stream",
     "text": [
      "****zombie****\n"
     ]
    },
    {
     "name": "stdin",
     "output_type": "stream",
     "text": [
      " $\n"
     ]
    },
    {
     "name": "stdout",
     "output_type": "stream",
     "text": [
      "****zonnon****\n"
     ]
    },
    {
     "name": "stdin",
     "output_type": "stream",
     "text": [
      " Seed7\n",
      " IDL\n",
      " Visual Basic\n"
     ]
    },
    {
     "name": "stdout",
     "output_type": "stream",
     "text": [
      "****zsh****\n"
     ]
    },
    {
     "name": "stdin",
     "output_type": "stream",
     "text": [
      " shell\n",
      " bash'\n",
      " cmd\n"
     ]
    },
    {
     "name": "stdout",
     "output_type": "stream",
     "text": [
      "****Î¼Î»****\n"
     ]
    },
    {
     "name": "stdin",
     "output_type": "stream",
     "text": [
      " $\n"
     ]
    }
   ],
   "source": [
    "for key,value in d.items():\n",
    "    print(\"****\"+key+\"****\")\n",
    "    pyperclip.copy(key)\n",
    "    for j in range(3):\n",
    "        x = input()\n",
    "        if x=='$':\n",
    "            break\n",
    "        else:\n",
    "            value.append(x)"
   ]
  },
  {
   "cell_type": "code",
   "execution_count": 13,
   "metadata": {},
   "outputs": [],
   "source": [
    "with open(\"Similar Words.txt\",'w+') as f:\n",
    "    f.write(str(d))"
   ]
  },
  {
   "cell_type": "code",
   "execution_count": null,
   "metadata": {},
   "outputs": [],
   "source": []
  }
 ],
 "metadata": {
  "kernelspec": {
   "display_name": "Python 3",
   "language": "python",
   "name": "python3"
  },
  "language_info": {
   "codemirror_mode": {
    "name": "ipython",
    "version": 3
   },
   "file_extension": ".py",
   "mimetype": "text/x-python",
   "name": "python",
   "nbconvert_exporter": "python",
   "pygments_lexer": "ipython3",
   "version": "3.8.5"
  }
 },
 "nbformat": 4,
 "nbformat_minor": 4
}
