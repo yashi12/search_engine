{
 "cells": [
  {
   "cell_type": "code",
   "execution_count": 174,
   "id": "swedish-transmission",
   "metadata": {},
   "outputs": [],
   "source": [
    "import pandas as pd\n",
    "import numpy as np"
   ]
  },
  {
   "cell_type": "code",
   "execution_count": 175,
   "id": "fabulous-characteristic",
   "metadata": {},
   "outputs": [],
   "source": [
    "df = pd.read_csv(\"dat.csv\")"
   ]
  },
  {
   "cell_type": "code",
   "execution_count": 176,
   "id": "twenty-block",
   "metadata": {},
   "outputs": [
    {
     "data": {
      "text/html": [
       "<div>\n",
       "<style scoped>\n",
       "    .dataframe tbody tr th:only-of-type {\n",
       "        vertical-align: middle;\n",
       "    }\n",
       "\n",
       "    .dataframe tbody tr th {\n",
       "        vertical-align: top;\n",
       "    }\n",
       "\n",
       "    .dataframe thead th {\n",
       "        text-align: right;\n",
       "    }\n",
       "</style>\n",
       "<table border=\"1\" class=\"dataframe\">\n",
       "  <thead>\n",
       "    <tr style=\"text-align: right;\">\n",
       "      <th></th>\n",
       "      <th>Topic</th>\n",
       "      <th>Outcomes</th>\n",
       "      <th>Description</th>\n",
       "      <th>Opportunity</th>\n",
       "      <th>Prerequisite</th>\n",
       "    </tr>\n",
       "  </thead>\n",
       "  <tbody>\n",
       "    <tr>\n",
       "      <th>0</th>\n",
       "      <td>NaN</td>\n",
       "      <td>NaN</td>\n",
       "      <td>NaN</td>\n",
       "      <td>NaN</td>\n",
       "      <td>NaN</td>\n",
       "    </tr>\n",
       "    <tr>\n",
       "      <th>1</th>\n",
       "      <td>NaN</td>\n",
       "      <td>NaN</td>\n",
       "      <td>NaN</td>\n",
       "      <td>NaN</td>\n",
       "      <td>NaN</td>\n",
       "    </tr>\n",
       "    <tr>\n",
       "      <th>2</th>\n",
       "      <td>NaN</td>\n",
       "      <td>NaN</td>\n",
       "      <td>NaN</td>\n",
       "      <td>NaN</td>\n",
       "      <td>NaN</td>\n",
       "    </tr>\n",
       "    <tr>\n",
       "      <th>3</th>\n",
       "      <td>NaN</td>\n",
       "      <td>NaN</td>\n",
       "      <td>NaN</td>\n",
       "      <td>NaN</td>\n",
       "      <td>NaN</td>\n",
       "    </tr>\n",
       "    <tr>\n",
       "      <th>4</th>\n",
       "      <td>NaN</td>\n",
       "      <td>NaN</td>\n",
       "      <td>NaN</td>\n",
       "      <td>NaN</td>\n",
       "      <td>NaN</td>\n",
       "    </tr>\n",
       "  </tbody>\n",
       "</table>\n",
       "</div>"
      ],
      "text/plain": [
       "  Topic Outcomes Description Opportunity Prerequisite\n",
       "0   NaN      NaN         NaN         NaN          NaN\n",
       "1   NaN      NaN         NaN         NaN          NaN\n",
       "2   NaN      NaN         NaN         NaN          NaN\n",
       "3   NaN      NaN         NaN         NaN          NaN\n",
       "4   NaN      NaN         NaN         NaN          NaN"
      ]
     },
     "execution_count": 176,
     "metadata": {},
     "output_type": "execute_result"
    }
   ],
   "source": [
    "df.head()"
   ]
  },
  {
   "cell_type": "code",
   "execution_count": 177,
   "id": "similar-albany",
   "metadata": {},
   "outputs": [],
   "source": [
    "topic,out,des,opp,pre = df['Topic'].values,df['Outcomes'].values,df['Description'].values,df['Opportunity'].values,df['Prerequisite'].values"
   ]
  },
  {
   "cell_type": "code",
   "execution_count": 178,
   "id": "allied-leeds",
   "metadata": {},
   "outputs": [],
   "source": [
    "for i in range(len(topic)):\n",
    "    if str(topic[i])!=\"nan\":\n",
    "        topic[i] =topic[i][2:-4].lower()"
   ]
  },
  {
   "cell_type": "code",
   "execution_count": 179,
   "id": "moderate-prisoner",
   "metadata": {},
   "outputs": [],
   "source": [
    "for i in range(len(out)):\n",
    "    if str(out[i])!=\"nan\":\n",
    "        out[i] = out[i][2:-2].lower()"
   ]
  },
  {
   "cell_type": "code",
   "execution_count": 180,
   "id": "informative-arthur",
   "metadata": {},
   "outputs": [],
   "source": [
    "for i in range(len(des)):\n",
    "    if str(des[i])!=\"nan\":\n",
    "        des[i] = des[i][2:-2].lower()"
   ]
  },
  {
   "cell_type": "code",
   "execution_count": 181,
   "id": "creative-adams",
   "metadata": {},
   "outputs": [],
   "source": [
    "for i in range(len(opp)):\n",
    "    if str(opp[i])!=\"nan\":\n",
    "        opp[i] = opp[i][2:-2].lower()"
   ]
  },
  {
   "cell_type": "code",
   "execution_count": 182,
   "id": "patient-patrol",
   "metadata": {},
   "outputs": [],
   "source": [
    "for i in range(len(pre)):\n",
    "    if str(pre[i])!=\"nan\":\n",
    "        pre[i] = pre[i][2:-2].lower()"
   ]
  },
  {
   "cell_type": "code",
   "execution_count": 183,
   "id": "martial-timeline",
   "metadata": {},
   "outputs": [],
   "source": [
    "df = pd.DataFrame(list(zip(topic,out,des,opp,pre)),columns=['Topic','Outcomes','Description','Opportunity','Prerequisite'])"
   ]
  },
  {
   "cell_type": "code",
   "execution_count": 184,
   "id": "terminal-munich",
   "metadata": {},
   "outputs": [],
   "source": [
    "df = df.dropna()"
   ]
  },
  {
   "cell_type": "code",
   "execution_count": 185,
   "id": "different-break",
   "metadata": {},
   "outputs": [],
   "source": [
    "df.to_csv(\"DESTO.csv\",index=False)"
   ]
  },
  {
   "cell_type": "code",
   "execution_count": null,
   "id": "instrumental-height",
   "metadata": {},
   "outputs": [],
   "source": []
  },
  {
   "cell_type": "code",
   "execution_count": null,
   "id": "transparent-austria",
   "metadata": {},
   "outputs": [],
   "source": []
  }
 ],
 "metadata": {
  "kernelspec": {
   "display_name": "Python 3",
   "language": "python",
   "name": "python3"
  },
  "language_info": {
   "codemirror_mode": {
    "name": "ipython",
    "version": 3
   },
   "file_extension": ".py",
   "mimetype": "text/x-python",
   "name": "python",
   "nbconvert_exporter": "python",
   "pygments_lexer": "ipython3",
   "version": "3.8.5"
  }
 },
 "nbformat": 4,
 "nbformat_minor": 5
}
