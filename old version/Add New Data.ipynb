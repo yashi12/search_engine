{
 "cells": [
  {
   "cell_type": "code",
   "execution_count": 3,
   "id": "musical-ghana",
   "metadata": {},
   "outputs": [],
   "source": [
    "import pandas  as pd"
   ]
  },
  {
   "cell_type": "code",
   "execution_count": 2,
   "id": "greater-agent",
   "metadata": {},
   "outputs": [],
   "source": [
    "df = pd.read_csv(\"DataSet2.csv\")"
   ]
  },
  {
   "cell_type": "code",
   "execution_count": 3,
   "id": "pleased-sucking",
   "metadata": {},
   "outputs": [
    {
     "data": {
      "text/html": [
       "<div>\n",
       "<style scoped>\n",
       "    .dataframe tbody tr th:only-of-type {\n",
       "        vertical-align: middle;\n",
       "    }\n",
       "\n",
       "    .dataframe tbody tr th {\n",
       "        vertical-align: top;\n",
       "    }\n",
       "\n",
       "    .dataframe thead th {\n",
       "        text-align: right;\n",
       "    }\n",
       "</style>\n",
       "<table border=\"1\" class=\"dataframe\">\n",
       "  <thead>\n",
       "    <tr style=\"text-align: right;\">\n",
       "      <th></th>\n",
       "      <th>X</th>\n",
       "      <th>y</th>\n",
       "    </tr>\n",
       "  </thead>\n",
       "  <tbody>\n",
       "    <tr>\n",
       "      <th>0</th>\n",
       "      <td>Global Master of Public Health</td>\n",
       "      <td>05ab1e</td>\n",
       "    </tr>\n",
       "    <tr>\n",
       "      <th>1</th>\n",
       "      <td>Maestría en Inteligencia Analítica de Datos</td>\n",
       "      <td>05ab1e</td>\n",
       "    </tr>\n",
       "    <tr>\n",
       "      <th>2</th>\n",
       "      <td>MSc in Innovation and Entrepreneurship</td>\n",
       "      <td>05ab1e</td>\n",
       "    </tr>\n",
       "    <tr>\n",
       "      <th>3</th>\n",
       "      <td>Master of Computer Science</td>\n",
       "      <td>05ab1e</td>\n",
       "    </tr>\n",
       "    <tr>\n",
       "      <th>4</th>\n",
       "      <td>Master of Science in Management (iMSM)</td>\n",
       "      <td>05ab1e</td>\n",
       "    </tr>\n",
       "    <tr>\n",
       "      <th>...</th>\n",
       "      <td>...</td>\n",
       "      <td>...</td>\n",
       "    </tr>\n",
       "    <tr>\n",
       "      <th>4455</th>\n",
       "      <td>Global Master of Public Health</td>\n",
       "      <td>zsh</td>\n",
       "    </tr>\n",
       "    <tr>\n",
       "      <th>4456</th>\n",
       "      <td>Maestría en Inteligencia Analítica de Datos</td>\n",
       "      <td>zsh</td>\n",
       "    </tr>\n",
       "    <tr>\n",
       "      <th>4457</th>\n",
       "      <td>MSc in Innovation and Entrepreneurship</td>\n",
       "      <td>zsh</td>\n",
       "    </tr>\n",
       "    <tr>\n",
       "      <th>4458</th>\n",
       "      <td>Master of Computer Science</td>\n",
       "      <td>zsh</td>\n",
       "    </tr>\n",
       "    <tr>\n",
       "      <th>4459</th>\n",
       "      <td>Master of Science in Management (iMSM)</td>\n",
       "      <td>zsh</td>\n",
       "    </tr>\n",
       "  </tbody>\n",
       "</table>\n",
       "<p>4460 rows × 2 columns</p>\n",
       "</div>"
      ],
      "text/plain": [
       "                                                X       y\n",
       "0                  Global Master of Public Health  05ab1e\n",
       "1     Maestría en Inteligencia Analítica de Datos  05ab1e\n",
       "2          MSc in Innovation and Entrepreneurship  05ab1e\n",
       "3                      Master of Computer Science  05ab1e\n",
       "4          Master of Science in Management (iMSM)  05ab1e\n",
       "...                                           ...     ...\n",
       "4455               Global Master of Public Health     zsh\n",
       "4456  Maestría en Inteligencia Analítica de Datos     zsh\n",
       "4457       MSc in Innovation and Entrepreneurship     zsh\n",
       "4458                   Master of Computer Science     zsh\n",
       "4459       Master of Science in Management (iMSM)     zsh\n",
       "\n",
       "[4460 rows x 2 columns]"
      ]
     },
     "execution_count": 3,
     "metadata": {},
     "output_type": "execute_result"
    }
   ],
   "source": [
    "df"
   ]
  },
  {
   "cell_type": "code",
   "execution_count": 4,
   "id": "cleared-windsor",
   "metadata": {},
   "outputs": [],
   "source": [
    "data = []\n",
    "\n",
    "lang = []\n",
    "with open(\"All_Languages.txt\",\"r+\") as f:\n",
    "    lang = f.read().split(\"\\n\")"
   ]
  },
  {
   "cell_type": "code",
   "execution_count": 5,
   "id": "transparent-length",
   "metadata": {},
   "outputs": [],
   "source": [
    "#data = df.values.tolist()"
   ]
  },
  {
   "cell_type": "code",
   "execution_count": 6,
   "id": "wound-antarctica",
   "metadata": {},
   "outputs": [],
   "source": [
    "for i in range(len(lang)):\n",
    "    data.append([\"introduction to \"+lang[i],lang[i]])\n",
    "    data.append([\"basics of \"+lang[i],lang[i]])\n",
    "    data.append([\"getting started with \"+lang[i],lang[i]])\n",
    "    data.append([\"roadmap for \"+lang[i],lang[i]])\n",
    "    data.append([\"i want to learn \"+lang[i],lang[i]])\n",
    "    data.append([\"how to excel in \"+lang[i],lang[i]])\n",
    "    data.append([\"i want to learn \"+lang[i]+\" not \"+lang[(i+1)%len(lang)],lang[i]])"
   ]
  },
  {
   "cell_type": "code",
   "execution_count": 7,
   "id": "textile-strain",
   "metadata": {},
   "outputs": [
    {
     "data": {
      "text/plain": [
       "[['i want to learn zsh', 'zsh'],\n",
       " ['how to excel in zsh', 'zsh'],\n",
       " ['i want to learn zsh not Î¼Î»', 'zsh'],\n",
       " ['introduction to Î¼Î»', 'Î¼Î»'],\n",
       " ['basics of Î¼Î»', 'Î¼Î»'],\n",
       " ['getting started with Î¼Î»', 'Î¼Î»'],\n",
       " ['roadmap for Î¼Î»', 'Î¼Î»'],\n",
       " ['i want to learn Î¼Î»', 'Î¼Î»'],\n",
       " ['how to excel in Î¼Î»', 'Î¼Î»'],\n",
       " ['i want to learn Î¼Î» not 05ab1e', 'Î¼Î»']]"
      ]
     },
     "execution_count": 7,
     "metadata": {},
     "output_type": "execute_result"
    }
   ],
   "source": [
    "data[-10:]"
   ]
  },
  {
   "cell_type": "code",
   "execution_count": 8,
   "id": "statewide-worth",
   "metadata": {},
   "outputs": [],
   "source": [
    "df_final = pd.DataFrame(data,columns=[\"X\",\"y\"])"
   ]
  },
  {
   "cell_type": "code",
   "execution_count": 9,
   "id": "agreed-liability",
   "metadata": {},
   "outputs": [],
   "source": [
    "df_final.to_csv(\"DataSet3.csv\",index=False)"
   ]
  },
  {
   "cell_type": "code",
   "execution_count": null,
   "id": "political-candidate",
   "metadata": {},
   "outputs": [],
   "source": []
  }
 ],
 "metadata": {
  "kernelspec": {
   "display_name": "Python 3",
   "language": "python",
   "name": "python3"
  },
  "language_info": {
   "codemirror_mode": {
    "name": "ipython",
    "version": 3
   },
   "file_extension": ".py",
   "mimetype": "text/x-python",
   "name": "python",
   "nbconvert_exporter": "python",
   "pygments_lexer": "ipython3",
   "version": "3.8.5"
  }
 },
 "nbformat": 4,
 "nbformat_minor": 5
}
